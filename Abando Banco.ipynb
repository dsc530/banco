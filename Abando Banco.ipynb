{
 "cells": [
  {
   "cell_type": "markdown",
   "metadata": {},
   "source": [
    "# PROYECTO CLIENTES BETA BANK"
   ]
  },
  {
   "cell_type": "markdown",
   "metadata": {},
   "source": [
    "## Descripción y Objetivos"
   ]
  },
  {
   "cell_type": "markdown",
   "metadata": {},
   "source": [
    "Considerando que el costo de adquisición de nuevos clientes es mayor que mantener a los que ya se tienen, necesitamos predecir si un cliente dejará el banco. \n",
    "Vamos a utilizar los datos sobre el comportamiento pasado de los clientes y la terminación de contratos con el banco.\n",
    "\n",
    "\n",
    "\n"
   ]
  },
  {
   "cell_type": "markdown",
   "metadata": {},
   "source": [
    "Obetivos:\n",
    "- Crear un modelo de machine learning que prediga el comportamiento de los clientes del banco.\n",
    "- Tomar en cuenta como métrica de éxito del modelo, la variable F1.\n",
    "- Conseguir un valor F1 de al menos 0.59 (determinado en un análisis previo) para un conjunto de datos de prueba.\n",
    "- Complementar el análisis del modelo con la métrica AUC-ROC y su comparación con F1."
   ]
  },
  {
   "cell_type": "markdown",
   "metadata": {},
   "source": [
    "## Importación de Librerías"
   ]
  },
  {
   "cell_type": "code",
   "execution_count": 1,
   "metadata": {},
   "outputs": [],
   "source": [
    "#Librerías Manejo de Datos\n",
    "import pandas as pd\n",
    "import numpy as np\n",
    "import matplotlib.pyplot as plt\n",
    "\n",
    "#Librerías de modelos\n",
    "from sklearn.tree import DecisionTreeClassifier\n",
    "from sklearn.ensemble import RandomForestClassifier\n",
    "from sklearn.linear_model import LogisticRegression\n",
    "\n",
    "#Librería separación\n",
    "from sklearn.model_selection import train_test_split\n",
    "\n",
    "#Librería codificación y estandarización\n",
    "from sklearn.preprocessing import OrdinalEncoder\n",
    "from sklearn.preprocessing import StandardScaler\n",
    "\n",
    "#Librería de Métricas\n",
    "from sklearn.metrics import accuracy_score,confusion_matrix,classification_report,recall_score,precision_score,f1_score,roc_auc_score\n",
    "\n",
    "from sklearn.utils import shuffle\n",
    "\n"
   ]
  },
  {
   "cell_type": "markdown",
   "metadata": {},
   "source": [
    "## Importación de Datos"
   ]
  },
  {
   "cell_type": "code",
   "execution_count": 2,
   "metadata": {},
   "outputs": [],
   "source": [
    "#Importamos los datos y asignamos a los índices los valores de la columna Row\n",
    "clients = pd.read_csv('/datasets/Churn.csv', index_col='RowNumber')"
   ]
  },
  {
   "cell_type": "code",
   "execution_count": 3,
   "metadata": {},
   "outputs": [
    {
     "name": "stdout",
     "output_type": "stream",
     "text": [
      "<class 'pandas.core.frame.DataFrame'>\n",
      "Int64Index: 10000 entries, 1 to 10000\n",
      "Data columns (total 13 columns):\n",
      " #   Column           Non-Null Count  Dtype  \n",
      "---  ------           --------------  -----  \n",
      " 0   CustomerId       10000 non-null  int64  \n",
      " 1   Surname          10000 non-null  object \n",
      " 2   CreditScore      10000 non-null  int64  \n",
      " 3   Geography        10000 non-null  object \n",
      " 4   Gender           10000 non-null  object \n",
      " 5   Age              10000 non-null  int64  \n",
      " 6   Tenure           9091 non-null   float64\n",
      " 7   Balance          10000 non-null  float64\n",
      " 8   NumOfProducts    10000 non-null  int64  \n",
      " 9   HasCrCard        10000 non-null  int64  \n",
      " 10  IsActiveMember   10000 non-null  int64  \n",
      " 11  EstimatedSalary  10000 non-null  float64\n",
      " 12  Exited           10000 non-null  int64  \n",
      "dtypes: float64(3), int64(7), object(3)\n",
      "memory usage: 1.1+ MB\n"
     ]
    }
   ],
   "source": [
    "clients.info()"
   ]
  },
  {
   "cell_type": "code",
   "execution_count": 4,
   "metadata": {},
   "outputs": [
    {
     "data": {
      "text/html": [
       "<div>\n",
       "<style scoped>\n",
       "    .dataframe tbody tr th:only-of-type {\n",
       "        vertical-align: middle;\n",
       "    }\n",
       "\n",
       "    .dataframe tbody tr th {\n",
       "        vertical-align: top;\n",
       "    }\n",
       "\n",
       "    .dataframe thead th {\n",
       "        text-align: right;\n",
       "    }\n",
       "</style>\n",
       "<table border=\"1\" class=\"dataframe\">\n",
       "  <thead>\n",
       "    <tr style=\"text-align: right;\">\n",
       "      <th></th>\n",
       "      <th>CustomerId</th>\n",
       "      <th>Surname</th>\n",
       "      <th>CreditScore</th>\n",
       "      <th>Geography</th>\n",
       "      <th>Gender</th>\n",
       "      <th>Age</th>\n",
       "      <th>Tenure</th>\n",
       "      <th>Balance</th>\n",
       "      <th>NumOfProducts</th>\n",
       "      <th>HasCrCard</th>\n",
       "      <th>IsActiveMember</th>\n",
       "      <th>EstimatedSalary</th>\n",
       "      <th>Exited</th>\n",
       "    </tr>\n",
       "    <tr>\n",
       "      <th>RowNumber</th>\n",
       "      <th></th>\n",
       "      <th></th>\n",
       "      <th></th>\n",
       "      <th></th>\n",
       "      <th></th>\n",
       "      <th></th>\n",
       "      <th></th>\n",
       "      <th></th>\n",
       "      <th></th>\n",
       "      <th></th>\n",
       "      <th></th>\n",
       "      <th></th>\n",
       "      <th></th>\n",
       "    </tr>\n",
       "  </thead>\n",
       "  <tbody>\n",
       "    <tr>\n",
       "      <th>1</th>\n",
       "      <td>15634602</td>\n",
       "      <td>Hargrave</td>\n",
       "      <td>619</td>\n",
       "      <td>France</td>\n",
       "      <td>Female</td>\n",
       "      <td>42</td>\n",
       "      <td>2.0</td>\n",
       "      <td>0.00</td>\n",
       "      <td>1</td>\n",
       "      <td>1</td>\n",
       "      <td>1</td>\n",
       "      <td>101348.88</td>\n",
       "      <td>1</td>\n",
       "    </tr>\n",
       "    <tr>\n",
       "      <th>2</th>\n",
       "      <td>15647311</td>\n",
       "      <td>Hill</td>\n",
       "      <td>608</td>\n",
       "      <td>Spain</td>\n",
       "      <td>Female</td>\n",
       "      <td>41</td>\n",
       "      <td>1.0</td>\n",
       "      <td>83807.86</td>\n",
       "      <td>1</td>\n",
       "      <td>0</td>\n",
       "      <td>1</td>\n",
       "      <td>112542.58</td>\n",
       "      <td>0</td>\n",
       "    </tr>\n",
       "    <tr>\n",
       "      <th>3</th>\n",
       "      <td>15619304</td>\n",
       "      <td>Onio</td>\n",
       "      <td>502</td>\n",
       "      <td>France</td>\n",
       "      <td>Female</td>\n",
       "      <td>42</td>\n",
       "      <td>8.0</td>\n",
       "      <td>159660.80</td>\n",
       "      <td>3</td>\n",
       "      <td>1</td>\n",
       "      <td>0</td>\n",
       "      <td>113931.57</td>\n",
       "      <td>1</td>\n",
       "    </tr>\n",
       "    <tr>\n",
       "      <th>4</th>\n",
       "      <td>15701354</td>\n",
       "      <td>Boni</td>\n",
       "      <td>699</td>\n",
       "      <td>France</td>\n",
       "      <td>Female</td>\n",
       "      <td>39</td>\n",
       "      <td>1.0</td>\n",
       "      <td>0.00</td>\n",
       "      <td>2</td>\n",
       "      <td>0</td>\n",
       "      <td>0</td>\n",
       "      <td>93826.63</td>\n",
       "      <td>0</td>\n",
       "    </tr>\n",
       "    <tr>\n",
       "      <th>5</th>\n",
       "      <td>15737888</td>\n",
       "      <td>Mitchell</td>\n",
       "      <td>850</td>\n",
       "      <td>Spain</td>\n",
       "      <td>Female</td>\n",
       "      <td>43</td>\n",
       "      <td>2.0</td>\n",
       "      <td>125510.82</td>\n",
       "      <td>1</td>\n",
       "      <td>1</td>\n",
       "      <td>1</td>\n",
       "      <td>79084.10</td>\n",
       "      <td>0</td>\n",
       "    </tr>\n",
       "    <tr>\n",
       "      <th>6</th>\n",
       "      <td>15574012</td>\n",
       "      <td>Chu</td>\n",
       "      <td>645</td>\n",
       "      <td>Spain</td>\n",
       "      <td>Male</td>\n",
       "      <td>44</td>\n",
       "      <td>8.0</td>\n",
       "      <td>113755.78</td>\n",
       "      <td>2</td>\n",
       "      <td>1</td>\n",
       "      <td>0</td>\n",
       "      <td>149756.71</td>\n",
       "      <td>1</td>\n",
       "    </tr>\n",
       "    <tr>\n",
       "      <th>7</th>\n",
       "      <td>15592531</td>\n",
       "      <td>Bartlett</td>\n",
       "      <td>822</td>\n",
       "      <td>France</td>\n",
       "      <td>Male</td>\n",
       "      <td>50</td>\n",
       "      <td>7.0</td>\n",
       "      <td>0.00</td>\n",
       "      <td>2</td>\n",
       "      <td>1</td>\n",
       "      <td>1</td>\n",
       "      <td>10062.80</td>\n",
       "      <td>0</td>\n",
       "    </tr>\n",
       "    <tr>\n",
       "      <th>8</th>\n",
       "      <td>15656148</td>\n",
       "      <td>Obinna</td>\n",
       "      <td>376</td>\n",
       "      <td>Germany</td>\n",
       "      <td>Female</td>\n",
       "      <td>29</td>\n",
       "      <td>4.0</td>\n",
       "      <td>115046.74</td>\n",
       "      <td>4</td>\n",
       "      <td>1</td>\n",
       "      <td>0</td>\n",
       "      <td>119346.88</td>\n",
       "      <td>1</td>\n",
       "    </tr>\n",
       "    <tr>\n",
       "      <th>9</th>\n",
       "      <td>15792365</td>\n",
       "      <td>He</td>\n",
       "      <td>501</td>\n",
       "      <td>France</td>\n",
       "      <td>Male</td>\n",
       "      <td>44</td>\n",
       "      <td>4.0</td>\n",
       "      <td>142051.07</td>\n",
       "      <td>2</td>\n",
       "      <td>0</td>\n",
       "      <td>1</td>\n",
       "      <td>74940.50</td>\n",
       "      <td>0</td>\n",
       "    </tr>\n",
       "    <tr>\n",
       "      <th>10</th>\n",
       "      <td>15592389</td>\n",
       "      <td>H?</td>\n",
       "      <td>684</td>\n",
       "      <td>France</td>\n",
       "      <td>Male</td>\n",
       "      <td>27</td>\n",
       "      <td>2.0</td>\n",
       "      <td>134603.88</td>\n",
       "      <td>1</td>\n",
       "      <td>1</td>\n",
       "      <td>1</td>\n",
       "      <td>71725.73</td>\n",
       "      <td>0</td>\n",
       "    </tr>\n",
       "  </tbody>\n",
       "</table>\n",
       "</div>"
      ],
      "text/plain": [
       "           CustomerId   Surname  CreditScore Geography  Gender  Age  Tenure  \\\n",
       "RowNumber                                                                     \n",
       "1            15634602  Hargrave          619    France  Female   42     2.0   \n",
       "2            15647311      Hill          608     Spain  Female   41     1.0   \n",
       "3            15619304      Onio          502    France  Female   42     8.0   \n",
       "4            15701354      Boni          699    France  Female   39     1.0   \n",
       "5            15737888  Mitchell          850     Spain  Female   43     2.0   \n",
       "6            15574012       Chu          645     Spain    Male   44     8.0   \n",
       "7            15592531  Bartlett          822    France    Male   50     7.0   \n",
       "8            15656148    Obinna          376   Germany  Female   29     4.0   \n",
       "9            15792365        He          501    France    Male   44     4.0   \n",
       "10           15592389        H?          684    France    Male   27     2.0   \n",
       "\n",
       "             Balance  NumOfProducts  HasCrCard  IsActiveMember  \\\n",
       "RowNumber                                                        \n",
       "1               0.00              1          1               1   \n",
       "2           83807.86              1          0               1   \n",
       "3          159660.80              3          1               0   \n",
       "4               0.00              2          0               0   \n",
       "5          125510.82              1          1               1   \n",
       "6          113755.78              2          1               0   \n",
       "7               0.00              2          1               1   \n",
       "8          115046.74              4          1               0   \n",
       "9          142051.07              2          0               1   \n",
       "10         134603.88              1          1               1   \n",
       "\n",
       "           EstimatedSalary  Exited  \n",
       "RowNumber                           \n",
       "1                101348.88       1  \n",
       "2                112542.58       0  \n",
       "3                113931.57       1  \n",
       "4                 93826.63       0  \n",
       "5                 79084.10       0  \n",
       "6                149756.71       1  \n",
       "7                 10062.80       0  \n",
       "8                119346.88       1  \n",
       "9                 74940.50       0  \n",
       "10                71725.73       0  "
      ]
     },
     "execution_count": 4,
     "metadata": {},
     "output_type": "execute_result"
    }
   ],
   "source": [
    "clients.head(10)"
   ]
  },
  {
   "cell_type": "markdown",
   "metadata": {},
   "source": [
    "## PRE PROCESAMIENTO DATOS"
   ]
  },
  {
   "cell_type": "markdown",
   "metadata": {},
   "source": [
    "### Comprobación Duplicados"
   ]
  },
  {
   "cell_type": "code",
   "execution_count": 5,
   "metadata": {},
   "outputs": [
    {
     "data": {
      "text/html": [
       "<div>\n",
       "<style scoped>\n",
       "    .dataframe tbody tr th:only-of-type {\n",
       "        vertical-align: middle;\n",
       "    }\n",
       "\n",
       "    .dataframe tbody tr th {\n",
       "        vertical-align: top;\n",
       "    }\n",
       "\n",
       "    .dataframe thead th {\n",
       "        text-align: right;\n",
       "    }\n",
       "</style>\n",
       "<table border=\"1\" class=\"dataframe\">\n",
       "  <thead>\n",
       "    <tr style=\"text-align: right;\">\n",
       "      <th></th>\n",
       "      <th>CustomerId</th>\n",
       "      <th>Surname</th>\n",
       "      <th>CreditScore</th>\n",
       "      <th>Geography</th>\n",
       "      <th>Gender</th>\n",
       "      <th>Age</th>\n",
       "      <th>Tenure</th>\n",
       "      <th>Balance</th>\n",
       "      <th>NumOfProducts</th>\n",
       "      <th>HasCrCard</th>\n",
       "      <th>IsActiveMember</th>\n",
       "      <th>EstimatedSalary</th>\n",
       "      <th>Exited</th>\n",
       "    </tr>\n",
       "    <tr>\n",
       "      <th>RowNumber</th>\n",
       "      <th></th>\n",
       "      <th></th>\n",
       "      <th></th>\n",
       "      <th></th>\n",
       "      <th></th>\n",
       "      <th></th>\n",
       "      <th></th>\n",
       "      <th></th>\n",
       "      <th></th>\n",
       "      <th></th>\n",
       "      <th></th>\n",
       "      <th></th>\n",
       "      <th></th>\n",
       "    </tr>\n",
       "  </thead>\n",
       "  <tbody>\n",
       "  </tbody>\n",
       "</table>\n",
       "</div>"
      ],
      "text/plain": [
       "Empty DataFrame\n",
       "Columns: [CustomerId, Surname, CreditScore, Geography, Gender, Age, Tenure, Balance, NumOfProducts, HasCrCard, IsActiveMember, EstimatedSalary, Exited]\n",
       "Index: []"
      ]
     },
     "execution_count": 5,
     "metadata": {},
     "output_type": "execute_result"
    }
   ],
   "source": [
    "#Comprobación de duplicados\n",
    "clients[clients.duplicated()]"
   ]
  },
  {
   "cell_type": "markdown",
   "metadata": {},
   "source": [
    "No existen datos duplicados"
   ]
  },
  {
   "cell_type": "markdown",
   "metadata": {},
   "source": [
    "### Eliminación Columnas\n",
    "\n",
    "Debido a que el id y el apellido no son relevantes en el entrenamiento del modelo, se eliminan de la tabla"
   ]
  },
  {
   "cell_type": "code",
   "execution_count": 6,
   "metadata": {},
   "outputs": [],
   "source": [
    "clients = clients.drop(['CustomerId','Surname'],axis=1)"
   ]
  },
  {
   "cell_type": "code",
   "execution_count": 7,
   "metadata": {},
   "outputs": [
    {
     "data": {
      "text/html": [
       "<div>\n",
       "<style scoped>\n",
       "    .dataframe tbody tr th:only-of-type {\n",
       "        vertical-align: middle;\n",
       "    }\n",
       "\n",
       "    .dataframe tbody tr th {\n",
       "        vertical-align: top;\n",
       "    }\n",
       "\n",
       "    .dataframe thead th {\n",
       "        text-align: right;\n",
       "    }\n",
       "</style>\n",
       "<table border=\"1\" class=\"dataframe\">\n",
       "  <thead>\n",
       "    <tr style=\"text-align: right;\">\n",
       "      <th></th>\n",
       "      <th>CreditScore</th>\n",
       "      <th>Geography</th>\n",
       "      <th>Gender</th>\n",
       "      <th>Age</th>\n",
       "      <th>Tenure</th>\n",
       "      <th>Balance</th>\n",
       "      <th>NumOfProducts</th>\n",
       "      <th>HasCrCard</th>\n",
       "      <th>IsActiveMember</th>\n",
       "      <th>EstimatedSalary</th>\n",
       "      <th>Exited</th>\n",
       "    </tr>\n",
       "    <tr>\n",
       "      <th>RowNumber</th>\n",
       "      <th></th>\n",
       "      <th></th>\n",
       "      <th></th>\n",
       "      <th></th>\n",
       "      <th></th>\n",
       "      <th></th>\n",
       "      <th></th>\n",
       "      <th></th>\n",
       "      <th></th>\n",
       "      <th></th>\n",
       "      <th></th>\n",
       "    </tr>\n",
       "  </thead>\n",
       "  <tbody>\n",
       "    <tr>\n",
       "      <th>1</th>\n",
       "      <td>619</td>\n",
       "      <td>France</td>\n",
       "      <td>Female</td>\n",
       "      <td>42</td>\n",
       "      <td>2.0</td>\n",
       "      <td>0.00</td>\n",
       "      <td>1</td>\n",
       "      <td>1</td>\n",
       "      <td>1</td>\n",
       "      <td>101348.88</td>\n",
       "      <td>1</td>\n",
       "    </tr>\n",
       "    <tr>\n",
       "      <th>2</th>\n",
       "      <td>608</td>\n",
       "      <td>Spain</td>\n",
       "      <td>Female</td>\n",
       "      <td>41</td>\n",
       "      <td>1.0</td>\n",
       "      <td>83807.86</td>\n",
       "      <td>1</td>\n",
       "      <td>0</td>\n",
       "      <td>1</td>\n",
       "      <td>112542.58</td>\n",
       "      <td>0</td>\n",
       "    </tr>\n",
       "    <tr>\n",
       "      <th>3</th>\n",
       "      <td>502</td>\n",
       "      <td>France</td>\n",
       "      <td>Female</td>\n",
       "      <td>42</td>\n",
       "      <td>8.0</td>\n",
       "      <td>159660.80</td>\n",
       "      <td>3</td>\n",
       "      <td>1</td>\n",
       "      <td>0</td>\n",
       "      <td>113931.57</td>\n",
       "      <td>1</td>\n",
       "    </tr>\n",
       "    <tr>\n",
       "      <th>4</th>\n",
       "      <td>699</td>\n",
       "      <td>France</td>\n",
       "      <td>Female</td>\n",
       "      <td>39</td>\n",
       "      <td>1.0</td>\n",
       "      <td>0.00</td>\n",
       "      <td>2</td>\n",
       "      <td>0</td>\n",
       "      <td>0</td>\n",
       "      <td>93826.63</td>\n",
       "      <td>0</td>\n",
       "    </tr>\n",
       "    <tr>\n",
       "      <th>5</th>\n",
       "      <td>850</td>\n",
       "      <td>Spain</td>\n",
       "      <td>Female</td>\n",
       "      <td>43</td>\n",
       "      <td>2.0</td>\n",
       "      <td>125510.82</td>\n",
       "      <td>1</td>\n",
       "      <td>1</td>\n",
       "      <td>1</td>\n",
       "      <td>79084.10</td>\n",
       "      <td>0</td>\n",
       "    </tr>\n",
       "    <tr>\n",
       "      <th>...</th>\n",
       "      <td>...</td>\n",
       "      <td>...</td>\n",
       "      <td>...</td>\n",
       "      <td>...</td>\n",
       "      <td>...</td>\n",
       "      <td>...</td>\n",
       "      <td>...</td>\n",
       "      <td>...</td>\n",
       "      <td>...</td>\n",
       "      <td>...</td>\n",
       "      <td>...</td>\n",
       "    </tr>\n",
       "    <tr>\n",
       "      <th>9996</th>\n",
       "      <td>771</td>\n",
       "      <td>France</td>\n",
       "      <td>Male</td>\n",
       "      <td>39</td>\n",
       "      <td>5.0</td>\n",
       "      <td>0.00</td>\n",
       "      <td>2</td>\n",
       "      <td>1</td>\n",
       "      <td>0</td>\n",
       "      <td>96270.64</td>\n",
       "      <td>0</td>\n",
       "    </tr>\n",
       "    <tr>\n",
       "      <th>9997</th>\n",
       "      <td>516</td>\n",
       "      <td>France</td>\n",
       "      <td>Male</td>\n",
       "      <td>35</td>\n",
       "      <td>10.0</td>\n",
       "      <td>57369.61</td>\n",
       "      <td>1</td>\n",
       "      <td>1</td>\n",
       "      <td>1</td>\n",
       "      <td>101699.77</td>\n",
       "      <td>0</td>\n",
       "    </tr>\n",
       "    <tr>\n",
       "      <th>9998</th>\n",
       "      <td>709</td>\n",
       "      <td>France</td>\n",
       "      <td>Female</td>\n",
       "      <td>36</td>\n",
       "      <td>7.0</td>\n",
       "      <td>0.00</td>\n",
       "      <td>1</td>\n",
       "      <td>0</td>\n",
       "      <td>1</td>\n",
       "      <td>42085.58</td>\n",
       "      <td>1</td>\n",
       "    </tr>\n",
       "    <tr>\n",
       "      <th>9999</th>\n",
       "      <td>772</td>\n",
       "      <td>Germany</td>\n",
       "      <td>Male</td>\n",
       "      <td>42</td>\n",
       "      <td>3.0</td>\n",
       "      <td>75075.31</td>\n",
       "      <td>2</td>\n",
       "      <td>1</td>\n",
       "      <td>0</td>\n",
       "      <td>92888.52</td>\n",
       "      <td>1</td>\n",
       "    </tr>\n",
       "    <tr>\n",
       "      <th>10000</th>\n",
       "      <td>792</td>\n",
       "      <td>France</td>\n",
       "      <td>Female</td>\n",
       "      <td>28</td>\n",
       "      <td>NaN</td>\n",
       "      <td>130142.79</td>\n",
       "      <td>1</td>\n",
       "      <td>1</td>\n",
       "      <td>0</td>\n",
       "      <td>38190.78</td>\n",
       "      <td>0</td>\n",
       "    </tr>\n",
       "  </tbody>\n",
       "</table>\n",
       "<p>10000 rows × 11 columns</p>\n",
       "</div>"
      ],
      "text/plain": [
       "           CreditScore Geography  Gender  Age  Tenure    Balance  \\\n",
       "RowNumber                                                          \n",
       "1                  619    France  Female   42     2.0       0.00   \n",
       "2                  608     Spain  Female   41     1.0   83807.86   \n",
       "3                  502    France  Female   42     8.0  159660.80   \n",
       "4                  699    France  Female   39     1.0       0.00   \n",
       "5                  850     Spain  Female   43     2.0  125510.82   \n",
       "...                ...       ...     ...  ...     ...        ...   \n",
       "9996               771    France    Male   39     5.0       0.00   \n",
       "9997               516    France    Male   35    10.0   57369.61   \n",
       "9998               709    France  Female   36     7.0       0.00   \n",
       "9999               772   Germany    Male   42     3.0   75075.31   \n",
       "10000              792    France  Female   28     NaN  130142.79   \n",
       "\n",
       "           NumOfProducts  HasCrCard  IsActiveMember  EstimatedSalary  Exited  \n",
       "RowNumber                                                                     \n",
       "1                      1          1               1        101348.88       1  \n",
       "2                      1          0               1        112542.58       0  \n",
       "3                      3          1               0        113931.57       1  \n",
       "4                      2          0               0         93826.63       0  \n",
       "5                      1          1               1         79084.10       0  \n",
       "...                  ...        ...             ...              ...     ...  \n",
       "9996                   2          1               0         96270.64       0  \n",
       "9997                   1          1               1        101699.77       0  \n",
       "9998                   1          0               1         42085.58       1  \n",
       "9999                   2          1               0         92888.52       1  \n",
       "10000                  1          1               0         38190.78       0  \n",
       "\n",
       "[10000 rows x 11 columns]"
      ]
     },
     "execution_count": 7,
     "metadata": {},
     "output_type": "execute_result"
    }
   ],
   "source": [
    "clients"
   ]
  },
  {
   "cell_type": "markdown",
   "metadata": {},
   "source": [
    "### Columna CreditScore"
   ]
  },
  {
   "cell_type": "code",
   "execution_count": 8,
   "metadata": {},
   "outputs": [
    {
     "data": {
      "text/plain": [
       "count    10000.000000\n",
       "mean       650.528800\n",
       "std         96.653299\n",
       "min        350.000000\n",
       "25%        584.000000\n",
       "50%        652.000000\n",
       "75%        718.000000\n",
       "max        850.000000\n",
       "Name: CreditScore, dtype: float64"
      ]
     },
     "execution_count": 8,
     "metadata": {},
     "output_type": "execute_result"
    }
   ],
   "source": [
    "clients['CreditScore'].describe()"
   ]
  },
  {
   "cell_type": "markdown",
   "metadata": {},
   "source": [
    "### Columna Geography"
   ]
  },
  {
   "cell_type": "code",
   "execution_count": 9,
   "metadata": {},
   "outputs": [
    {
     "data": {
      "text/plain": [
       "France     5014\n",
       "Germany    2509\n",
       "Spain      2477\n",
       "Name: Geography, dtype: int64"
      ]
     },
     "execution_count": 9,
     "metadata": {},
     "output_type": "execute_result"
    }
   ],
   "source": [
    "clients['Geography'].value_counts()\n"
   ]
  },
  {
   "cell_type": "markdown",
   "metadata": {},
   "source": [
    "### Columna Gender"
   ]
  },
  {
   "cell_type": "code",
   "execution_count": 10,
   "metadata": {},
   "outputs": [
    {
     "data": {
      "text/plain": [
       "Male      5457\n",
       "Female    4543\n",
       "Name: Gender, dtype: int64"
      ]
     },
     "execution_count": 10,
     "metadata": {},
     "output_type": "execute_result"
    }
   ],
   "source": [
    "clients['Gender'].value_counts()"
   ]
  },
  {
   "cell_type": "markdown",
   "metadata": {},
   "source": [
    "### Columna Age"
   ]
  },
  {
   "cell_type": "code",
   "execution_count": 11,
   "metadata": {},
   "outputs": [
    {
     "data": {
      "text/plain": [
       "count    10000.000000\n",
       "mean        38.921800\n",
       "std         10.487806\n",
       "min         18.000000\n",
       "25%         32.000000\n",
       "50%         37.000000\n",
       "75%         44.000000\n",
       "max         92.000000\n",
       "Name: Age, dtype: float64"
      ]
     },
     "execution_count": 11,
     "metadata": {},
     "output_type": "execute_result"
    }
   ],
   "source": [
    "clients['Age'].describe()"
   ]
  },
  {
   "cell_type": "markdown",
   "metadata": {},
   "source": [
    "### Columna Tenure"
   ]
  },
  {
   "cell_type": "code",
   "execution_count": 12,
   "metadata": {},
   "outputs": [
    {
     "data": {
      "text/plain": [
       "1.0     952\n",
       "2.0     950\n",
       "8.0     933\n",
       "3.0     928\n",
       "5.0     927\n",
       "7.0     925\n",
       "4.0     885\n",
       "9.0     882\n",
       "6.0     881\n",
       "10.0    446\n",
       "0.0     382\n",
       "Name: Tenure, dtype: int64"
      ]
     },
     "execution_count": 12,
     "metadata": {},
     "output_type": "execute_result"
    }
   ],
   "source": [
    "clients['Tenure'].value_counts()"
   ]
  },
  {
   "cell_type": "code",
   "execution_count": 13,
   "metadata": {
    "scrolled": true
   },
   "outputs": [
    {
     "data": {
      "text/html": [
       "<div>\n",
       "<style scoped>\n",
       "    .dataframe tbody tr th:only-of-type {\n",
       "        vertical-align: middle;\n",
       "    }\n",
       "\n",
       "    .dataframe tbody tr th {\n",
       "        vertical-align: top;\n",
       "    }\n",
       "\n",
       "    .dataframe thead th {\n",
       "        text-align: right;\n",
       "    }\n",
       "</style>\n",
       "<table border=\"1\" class=\"dataframe\">\n",
       "  <thead>\n",
       "    <tr style=\"text-align: right;\">\n",
       "      <th></th>\n",
       "      <th>CreditScore</th>\n",
       "      <th>Geography</th>\n",
       "      <th>Gender</th>\n",
       "      <th>Age</th>\n",
       "      <th>Tenure</th>\n",
       "      <th>Balance</th>\n",
       "      <th>NumOfProducts</th>\n",
       "      <th>HasCrCard</th>\n",
       "      <th>IsActiveMember</th>\n",
       "      <th>EstimatedSalary</th>\n",
       "      <th>Exited</th>\n",
       "    </tr>\n",
       "    <tr>\n",
       "      <th>RowNumber</th>\n",
       "      <th></th>\n",
       "      <th></th>\n",
       "      <th></th>\n",
       "      <th></th>\n",
       "      <th></th>\n",
       "      <th></th>\n",
       "      <th></th>\n",
       "      <th></th>\n",
       "      <th></th>\n",
       "      <th></th>\n",
       "      <th></th>\n",
       "    </tr>\n",
       "  </thead>\n",
       "  <tbody>\n",
       "    <tr>\n",
       "      <th>3625</th>\n",
       "      <td>640</td>\n",
       "      <td>France</td>\n",
       "      <td>Female</td>\n",
       "      <td>33</td>\n",
       "      <td>NaN</td>\n",
       "      <td>167298.42</td>\n",
       "      <td>1</td>\n",
       "      <td>0</td>\n",
       "      <td>1</td>\n",
       "      <td>145381.65</td>\n",
       "      <td>0</td>\n",
       "    </tr>\n",
       "    <tr>\n",
       "      <th>3472</th>\n",
       "      <td>632</td>\n",
       "      <td>France</td>\n",
       "      <td>Female</td>\n",
       "      <td>27</td>\n",
       "      <td>NaN</td>\n",
       "      <td>107375.82</td>\n",
       "      <td>1</td>\n",
       "      <td>1</td>\n",
       "      <td>1</td>\n",
       "      <td>62703.38</td>\n",
       "      <td>0</td>\n",
       "    </tr>\n",
       "    <tr>\n",
       "      <th>4961</th>\n",
       "      <td>811</td>\n",
       "      <td>France</td>\n",
       "      <td>Male</td>\n",
       "      <td>42</td>\n",
       "      <td>NaN</td>\n",
       "      <td>0.00</td>\n",
       "      <td>2</td>\n",
       "      <td>1</td>\n",
       "      <td>1</td>\n",
       "      <td>3797.79</td>\n",
       "      <td>0</td>\n",
       "    </tr>\n",
       "    <tr>\n",
       "      <th>7076</th>\n",
       "      <td>778</td>\n",
       "      <td>France</td>\n",
       "      <td>Female</td>\n",
       "      <td>34</td>\n",
       "      <td>NaN</td>\n",
       "      <td>109564.10</td>\n",
       "      <td>1</td>\n",
       "      <td>0</td>\n",
       "      <td>1</td>\n",
       "      <td>113046.81</td>\n",
       "      <td>0</td>\n",
       "    </tr>\n",
       "    <tr>\n",
       "      <th>5870</th>\n",
       "      <td>562</td>\n",
       "      <td>Germany</td>\n",
       "      <td>Male</td>\n",
       "      <td>31</td>\n",
       "      <td>NaN</td>\n",
       "      <td>112708.20</td>\n",
       "      <td>1</td>\n",
       "      <td>0</td>\n",
       "      <td>1</td>\n",
       "      <td>186370.30</td>\n",
       "      <td>0</td>\n",
       "    </tr>\n",
       "    <tr>\n",
       "      <th>4376</th>\n",
       "      <td>850</td>\n",
       "      <td>Germany</td>\n",
       "      <td>Male</td>\n",
       "      <td>41</td>\n",
       "      <td>NaN</td>\n",
       "      <td>60880.68</td>\n",
       "      <td>1</td>\n",
       "      <td>1</td>\n",
       "      <td>0</td>\n",
       "      <td>31825.84</td>\n",
       "      <td>0</td>\n",
       "    </tr>\n",
       "    <tr>\n",
       "      <th>4809</th>\n",
       "      <td>643</td>\n",
       "      <td>France</td>\n",
       "      <td>Female</td>\n",
       "      <td>33</td>\n",
       "      <td>NaN</td>\n",
       "      <td>137811.75</td>\n",
       "      <td>1</td>\n",
       "      <td>1</td>\n",
       "      <td>1</td>\n",
       "      <td>184856.89</td>\n",
       "      <td>0</td>\n",
       "    </tr>\n",
       "    <tr>\n",
       "      <th>5095</th>\n",
       "      <td>610</td>\n",
       "      <td>France</td>\n",
       "      <td>Male</td>\n",
       "      <td>37</td>\n",
       "      <td>NaN</td>\n",
       "      <td>0.00</td>\n",
       "      <td>1</td>\n",
       "      <td>1</td>\n",
       "      <td>0</td>\n",
       "      <td>114514.64</td>\n",
       "      <td>0</td>\n",
       "    </tr>\n",
       "    <tr>\n",
       "      <th>1157</th>\n",
       "      <td>615</td>\n",
       "      <td>France</td>\n",
       "      <td>Male</td>\n",
       "      <td>49</td>\n",
       "      <td>NaN</td>\n",
       "      <td>0.00</td>\n",
       "      <td>2</td>\n",
       "      <td>1</td>\n",
       "      <td>1</td>\n",
       "      <td>49872.33</td>\n",
       "      <td>0</td>\n",
       "    </tr>\n",
       "    <tr>\n",
       "      <th>7123</th>\n",
       "      <td>527</td>\n",
       "      <td>Spain</td>\n",
       "      <td>Female</td>\n",
       "      <td>46</td>\n",
       "      <td>NaN</td>\n",
       "      <td>131414.76</td>\n",
       "      <td>1</td>\n",
       "      <td>1</td>\n",
       "      <td>0</td>\n",
       "      <td>54947.51</td>\n",
       "      <td>0</td>\n",
       "    </tr>\n",
       "    <tr>\n",
       "      <th>9924</th>\n",
       "      <td>725</td>\n",
       "      <td>France</td>\n",
       "      <td>Female</td>\n",
       "      <td>29</td>\n",
       "      <td>NaN</td>\n",
       "      <td>0.00</td>\n",
       "      <td>2</td>\n",
       "      <td>1</td>\n",
       "      <td>1</td>\n",
       "      <td>190776.83</td>\n",
       "      <td>0</td>\n",
       "    </tr>\n",
       "    <tr>\n",
       "      <th>5477</th>\n",
       "      <td>828</td>\n",
       "      <td>Spain</td>\n",
       "      <td>Male</td>\n",
       "      <td>47</td>\n",
       "      <td>NaN</td>\n",
       "      <td>109876.82</td>\n",
       "      <td>2</td>\n",
       "      <td>1</td>\n",
       "      <td>0</td>\n",
       "      <td>83611.45</td>\n",
       "      <td>1</td>\n",
       "    </tr>\n",
       "    <tr>\n",
       "      <th>7296</th>\n",
       "      <td>648</td>\n",
       "      <td>Germany</td>\n",
       "      <td>Male</td>\n",
       "      <td>31</td>\n",
       "      <td>NaN</td>\n",
       "      <td>125681.51</td>\n",
       "      <td>1</td>\n",
       "      <td>0</td>\n",
       "      <td>1</td>\n",
       "      <td>129980.93</td>\n",
       "      <td>0</td>\n",
       "    </tr>\n",
       "    <tr>\n",
       "      <th>705</th>\n",
       "      <td>659</td>\n",
       "      <td>Germany</td>\n",
       "      <td>Male</td>\n",
       "      <td>36</td>\n",
       "      <td>NaN</td>\n",
       "      <td>76190.48</td>\n",
       "      <td>2</td>\n",
       "      <td>1</td>\n",
       "      <td>1</td>\n",
       "      <td>149066.14</td>\n",
       "      <td>0</td>\n",
       "    </tr>\n",
       "    <tr>\n",
       "      <th>3964</th>\n",
       "      <td>607</td>\n",
       "      <td>France</td>\n",
       "      <td>Male</td>\n",
       "      <td>31</td>\n",
       "      <td>NaN</td>\n",
       "      <td>0.00</td>\n",
       "      <td>2</td>\n",
       "      <td>1</td>\n",
       "      <td>1</td>\n",
       "      <td>43196.50</td>\n",
       "      <td>0</td>\n",
       "    </tr>\n",
       "  </tbody>\n",
       "</table>\n",
       "</div>"
      ],
      "text/plain": [
       "           CreditScore Geography  Gender  Age  Tenure    Balance  \\\n",
       "RowNumber                                                          \n",
       "3625               640    France  Female   33     NaN  167298.42   \n",
       "3472               632    France  Female   27     NaN  107375.82   \n",
       "4961               811    France    Male   42     NaN       0.00   \n",
       "7076               778    France  Female   34     NaN  109564.10   \n",
       "5870               562   Germany    Male   31     NaN  112708.20   \n",
       "4376               850   Germany    Male   41     NaN   60880.68   \n",
       "4809               643    France  Female   33     NaN  137811.75   \n",
       "5095               610    France    Male   37     NaN       0.00   \n",
       "1157               615    France    Male   49     NaN       0.00   \n",
       "7123               527     Spain  Female   46     NaN  131414.76   \n",
       "9924               725    France  Female   29     NaN       0.00   \n",
       "5477               828     Spain    Male   47     NaN  109876.82   \n",
       "7296               648   Germany    Male   31     NaN  125681.51   \n",
       "705                659   Germany    Male   36     NaN   76190.48   \n",
       "3964               607    France    Male   31     NaN       0.00   \n",
       "\n",
       "           NumOfProducts  HasCrCard  IsActiveMember  EstimatedSalary  Exited  \n",
       "RowNumber                                                                     \n",
       "3625                   1          0               1        145381.65       0  \n",
       "3472                   1          1               1         62703.38       0  \n",
       "4961                   2          1               1          3797.79       0  \n",
       "7076                   1          0               1        113046.81       0  \n",
       "5870                   1          0               1        186370.30       0  \n",
       "4376                   1          1               0         31825.84       0  \n",
       "4809                   1          1               1        184856.89       0  \n",
       "5095                   1          1               0        114514.64       0  \n",
       "1157                   2          1               1         49872.33       0  \n",
       "7123                   1          1               0         54947.51       0  \n",
       "9924                   2          1               1        190776.83       0  \n",
       "5477                   2          1               0         83611.45       1  \n",
       "7296                   1          0               1        129980.93       0  \n",
       "705                    2          1               1        149066.14       0  \n",
       "3964                   2          1               1         43196.50       0  "
      ]
     },
     "execution_count": 13,
     "metadata": {},
     "output_type": "execute_result"
    }
   ],
   "source": [
    "clients[clients['Tenure'].isna()].sample(15)"
   ]
  },
  {
   "cell_type": "markdown",
   "metadata": {},
   "source": [
    "- Hay 909 valores nulos de Tenure, lo que tiene sentido ya que serían clientes que no tienen el producto de depósito a plazo fijo\n",
    "- No podemos procesar los valores NaN. Y considerando que no tener el deposito a plazo fijo equivale a no tener ningún año desde el inicio del depósito, procedemos a imputar con el valor 0 en los NaN"
   ]
  },
  {
   "cell_type": "code",
   "execution_count": 14,
   "metadata": {},
   "outputs": [
    {
     "data": {
      "text/plain": [
       "0.0     1291\n",
       "1.0      952\n",
       "2.0      950\n",
       "8.0      933\n",
       "3.0      928\n",
       "5.0      927\n",
       "7.0      925\n",
       "4.0      885\n",
       "9.0      882\n",
       "6.0      881\n",
       "10.0     446\n",
       "Name: Tenure, dtype: int64"
      ]
     },
     "execution_count": 14,
     "metadata": {},
     "output_type": "execute_result"
    }
   ],
   "source": [
    "clients ['Tenure'] = clients['Tenure'].fillna(0)\n",
    "clients['Tenure'].value_counts()"
   ]
  },
  {
   "cell_type": "markdown",
   "metadata": {},
   "source": [
    "### Columna Balance"
   ]
  },
  {
   "cell_type": "code",
   "execution_count": 15,
   "metadata": {},
   "outputs": [
    {
     "data": {
      "text/plain": [
       "count     10000.000000\n",
       "mean      76485.889288\n",
       "std       62397.405202\n",
       "min           0.000000\n",
       "25%           0.000000\n",
       "50%       97198.540000\n",
       "75%      127644.240000\n",
       "max      250898.090000\n",
       "Name: Balance, dtype: float64"
      ]
     },
     "execution_count": 15,
     "metadata": {},
     "output_type": "execute_result"
    }
   ],
   "source": [
    "clients['Balance'].describe()"
   ]
  },
  {
   "cell_type": "markdown",
   "metadata": {},
   "source": [
    "### Columna NumberOfProducts"
   ]
  },
  {
   "cell_type": "code",
   "execution_count": 16,
   "metadata": {},
   "outputs": [
    {
     "data": {
      "text/plain": [
       "1    5084\n",
       "2    4590\n",
       "3     266\n",
       "4      60\n",
       "Name: NumOfProducts, dtype: int64"
      ]
     },
     "execution_count": 16,
     "metadata": {},
     "output_type": "execute_result"
    }
   ],
   "source": [
    "clients['NumOfProducts'].value_counts()"
   ]
  },
  {
   "cell_type": "markdown",
   "metadata": {},
   "source": [
    "### Columna Has Credit Card"
   ]
  },
  {
   "cell_type": "code",
   "execution_count": 17,
   "metadata": {},
   "outputs": [
    {
     "data": {
      "text/plain": [
       "1    7055\n",
       "0    2945\n",
       "Name: HasCrCard, dtype: int64"
      ]
     },
     "execution_count": 17,
     "metadata": {},
     "output_type": "execute_result"
    }
   ],
   "source": [
    "clients['HasCrCard'].value_counts()"
   ]
  },
  {
   "cell_type": "markdown",
   "metadata": {},
   "source": [
    "### Columna Is Active Member"
   ]
  },
  {
   "cell_type": "code",
   "execution_count": 18,
   "metadata": {},
   "outputs": [
    {
     "data": {
      "text/plain": [
       "1    5151\n",
       "0    4849\n",
       "Name: IsActiveMember, dtype: int64"
      ]
     },
     "execution_count": 18,
     "metadata": {},
     "output_type": "execute_result"
    }
   ],
   "source": [
    "clients['IsActiveMember'].value_counts()"
   ]
  },
  {
   "cell_type": "markdown",
   "metadata": {},
   "source": [
    "### Columna Estimated Salary"
   ]
  },
  {
   "cell_type": "code",
   "execution_count": 19,
   "metadata": {},
   "outputs": [
    {
     "data": {
      "text/plain": [
       "count     10000.000000\n",
       "mean     100090.239881\n",
       "std       57510.492818\n",
       "min          11.580000\n",
       "25%       51002.110000\n",
       "50%      100193.915000\n",
       "75%      149388.247500\n",
       "max      199992.480000\n",
       "Name: EstimatedSalary, dtype: float64"
      ]
     },
     "execution_count": 19,
     "metadata": {},
     "output_type": "execute_result"
    }
   ],
   "source": [
    "clients['EstimatedSalary'].describe()"
   ]
  },
  {
   "cell_type": "markdown",
   "metadata": {},
   "source": [
    "### Columna Exited"
   ]
  },
  {
   "cell_type": "code",
   "execution_count": 20,
   "metadata": {},
   "outputs": [
    {
     "data": {
      "text/plain": [
       "0    0.7963\n",
       "1    0.2037\n",
       "Name: Exited, dtype: float64"
      ]
     },
     "execution_count": 20,
     "metadata": {},
     "output_type": "execute_result"
    }
   ],
   "source": [
    "clients['Exited'].value_counts(normalize=True)"
   ]
  },
  {
   "cell_type": "markdown",
   "metadata": {},
   "source": [
    "Del primer análisis por columnas podemos indicar que los tipos de variables están correctos, y además se puede conocer lo siguiente:\n",
    "- La columna credit score están en un rango entre 650 y 850.\n",
    "- La columna Geography consta de 3 países, concentrando la mayoría en Francia, con aproximadamente el doble que Alemania y España. Esto también nos dice que el banco debe ser Europeo.\n",
    "- La columna Gender está dividido en Masculino y Femenino, con una distrubución de casi el 50% de los datos para cada categoría.\n",
    "- La columna Age tiene un rango de entre 18 y 92 años. Con una media de 38 años y una concentración del 75% de los datos ubicados por debajo de 44. La mayoría de clientes son jóvenes o de edad media.\n",
    "- La columna Tenure tiene un rango entre 0 a 10 años (para los clientes que si tienen este producto), y los clientes están distribuidos de manera bastante uniforme.\n",
    "- La columna Balance muestra que el mínimo es de 0 y el máximo de dinero en una cuenta es de 250000, con un valor medio de 76000.\n",
    "- La columna number of products está entre 1 y 4, siendo 1 y 2 los que mas clientes acumulan, lo cual es lógico porque los clientes bancarios no suelen utilizar todos los productos disponibles.\n",
    "- La columna has credit card está dividida entre los que tienen (que son la mayoría con el 70% aprox.) y los que no tienen (corresponden casi al 30%).\n",
    "- La columna is active member también está divida entre activos y no activos y está distribuida casi 50% para cada categoría.\n",
    "- La columna Estimated Salary tiene un rango entre 11 y 200000, con una media de 100000.\n",
    "- La columna Exited está clasificada entre los que no han dejado el banco (aproximadamente 80%) y los que han dejado el banco (aproximadamente 20%)."
   ]
  },
  {
   "cell_type": "markdown",
   "metadata": {},
   "source": [
    "## PREPROCESAMIENTO"
   ]
  },
  {
   "cell_type": "markdown",
   "metadata": {},
   "source": [
    "### Segmentación Datos de Entrenamiento-Validación"
   ]
  },
  {
   "cell_type": "code",
   "execution_count": 21,
   "metadata": {},
   "outputs": [
    {
     "name": "stdout",
     "output_type": "stream",
     "text": [
      "(10000, 10)\n",
      "(10000,)\n"
     ]
    }
   ],
   "source": [
    "# Separación Variables Independientes y Variable Dependiente\n",
    "features = clients.drop('Exited',axis=1)\n",
    "target = clients['Exited']\n",
    "\n",
    "print(features.shape)\n",
    "print(target.shape)"
   ]
  },
  {
   "cell_type": "code",
   "execution_count": 22,
   "metadata": {},
   "outputs": [
    {
     "name": "stdout",
     "output_type": "stream",
     "text": [
      "(7500, 10)\n",
      "(7500,)\n",
      "(2500, 10)\n",
      "(2500,)\n"
     ]
    }
   ],
   "source": [
    "#Separación en datos para entrenamieto y para prueba\n",
    "features_train,features_valid,target_train,target_valid = train_test_split(features,\n",
    "                                                                           target,\n",
    "                                                                           test_size=0.25,\n",
    "                                                                           random_state=12345)\n",
    "#Comprobación conjuntos de datos separados\n",
    "print(features_train.shape)\n",
    "print(target_train.shape)\n",
    "print(features_valid.shape)\n",
    "print(target_valid.shape)"
   ]
  },
  {
   "cell_type": "markdown",
   "metadata": {},
   "source": [
    "### Para El Arbol de Decision y Bosque Aleatorio"
   ]
  },
  {
   "cell_type": "markdown",
   "metadata": {},
   "source": [
    "#### Codificación Ordinal"
   ]
  },
  {
   "cell_type": "code",
   "execution_count": 23,
   "metadata": {},
   "outputs": [
    {
     "name": "stderr",
     "output_type": "stream",
     "text": [
      "/tmp/ipykernel_320/3431710048.py:11: SettingWithCopyWarning: \n",
      "A value is trying to be set on a copy of a slice from a DataFrame.\n",
      "Try using .loc[row_indexer,col_indexer] = value instead\n",
      "\n",
      "See the caveats in the documentation: https://pandas.pydata.org/pandas-docs/stable/user_guide/indexing.html#returning-a-view-versus-a-copy\n",
      "  features_train_enc [category] = encoder.transform(features_train[category])\n",
      "/opt/conda/envs/python3/lib/python3.9/site-packages/pandas/core/indexing.py:1738: SettingWithCopyWarning: \n",
      "A value is trying to be set on a copy of a slice from a DataFrame.\n",
      "Try using .loc[row_indexer,col_indexer] = value instead\n",
      "\n",
      "See the caveats in the documentation: https://pandas.pydata.org/pandas-docs/stable/user_guide/indexing.html#returning-a-view-versus-a-copy\n",
      "  self._setitem_single_column(loc, value[:, i].tolist(), pi)\n",
      "/tmp/ipykernel_320/3431710048.py:12: SettingWithCopyWarning: \n",
      "A value is trying to be set on a copy of a slice from a DataFrame.\n",
      "Try using .loc[row_indexer,col_indexer] = value instead\n",
      "\n",
      "See the caveats in the documentation: https://pandas.pydata.org/pandas-docs/stable/user_guide/indexing.html#returning-a-view-versus-a-copy\n",
      "  features_valid_enc [category] = encoder.transform(features_valid[category])\n",
      "/opt/conda/envs/python3/lib/python3.9/site-packages/pandas/core/indexing.py:1738: SettingWithCopyWarning: \n",
      "A value is trying to be set on a copy of a slice from a DataFrame.\n",
      "Try using .loc[row_indexer,col_indexer] = value instead\n",
      "\n",
      "See the caveats in the documentation: https://pandas.pydata.org/pandas-docs/stable/user_guide/indexing.html#returning-a-view-versus-a-copy\n",
      "  self._setitem_single_column(loc, value[:, i].tolist(), pi)\n"
     ]
    },
    {
     "data": {
      "text/html": [
       "<div>\n",
       "<style scoped>\n",
       "    .dataframe tbody tr th:only-of-type {\n",
       "        vertical-align: middle;\n",
       "    }\n",
       "\n",
       "    .dataframe tbody tr th {\n",
       "        vertical-align: top;\n",
       "    }\n",
       "\n",
       "    .dataframe thead th {\n",
       "        text-align: right;\n",
       "    }\n",
       "</style>\n",
       "<table border=\"1\" class=\"dataframe\">\n",
       "  <thead>\n",
       "    <tr style=\"text-align: right;\">\n",
       "      <th></th>\n",
       "      <th>CreditScore</th>\n",
       "      <th>Geography</th>\n",
       "      <th>Gender</th>\n",
       "      <th>Age</th>\n",
       "      <th>Tenure</th>\n",
       "      <th>Balance</th>\n",
       "      <th>NumOfProducts</th>\n",
       "      <th>HasCrCard</th>\n",
       "      <th>IsActiveMember</th>\n",
       "      <th>EstimatedSalary</th>\n",
       "    </tr>\n",
       "    <tr>\n",
       "      <th>RowNumber</th>\n",
       "      <th></th>\n",
       "      <th></th>\n",
       "      <th></th>\n",
       "      <th></th>\n",
       "      <th></th>\n",
       "      <th></th>\n",
       "      <th></th>\n",
       "      <th></th>\n",
       "      <th></th>\n",
       "      <th></th>\n",
       "    </tr>\n",
       "  </thead>\n",
       "  <tbody>\n",
       "    <tr>\n",
       "      <th>227</th>\n",
       "      <td>694</td>\n",
       "      <td>0.0</td>\n",
       "      <td>0.0</td>\n",
       "      <td>30</td>\n",
       "      <td>9.0</td>\n",
       "      <td>0.00</td>\n",
       "      <td>2</td>\n",
       "      <td>1</td>\n",
       "      <td>1</td>\n",
       "      <td>26960.31</td>\n",
       "    </tr>\n",
       "    <tr>\n",
       "      <th>7757</th>\n",
       "      <td>621</td>\n",
       "      <td>2.0</td>\n",
       "      <td>0.0</td>\n",
       "      <td>36</td>\n",
       "      <td>7.0</td>\n",
       "      <td>116338.68</td>\n",
       "      <td>1</td>\n",
       "      <td>1</td>\n",
       "      <td>1</td>\n",
       "      <td>155743.48</td>\n",
       "    </tr>\n",
       "    <tr>\n",
       "      <th>2066</th>\n",
       "      <td>626</td>\n",
       "      <td>0.0</td>\n",
       "      <td>1.0</td>\n",
       "      <td>33</td>\n",
       "      <td>8.0</td>\n",
       "      <td>0.00</td>\n",
       "      <td>2</td>\n",
       "      <td>1</td>\n",
       "      <td>0</td>\n",
       "      <td>138504.28</td>\n",
       "    </tr>\n",
       "    <tr>\n",
       "      <th>2801</th>\n",
       "      <td>769</td>\n",
       "      <td>0.0</td>\n",
       "      <td>1.0</td>\n",
       "      <td>51</td>\n",
       "      <td>9.0</td>\n",
       "      <td>156773.78</td>\n",
       "      <td>2</td>\n",
       "      <td>1</td>\n",
       "      <td>0</td>\n",
       "      <td>40257.79</td>\n",
       "    </tr>\n",
       "    <tr>\n",
       "      <th>7029</th>\n",
       "      <td>718</td>\n",
       "      <td>1.0</td>\n",
       "      <td>1.0</td>\n",
       "      <td>26</td>\n",
       "      <td>0.0</td>\n",
       "      <td>147527.03</td>\n",
       "      <td>1</td>\n",
       "      <td>0</td>\n",
       "      <td>0</td>\n",
       "      <td>51099.56</td>\n",
       "    </tr>\n",
       "    <tr>\n",
       "      <th>...</th>\n",
       "      <td>...</td>\n",
       "      <td>...</td>\n",
       "      <td>...</td>\n",
       "      <td>...</td>\n",
       "      <td>...</td>\n",
       "      <td>...</td>\n",
       "      <td>...</td>\n",
       "      <td>...</td>\n",
       "      <td>...</td>\n",
       "      <td>...</td>\n",
       "    </tr>\n",
       "    <tr>\n",
       "      <th>4479</th>\n",
       "      <td>549</td>\n",
       "      <td>0.0</td>\n",
       "      <td>1.0</td>\n",
       "      <td>31</td>\n",
       "      <td>4.0</td>\n",
       "      <td>0.00</td>\n",
       "      <td>2</td>\n",
       "      <td>0</td>\n",
       "      <td>1</td>\n",
       "      <td>25684.85</td>\n",
       "    </tr>\n",
       "    <tr>\n",
       "      <th>4095</th>\n",
       "      <td>513</td>\n",
       "      <td>0.0</td>\n",
       "      <td>1.0</td>\n",
       "      <td>29</td>\n",
       "      <td>10.0</td>\n",
       "      <td>0.00</td>\n",
       "      <td>2</td>\n",
       "      <td>0</td>\n",
       "      <td>1</td>\n",
       "      <td>25514.77</td>\n",
       "    </tr>\n",
       "    <tr>\n",
       "      <th>3493</th>\n",
       "      <td>655</td>\n",
       "      <td>0.0</td>\n",
       "      <td>0.0</td>\n",
       "      <td>45</td>\n",
       "      <td>0.0</td>\n",
       "      <td>57327.04</td>\n",
       "      <td>1</td>\n",
       "      <td>0</td>\n",
       "      <td>1</td>\n",
       "      <td>47349.00</td>\n",
       "    </tr>\n",
       "    <tr>\n",
       "      <th>2178</th>\n",
       "      <td>667</td>\n",
       "      <td>0.0</td>\n",
       "      <td>0.0</td>\n",
       "      <td>24</td>\n",
       "      <td>4.0</td>\n",
       "      <td>0.00</td>\n",
       "      <td>2</td>\n",
       "      <td>0</td>\n",
       "      <td>1</td>\n",
       "      <td>34335.55</td>\n",
       "    </tr>\n",
       "    <tr>\n",
       "      <th>4579</th>\n",
       "      <td>691</td>\n",
       "      <td>0.0</td>\n",
       "      <td>1.0</td>\n",
       "      <td>38</td>\n",
       "      <td>1.0</td>\n",
       "      <td>0.00</td>\n",
       "      <td>2</td>\n",
       "      <td>0</td>\n",
       "      <td>0</td>\n",
       "      <td>44653.50</td>\n",
       "    </tr>\n",
       "  </tbody>\n",
       "</table>\n",
       "<p>7500 rows × 10 columns</p>\n",
       "</div>"
      ],
      "text/plain": [
       "           CreditScore  Geography  Gender  Age  Tenure    Balance  \\\n",
       "RowNumber                                                           \n",
       "227                694        0.0     0.0   30     9.0       0.00   \n",
       "7757               621        2.0     0.0   36     7.0  116338.68   \n",
       "2066               626        0.0     1.0   33     8.0       0.00   \n",
       "2801               769        0.0     1.0   51     9.0  156773.78   \n",
       "7029               718        1.0     1.0   26     0.0  147527.03   \n",
       "...                ...        ...     ...  ...     ...        ...   \n",
       "4479               549        0.0     1.0   31     4.0       0.00   \n",
       "4095               513        0.0     1.0   29    10.0       0.00   \n",
       "3493               655        0.0     0.0   45     0.0   57327.04   \n",
       "2178               667        0.0     0.0   24     4.0       0.00   \n",
       "4579               691        0.0     1.0   38     1.0       0.00   \n",
       "\n",
       "           NumOfProducts  HasCrCard  IsActiveMember  EstimatedSalary  \n",
       "RowNumber                                                             \n",
       "227                    2          1               1         26960.31  \n",
       "7757                   1          1               1        155743.48  \n",
       "2066                   2          1               0        138504.28  \n",
       "2801                   2          1               0         40257.79  \n",
       "7029                   1          0               0         51099.56  \n",
       "...                  ...        ...             ...              ...  \n",
       "4479                   2          0               1         25684.85  \n",
       "4095                   2          0               1         25514.77  \n",
       "3493                   1          0               1         47349.00  \n",
       "2178                   2          0               1         34335.55  \n",
       "4579                   2          0               0         44653.50  \n",
       "\n",
       "[7500 rows x 10 columns]"
      ]
     },
     "execution_count": 23,
     "metadata": {},
     "output_type": "execute_result"
    }
   ],
   "source": [
    "#Escogemos las clases categóricas\n",
    "category = ['Geography','Gender']\n",
    "\n",
    "#creamos las variables correspondientes con la codificación ordinal\n",
    "features_train_enc = features_train\n",
    "features_valid_enc = features_valid\n",
    "\n",
    "#creamos, entrenamos y realizamos la codificación de las columnas categóricas para cada grupo de datos\n",
    "encoder = OrdinalEncoder()\n",
    "encoder.fit(features_train[category])\n",
    "features_train_enc [category] = encoder.transform(features_train[category])\n",
    "features_valid_enc [category] = encoder.transform(features_valid[category])\n",
    "features_train_enc"
   ]
  },
  {
   "cell_type": "markdown",
   "metadata": {},
   "source": [
    "### Para La Regresión Logística"
   ]
  },
  {
   "cell_type": "markdown",
   "metadata": {},
   "source": [
    "#### One Hot Econding"
   ]
  },
  {
   "cell_type": "code",
   "execution_count": 24,
   "metadata": {
    "scrolled": true
   },
   "outputs": [
    {
     "data": {
      "text/html": [
       "<div>\n",
       "<style scoped>\n",
       "    .dataframe tbody tr th:only-of-type {\n",
       "        vertical-align: middle;\n",
       "    }\n",
       "\n",
       "    .dataframe tbody tr th {\n",
       "        vertical-align: top;\n",
       "    }\n",
       "\n",
       "    .dataframe thead th {\n",
       "        text-align: right;\n",
       "    }\n",
       "</style>\n",
       "<table border=\"1\" class=\"dataframe\">\n",
       "  <thead>\n",
       "    <tr style=\"text-align: right;\">\n",
       "      <th></th>\n",
       "      <th>CreditScore</th>\n",
       "      <th>Age</th>\n",
       "      <th>Tenure</th>\n",
       "      <th>Balance</th>\n",
       "      <th>NumOfProducts</th>\n",
       "      <th>HasCrCard</th>\n",
       "      <th>IsActiveMember</th>\n",
       "      <th>EstimatedSalary</th>\n",
       "      <th>Geography_Germany</th>\n",
       "      <th>Geography_Spain</th>\n",
       "      <th>Gender_Male</th>\n",
       "    </tr>\n",
       "    <tr>\n",
       "      <th>RowNumber</th>\n",
       "      <th></th>\n",
       "      <th></th>\n",
       "      <th></th>\n",
       "      <th></th>\n",
       "      <th></th>\n",
       "      <th></th>\n",
       "      <th></th>\n",
       "      <th></th>\n",
       "      <th></th>\n",
       "      <th></th>\n",
       "      <th></th>\n",
       "    </tr>\n",
       "  </thead>\n",
       "  <tbody>\n",
       "    <tr>\n",
       "      <th>1</th>\n",
       "      <td>619</td>\n",
       "      <td>42</td>\n",
       "      <td>2.0</td>\n",
       "      <td>0.00</td>\n",
       "      <td>1</td>\n",
       "      <td>1</td>\n",
       "      <td>1</td>\n",
       "      <td>101348.88</td>\n",
       "      <td>0</td>\n",
       "      <td>0</td>\n",
       "      <td>0</td>\n",
       "    </tr>\n",
       "    <tr>\n",
       "      <th>2</th>\n",
       "      <td>608</td>\n",
       "      <td>41</td>\n",
       "      <td>1.0</td>\n",
       "      <td>83807.86</td>\n",
       "      <td>1</td>\n",
       "      <td>0</td>\n",
       "      <td>1</td>\n",
       "      <td>112542.58</td>\n",
       "      <td>0</td>\n",
       "      <td>1</td>\n",
       "      <td>0</td>\n",
       "    </tr>\n",
       "    <tr>\n",
       "      <th>3</th>\n",
       "      <td>502</td>\n",
       "      <td>42</td>\n",
       "      <td>8.0</td>\n",
       "      <td>159660.80</td>\n",
       "      <td>3</td>\n",
       "      <td>1</td>\n",
       "      <td>0</td>\n",
       "      <td>113931.57</td>\n",
       "      <td>0</td>\n",
       "      <td>0</td>\n",
       "      <td>0</td>\n",
       "    </tr>\n",
       "    <tr>\n",
       "      <th>4</th>\n",
       "      <td>699</td>\n",
       "      <td>39</td>\n",
       "      <td>1.0</td>\n",
       "      <td>0.00</td>\n",
       "      <td>2</td>\n",
       "      <td>0</td>\n",
       "      <td>0</td>\n",
       "      <td>93826.63</td>\n",
       "      <td>0</td>\n",
       "      <td>0</td>\n",
       "      <td>0</td>\n",
       "    </tr>\n",
       "    <tr>\n",
       "      <th>5</th>\n",
       "      <td>850</td>\n",
       "      <td>43</td>\n",
       "      <td>2.0</td>\n",
       "      <td>125510.82</td>\n",
       "      <td>1</td>\n",
       "      <td>1</td>\n",
       "      <td>1</td>\n",
       "      <td>79084.10</td>\n",
       "      <td>0</td>\n",
       "      <td>1</td>\n",
       "      <td>0</td>\n",
       "    </tr>\n",
       "    <tr>\n",
       "      <th>...</th>\n",
       "      <td>...</td>\n",
       "      <td>...</td>\n",
       "      <td>...</td>\n",
       "      <td>...</td>\n",
       "      <td>...</td>\n",
       "      <td>...</td>\n",
       "      <td>...</td>\n",
       "      <td>...</td>\n",
       "      <td>...</td>\n",
       "      <td>...</td>\n",
       "      <td>...</td>\n",
       "    </tr>\n",
       "    <tr>\n",
       "      <th>9996</th>\n",
       "      <td>771</td>\n",
       "      <td>39</td>\n",
       "      <td>5.0</td>\n",
       "      <td>0.00</td>\n",
       "      <td>2</td>\n",
       "      <td>1</td>\n",
       "      <td>0</td>\n",
       "      <td>96270.64</td>\n",
       "      <td>0</td>\n",
       "      <td>0</td>\n",
       "      <td>1</td>\n",
       "    </tr>\n",
       "    <tr>\n",
       "      <th>9997</th>\n",
       "      <td>516</td>\n",
       "      <td>35</td>\n",
       "      <td>10.0</td>\n",
       "      <td>57369.61</td>\n",
       "      <td>1</td>\n",
       "      <td>1</td>\n",
       "      <td>1</td>\n",
       "      <td>101699.77</td>\n",
       "      <td>0</td>\n",
       "      <td>0</td>\n",
       "      <td>1</td>\n",
       "    </tr>\n",
       "    <tr>\n",
       "      <th>9998</th>\n",
       "      <td>709</td>\n",
       "      <td>36</td>\n",
       "      <td>7.0</td>\n",
       "      <td>0.00</td>\n",
       "      <td>1</td>\n",
       "      <td>0</td>\n",
       "      <td>1</td>\n",
       "      <td>42085.58</td>\n",
       "      <td>0</td>\n",
       "      <td>0</td>\n",
       "      <td>0</td>\n",
       "    </tr>\n",
       "    <tr>\n",
       "      <th>9999</th>\n",
       "      <td>772</td>\n",
       "      <td>42</td>\n",
       "      <td>3.0</td>\n",
       "      <td>75075.31</td>\n",
       "      <td>2</td>\n",
       "      <td>1</td>\n",
       "      <td>0</td>\n",
       "      <td>92888.52</td>\n",
       "      <td>1</td>\n",
       "      <td>0</td>\n",
       "      <td>1</td>\n",
       "    </tr>\n",
       "    <tr>\n",
       "      <th>10000</th>\n",
       "      <td>792</td>\n",
       "      <td>28</td>\n",
       "      <td>0.0</td>\n",
       "      <td>130142.79</td>\n",
       "      <td>1</td>\n",
       "      <td>1</td>\n",
       "      <td>0</td>\n",
       "      <td>38190.78</td>\n",
       "      <td>0</td>\n",
       "      <td>0</td>\n",
       "      <td>0</td>\n",
       "    </tr>\n",
       "  </tbody>\n",
       "</table>\n",
       "<p>10000 rows × 11 columns</p>\n",
       "</div>"
      ],
      "text/plain": [
       "           CreditScore  Age  Tenure    Balance  NumOfProducts  HasCrCard  \\\n",
       "RowNumber                                                                  \n",
       "1                  619   42     2.0       0.00              1          1   \n",
       "2                  608   41     1.0   83807.86              1          0   \n",
       "3                  502   42     8.0  159660.80              3          1   \n",
       "4                  699   39     1.0       0.00              2          0   \n",
       "5                  850   43     2.0  125510.82              1          1   \n",
       "...                ...  ...     ...        ...            ...        ...   \n",
       "9996               771   39     5.0       0.00              2          1   \n",
       "9997               516   35    10.0   57369.61              1          1   \n",
       "9998               709   36     7.0       0.00              1          0   \n",
       "9999               772   42     3.0   75075.31              2          1   \n",
       "10000              792   28     0.0  130142.79              1          1   \n",
       "\n",
       "           IsActiveMember  EstimatedSalary  Geography_Germany  \\\n",
       "RowNumber                                                       \n",
       "1                       1        101348.88                  0   \n",
       "2                       1        112542.58                  0   \n",
       "3                       0        113931.57                  0   \n",
       "4                       0         93826.63                  0   \n",
       "5                       1         79084.10                  0   \n",
       "...                   ...              ...                ...   \n",
       "9996                    0         96270.64                  0   \n",
       "9997                    1        101699.77                  0   \n",
       "9998                    1         42085.58                  0   \n",
       "9999                    0         92888.52                  1   \n",
       "10000                   0         38190.78                  0   \n",
       "\n",
       "           Geography_Spain  Gender_Male  \n",
       "RowNumber                                \n",
       "1                        0            0  \n",
       "2                        1            0  \n",
       "3                        0            0  \n",
       "4                        0            0  \n",
       "5                        1            0  \n",
       "...                    ...          ...  \n",
       "9996                     0            1  \n",
       "9997                     0            1  \n",
       "9998                     0            0  \n",
       "9999                     0            1  \n",
       "10000                    0            0  \n",
       "\n",
       "[10000 rows x 11 columns]"
      ]
     },
     "execution_count": 24,
     "metadata": {},
     "output_type": "execute_result"
    }
   ],
   "source": [
    "features_ohe = pd.get_dummies(features, drop_first=True)\n",
    "features_ohe"
   ]
  },
  {
   "cell_type": "code",
   "execution_count": 25,
   "metadata": {
    "scrolled": true
   },
   "outputs": [
    {
     "name": "stdout",
     "output_type": "stream",
     "text": [
      "(7500, 11)\n",
      "(7500,)\n",
      "(2500, 11)\n",
      "(2500,)\n"
     ]
    }
   ],
   "source": [
    "#División en grupo de entrenamiento y validación con los datos codificados con ohe\n",
    "features_train_ohe,features_valid_ohe,target_train,target_valid = train_test_split(features_ohe,\n",
    "                                                                           target,\n",
    "                                                                           test_size=0.25,\n",
    "                                                                           random_state=12345)\n",
    "print(features_train_ohe.shape)\n",
    "print(target_train.shape)\n",
    "print(features_valid_ohe.shape)\n",
    "print(target_valid.shape)"
   ]
  },
  {
   "cell_type": "markdown",
   "metadata": {},
   "source": [
    "#### Estandarización"
   ]
  },
  {
   "cell_type": "code",
   "execution_count": 26,
   "metadata": {},
   "outputs": [
    {
     "name": "stdout",
     "output_type": "stream",
     "text": [
      "           CreditScore       Age    Tenure   Balance  NumOfProducts  \\\n",
      "RowNumber                                                             \n",
      "227           0.442805 -0.841274  1.426885 -1.224577              2   \n",
      "7757         -0.310897 -0.270730  0.784858  0.641783              1   \n",
      "2066         -0.259274 -0.556002  1.105871 -1.224577              2   \n",
      "2801          1.217157  1.155631  1.426885  1.290462              2   \n",
      "7029          0.690598 -1.221637 -1.462240  1.142121              1   \n",
      "...                ...       ...       ...       ...            ...   \n",
      "4479         -1.054275 -0.746183 -0.178184 -1.224577              2   \n",
      "4095         -1.425964 -0.936365  1.747899 -1.224577              2   \n",
      "3493          0.040142  0.585087 -1.462240 -0.304909              1   \n",
      "2178          0.164039 -1.411819 -0.178184 -1.224577              2   \n",
      "4579          0.411831 -0.080548 -1.141226 -1.224577              2   \n",
      "\n",
      "           HasCrCard  IsActiveMember  EstimatedSalary  Geography_Germany  \\\n",
      "RowNumber                                                                  \n",
      "227                1               1        -1.269750                  0   \n",
      "7757               1               1         0.960396                  0   \n",
      "2066               1               0         0.661864                  0   \n",
      "2801               1               0        -1.039476                  0   \n",
      "7029               0               0        -0.851729                  1   \n",
      "...              ...             ...              ...                ...   \n",
      "4479               0               1        -1.291837                  0   \n",
      "4095               0               1        -1.294782                  0   \n",
      "3493               0               1        -0.916678                  0   \n",
      "2178               0               1        -1.142032                  0   \n",
      "4579               0               0        -0.963356                  0   \n",
      "\n",
      "           Geography_Spain  Gender_Male  \n",
      "RowNumber                                \n",
      "227                      0            0  \n",
      "7757                     1            0  \n",
      "2066                     0            1  \n",
      "2801                     0            1  \n",
      "7029                     0            1  \n",
      "...                    ...          ...  \n",
      "4479                     0            1  \n",
      "4095                     0            1  \n",
      "3493                     0            0  \n",
      "2178                     0            0  \n",
      "4579                     0            1  \n",
      "\n",
      "[7500 rows x 11 columns]\n"
     ]
    },
    {
     "name": "stderr",
     "output_type": "stream",
     "text": [
      "/tmp/ipykernel_320/2507876250.py:6: SettingWithCopyWarning: \n",
      "A value is trying to be set on a copy of a slice from a DataFrame.\n",
      "Try using .loc[row_indexer,col_indexer] = value instead\n",
      "\n",
      "See the caveats in the documentation: https://pandas.pydata.org/pandas-docs/stable/user_guide/indexing.html#returning-a-view-versus-a-copy\n",
      "  features_train_ohe [numeric]= scaler.transform(features_train_ohe[numeric])\n",
      "/opt/conda/envs/python3/lib/python3.9/site-packages/pandas/core/indexing.py:1738: SettingWithCopyWarning: \n",
      "A value is trying to be set on a copy of a slice from a DataFrame.\n",
      "Try using .loc[row_indexer,col_indexer] = value instead\n",
      "\n",
      "See the caveats in the documentation: https://pandas.pydata.org/pandas-docs/stable/user_guide/indexing.html#returning-a-view-versus-a-copy\n",
      "  self._setitem_single_column(loc, value[:, i].tolist(), pi)\n",
      "/tmp/ipykernel_320/2507876250.py:7: SettingWithCopyWarning: \n",
      "A value is trying to be set on a copy of a slice from a DataFrame.\n",
      "Try using .loc[row_indexer,col_indexer] = value instead\n",
      "\n",
      "See the caveats in the documentation: https://pandas.pydata.org/pandas-docs/stable/user_guide/indexing.html#returning-a-view-versus-a-copy\n",
      "  features_valid_ohe [numeric]= scaler.transform(features_valid_ohe[numeric])\n",
      "/opt/conda/envs/python3/lib/python3.9/site-packages/pandas/core/indexing.py:1738: SettingWithCopyWarning: \n",
      "A value is trying to be set on a copy of a slice from a DataFrame.\n",
      "Try using .loc[row_indexer,col_indexer] = value instead\n",
      "\n",
      "See the caveats in the documentation: https://pandas.pydata.org/pandas-docs/stable/user_guide/indexing.html#returning-a-view-versus-a-copy\n",
      "  self._setitem_single_column(loc, value[:, i].tolist(), pi)\n"
     ]
    }
   ],
   "source": [
    "#escogemos las columnas numéricas con magnitudes grandes y rangos amplios\n",
    "numeric = ['CreditScore','Age','Tenure','Balance','EstimatedSalary']\n",
    "#inicializamos, entrenamos y realizamos la estandarización para las columnas numéricas que necesitan balanceo\n",
    "scaler = StandardScaler()\n",
    "scaler.fit(features_train_ohe[numeric])\n",
    "features_train_ohe [numeric]= scaler.transform(features_train_ohe[numeric])\n",
    "features_valid_ohe [numeric]= scaler.transform(features_valid_ohe[numeric])\n",
    "print(features_train_ohe)\n"
   ]
  },
  {
   "cell_type": "markdown",
   "metadata": {},
   "source": [
    "## MODELOS DE MACHINE LEARNING"
   ]
  },
  {
   "cell_type": "markdown",
   "metadata": {},
   "source": [
    "### Árbol de Decisión"
   ]
  },
  {
   "cell_type": "code",
   "execution_count": 27,
   "metadata": {},
   "outputs": [
    {
     "name": "stdout",
     "output_type": "stream",
     "text": [
      "Profundidad: 7  | Mayor Exactitud: 0.8536\n"
     ]
    }
   ],
   "source": [
    "#Bases de comparación \n",
    "best_depth = 0\n",
    "best_acc = 0.5\n",
    "\n",
    "#Pruebas de exactitud de acuerdo a la profundidad \n",
    "for i in range(2,11):\n",
    "    #Creación árbol con profundidad variable\n",
    "    arbol = DecisionTreeClassifier(random_state=12345, max_depth=i)\n",
    "    arbol.fit(features_train_enc,target_train)\n",
    "    predicted_valid = arbol.predict(features_valid_enc)\n",
    "    tree_acc = accuracy_score(target_valid,predicted_valid)\n",
    "    #Asignación de mejor exactitud en base a profundidad\n",
    "    if tree_acc > best_acc:\n",
    "        best_acc = tree_acc\n",
    "        best_depth = i\n",
    "\n",
    "print ('Profundidad:',best_depth,' | Mayor Exactitud:',best_acc)    "
   ]
  },
  {
   "cell_type": "code",
   "execution_count": 28,
   "metadata": {},
   "outputs": [
    {
     "name": "stdout",
     "output_type": "stream",
     "text": [
      "              precision    recall  f1-score   support\n",
      "\n",
      "           0       0.86      0.97      0.91      1965\n",
      "           1       0.81      0.41      0.55       535\n",
      "\n",
      "    accuracy                           0.85      2500\n",
      "   macro avg       0.83      0.69      0.73      2500\n",
      "weighted avg       0.85      0.85      0.83      2500\n",
      "\n"
     ]
    }
   ],
   "source": [
    "#Metricas de rendimiento para modelo con mayor exactitud\n",
    "arbol = DecisionTreeClassifier(random_state=12345, max_depth=best_depth)\n",
    "arbol.fit(features_train_enc,target_train)\n",
    "predicted_valid = arbol.predict(features_valid_enc)\n",
    "print(classification_report(target_valid,predicted_valid))"
   ]
  },
  {
   "cell_type": "markdown",
   "metadata": {},
   "source": [
    "Se puede apreciar que la precisión es alta y adicional las 3 métricas para la clase 0 (no abandonó el banco) son bastante buenas en comparación con las de la clase 1 (F1-0=0.91 vs F1-1=0.54). Lo mas probable es que se deba al desequilibrio de clases, pues la clase 0 tiene el 80% de las observaciones."
   ]
  },
  {
   "cell_type": "code",
   "execution_count": 29,
   "metadata": {},
   "outputs": [
    {
     "data": {
      "image/png": "[encoded data removed]",
      "text/plain": [
       "<Figure size 640x480 with 1 Axes>"
      ]
     },
     "metadata": {},
     "output_type": "display_data"
    }
   ],
   "source": [
    "#Gráfico de los variables que el modelo considera mas relevantes\n",
    "ver_imp= pd.DataFrame({'valor':arbol.feature_importances_},index=features_train.columns)\n",
    "ver_imp.sort_values(by='valor', ascending=True,inplace=True)\n",
    "ver_imp.query(\"valor > 0\",inplace=True)\n",
    "ver_imp.plot(kind='barh')\n",
    "plt.title('Features Importances')\n",
    "plt.show()"
   ]
  },
  {
   "cell_type": "markdown",
   "metadata": {},
   "source": [
    "De acuerdo al gráfico, el árbol de decisión indica que el parámetro mas relevante durante su entrenamiento fue la edad de los clientes, seguido del número de productos que tienen contratados.\n",
    "    "
   ]
  },
  {
   "cell_type": "markdown",
   "metadata": {},
   "source": [
    "#### Balanceo de Clases con Submuestreo"
   ]
  },
  {
   "cell_type": "markdown",
   "metadata": {},
   "source": [
    "Se va a utilizar submuestreo ya que la cantidad de datos es bastante amplia y el sobre muestreo puede llegar a causar problemas de overfitting en los árboles."
   ]
  },
  {
   "cell_type": "code",
   "execution_count": 30,
   "metadata": {},
   "outputs": [],
   "source": [
    "#Función que realiza el submuestreo de los conjuntos features y target\n",
    "def downsample(features, target, fraction):\n",
    "    features_zeros = features[target == 0]\n",
    "    features_ones = features[target == 1]\n",
    "    target_zeros = target[target == 0]\n",
    "    target_ones = target[target == 1]\n",
    "    \n",
    "    features_downsampled = pd.concat([features_zeros.sample(frac=fraction, random_state=12345)]\n",
    "        + [features_ones])\n",
    "    target_downsampled = pd.concat([target_zeros.sample(frac=fraction, random_state=12345)]\n",
    "        + [target_ones])\n",
    "\n",
    "    features_downsampled, target_downsampled = shuffle(features_downsampled, target_downsampled, random_state=1234)\n",
    "\n",
    "    return features_downsampled, target_downsampled   "
   ]
  },
  {
   "cell_type": "code",
   "execution_count": 31,
   "metadata": {},
   "outputs": [
    {
     "name": "stdout",
     "output_type": "stream",
     "text": [
      "              precision    recall  f1-score   support\n",
      "\n",
      "           0       0.91      0.77      0.84      1965\n",
      "           1       0.47      0.73      0.57       535\n",
      "\n",
      "    accuracy                           0.76      2500\n",
      "   macro avg       0.69      0.75      0.70      2500\n",
      "weighted avg       0.82      0.76      0.78      2500\n",
      "\n"
     ]
    }
   ],
   "source": [
    "# Submuestreo de los datos de entrenamiento \n",
    "features_down,target_down = downsample(features_train_enc,target_train,0.26)\n",
    "\n",
    "#se escoge frac de 0.26 para igualar las observaciones de 0 y 1 \n",
    "arbol1 = DecisionTreeClassifier(random_state=12345, max_depth=best_depth)\n",
    "arbol1.fit(features_down,target_down)\n",
    "predicted_valid1 = arbol1.predict(features_valid_enc)\n",
    "print(classification_report(target_valid,predicted_valid1))"
   ]
  },
  {
   "cell_type": "markdown",
   "metadata": {},
   "source": [
    " Al haber compensado el desbalance de la clase objetivo e igualar la cantidad de observaciones, el score F1 de la clase 1 mejoró de 0.54 a 0.57, principalmente por el incremento en el recall de 0.41 a 0.73, esto es lógico pues el árbol ha encontrando nuevos patrones para tener una mayor sensibilidad ante la clase 1. Esto también ocasiona una disminución de la precisión ya que ahora se pueden encontrar mas falsos positivos."
   ]
  },
  {
   "cell_type": "markdown",
   "metadata": {},
   "source": [
    "### Bosque Aleatorio"
   ]
  },
  {
   "cell_type": "code",
   "execution_count": 32,
   "metadata": {},
   "outputs": [
    {
     "name": "stdout",
     "output_type": "stream",
     "text": [
      "Estimadores:  30  | Profundidad: 10  | Mayor Exactitud: 0.856\n"
     ]
    }
   ],
   "source": [
    "#Bases de comparación \n",
    "best_depth = 0\n",
    "best_acc = 0.5\n",
    "best_e=10\n",
    "#Pruebas de exactitud de acuerdo a la profundidad y estimadores\n",
    "for i in range(2,11):\n",
    "    for e in range (20,110,10):\n",
    "        #Creación árbol con profundidad variable\n",
    "        bosque = RandomForestClassifier(random_state=12345, n_estimators=e, max_depth=i)\n",
    "        bosque.fit(features_train_enc,target_train)\n",
    "        predicted_valid = bosque.predict(features_valid_enc)\n",
    "        forest_acc = accuracy_score(target_valid,predicted_valid)\n",
    "        #Asignación de mejor exactitud en base a profundidad\n",
    "        if forest_acc > best_acc:\n",
    "            best_acc = forest_acc\n",
    "            best_depth = i\n",
    "            best_e=e\n",
    "\n",
    "print ('Estimadores: ',best_e,' | Profundidad:',best_depth,' | Mayor Exactitud:',best_acc)    "
   ]
  },
  {
   "cell_type": "code",
   "execution_count": 33,
   "metadata": {},
   "outputs": [
    {
     "name": "stdout",
     "output_type": "stream",
     "text": [
      "              precision    recall  f1-score   support\n",
      "\n",
      "           0       0.86      0.98      0.91      1965\n",
      "           1       0.83      0.41      0.55       535\n",
      "\n",
      "    accuracy                           0.86      2500\n",
      "   macro avg       0.84      0.69      0.73      2500\n",
      "weighted avg       0.85      0.86      0.84      2500\n",
      "\n"
     ]
    }
   ],
   "source": [
    "#Métricas de rendimiento para el modelo con mayor precisión\n",
    "bosque = RandomForestClassifier(random_state=12345, n_estimators=best_e, max_depth=best_depth)\n",
    "bosque.fit(features_train_enc,target_train)\n",
    "predicted_valid = bosque.predict(features_valid_enc)\n",
    "print(classification_report(target_valid,predicted_valid))"
   ]
  },
  {
   "cell_type": "markdown",
   "metadata": {},
   "source": [
    "Se puede apreciar que la precisión es alta y adicional las 3 métricas para la clase 0 (no abandonó el banco) son bastante buenas en comparación con las de la clase 1 (F1-0=0.91 vs F1-1=0.55). Podemos intentar realizar una compensación en la clase 1 que tiene menos observaciones."
   ]
  },
  {
   "cell_type": "code",
   "execution_count": 34,
   "metadata": {},
   "outputs": [
    {
     "data": {
      "image/png": "[encoded data removed]",
      "text/plain": [
       "<Figure size 640x480 with 1 Axes>"
      ]
     },
     "metadata": {},
     "output_type": "display_data"
    }
   ],
   "source": [
    "#Gráfico de los variables que el modelo considera mas relevantes\n",
    "ver_imp= pd.DataFrame({'valor':bosque.feature_importances_},index=features_train.columns)\n",
    "ver_imp.sort_values(by='valor', ascending=True,inplace=True)\n",
    "ver_imp.query(\"valor > 0\",inplace=True)\n",
    "ver_imp.plot(kind='barh')\n",
    "plt.title('Features Importances')\n",
    "plt.show()"
   ]
  },
  {
   "cell_type": "markdown",
   "metadata": {},
   "source": [
    "De acuerdo al gráfico, el bosque aleatorio indica que el parámetro mas relevante durante su entrenamiento fue la edad de los clientes, seguido del número de productos que tienen contratados (igual que el modelo anterior)."
   ]
  },
  {
   "cell_type": "markdown",
   "metadata": {},
   "source": [
    "#### Balanceo de Clases con Submuestreo"
   ]
  },
  {
   "cell_type": "code",
   "execution_count": 35,
   "metadata": {},
   "outputs": [
    {
     "name": "stdout",
     "output_type": "stream",
     "text": [
      "              precision    recall  f1-score   support\n",
      "\n",
      "           0       0.92      0.79      0.85      1965\n",
      "           1       0.49      0.74      0.59       535\n",
      "\n",
      "    accuracy                           0.78      2500\n",
      "   macro avg       0.70      0.76      0.72      2500\n",
      "weighted avg       0.83      0.78      0.79      2500\n",
      "\n"
     ]
    }
   ],
   "source": [
    "#Probamos los datos con submuestreo en el bosque aleatorio\n",
    "bosque1 = RandomForestClassifier(random_state=12345, n_estimators=best_e, max_depth=best_depth)\n",
    "bosque1.fit(features_down,target_down)\n",
    "predicted_valid1 = bosque1.predict(features_valid_enc)\n",
    "print(classification_report(target_valid,predicted_valid1))"
   ]
  },
  {
   "cell_type": "markdown",
   "metadata": {},
   "source": [
    "De igual forma que en los árboles, al haber compensado el desbalance de la clase objetivo e igualar la cantidad de observaciones, el score F1 de la clase 1 mejoró de 0.55 a 0.59, principalmente por el incremento en el recall de 0.41 a 0.74, esto es lógico pues el bosque ha encontrando nuevos patrones para tener una mayor sensibilidad ante la clase 1. Esto también ocasiona una disminución de la precisión ya que ahora se pueden encontrar mas falsos positivos. "
   ]
  },
  {
   "cell_type": "markdown",
   "metadata": {},
   "source": [
    "### Regresión Logística"
   ]
  },
  {
   "cell_type": "markdown",
   "metadata": {},
   "source": [
    "#### Entrenamiento con Peso balanceado"
   ]
  },
  {
   "cell_type": "code",
   "execution_count": 36,
   "metadata": {},
   "outputs": [
    {
     "name": "stdout",
     "output_type": "stream",
     "text": [
      "              precision    recall  f1-score   support\n",
      "\n",
      "           0       0.90      0.71      0.79      1965\n",
      "           1       0.40      0.70      0.51       535\n",
      "\n",
      "    accuracy                           0.71      2500\n",
      "   macro avg       0.65      0.71      0.65      2500\n",
      "weighted avg       0.79      0.71      0.73      2500\n",
      "\n"
     ]
    }
   ],
   "source": [
    "regresion = LogisticRegression(random_state=12345,solver='liblinear',class_weight='balanced')\n",
    "regresion.fit(features_train_ohe,target_train)\n",
    "predicted_valid = regresion.predict(features_valid_ohe)\n",
    "print(classification_report(target_valid,predicted_valid))"
   ]
  },
  {
   "cell_type": "markdown",
   "metadata": {},
   "source": [
    "La regresión Logística también presenta unas métricas buenas en la clase 0, pues toma como base al desbalance que tienen los datos.\n",
    "\n",
    "A pesar de que utilizamos el atributo class_weight balanceado, no conseguimos mejores métricas de F1 (0.51) y recall (0.70) que en el árbol o el bosque aleatorio."
   ]
  },
  {
   "cell_type": "markdown",
   "metadata": {},
   "source": [
    "#### Entrenamiento con Sobremuestreo"
   ]
  },
  {
   "cell_type": "code",
   "execution_count": 37,
   "metadata": {},
   "outputs": [],
   "source": [
    "#Función que realiza el sobre muestreo de los conjuntos features y target \n",
    "def upsample(features, target, repeat):\n",
    "    features_zeros = features[target == 0]\n",
    "    features_ones = features[target == 1]\n",
    "    target_zeros = target[target == 0]\n",
    "    target_ones = target[target == 1]\n",
    "\n",
    "    features_upsampled = pd.concat([features_zeros] + [features_ones] * repeat)\n",
    "    target_upsampled = pd.concat([target_zeros] + [target_ones] * repeat)\n",
    "\n",
    "    features_upsampled, target_upsampled = shuffle(\n",
    "        features_upsampled, target_upsampled, random_state=12345)\n",
    "\n",
    "    return features_upsampled, target_upsampled"
   ]
  },
  {
   "cell_type": "code",
   "execution_count": 38,
   "metadata": {
    "scrolled": true
   },
   "outputs": [],
   "source": [
    "#Ejecución del sobre muestreo en el conjunto de entrenamiento codificado ohe\n",
    "features_up,target_up = upsample(features_train_ohe,target_train,3)"
   ]
  },
  {
   "cell_type": "code",
   "execution_count": 39,
   "metadata": {},
   "outputs": [
    {
     "name": "stdout",
     "output_type": "stream",
     "text": [
      "              precision    recall  f1-score   support\n",
      "\n",
      "           0       0.88      0.78      0.83      1965\n",
      "           1       0.43      0.61      0.50       535\n",
      "\n",
      "    accuracy                           0.74      2500\n",
      "   macro avg       0.65      0.69      0.67      2500\n",
      "weighted avg       0.78      0.74      0.76      2500\n",
      "\n"
     ]
    }
   ],
   "source": [
    "#Entrenamiento Modelo balanceado \n",
    "regresion1 = LogisticRegression(random_state=12345,solver='liblinear')\n",
    "regresion1.fit(features_up,target_up)\n",
    "predicted_valid1 = regresion1.predict(features_valid_ohe)\n",
    "print(classification_report(target_valid,predicted_valid1))"
   ]
  },
  {
   "cell_type": "markdown",
   "metadata": {},
   "source": [
    "Al ajustar los datos de entrenamiento con sobre muestreo (la regresión no sufre de overfitting) también presenta unas métricas buenas solo para la clase 0.\n",
    "\n",
    "Para la clase 1, F1 (0.5) y recall (0.61) son muy bajos a pesar de la compensación y peor que usar el atributo class_weight."
   ]
  },
  {
   "cell_type": "markdown",
   "metadata": {},
   "source": [
    "#### Cambio de Umbral"
   ]
  },
  {
   "cell_type": "code",
   "execution_count": 40,
   "metadata": {},
   "outputs": [
    {
     "name": "stdout",
     "output_type": "stream",
     "text": [
      "Threshold = 0.00 | F1=0.353|Precision = 0.214, Recall = 1.000\n",
      "Threshold = 0.02 | F1=0.353|Precision = 0.214, Recall = 1.000\n",
      "Threshold = 0.04 | F1=0.353|Precision = 0.214, Recall = 1.000\n",
      "Threshold = 0.06 | F1=0.353|Precision = 0.215, Recall = 1.000\n",
      "Threshold = 0.08 | F1=0.355|Precision = 0.216, Recall = 1.000\n",
      "Threshold = 0.10 | F1=0.358|Precision = 0.218, Recall = 0.998\n",
      "Threshold = 0.12 | F1=0.362|Precision = 0.221, Recall = 0.993\n",
      "Threshold = 0.14 | F1=0.368|Precision = 0.226, Recall = 0.987\n",
      "Threshold = 0.16 | F1=0.371|Precision = 0.229, Recall = 0.974\n",
      "Threshold = 0.18 | F1=0.379|Precision = 0.235, Recall = 0.968\n",
      "Threshold = 0.20 | F1=0.385|Precision = 0.241, Recall = 0.957\n",
      "Threshold = 0.22 | F1=0.394|Precision = 0.249, Recall = 0.948\n",
      "Threshold = 0.24 | F1=0.406|Precision = 0.258, Recall = 0.942\n",
      "Threshold = 0.26 | F1=0.413|Precision = 0.266, Recall = 0.931\n",
      "Threshold = 0.28 | F1=0.425|Precision = 0.276, Recall = 0.921\n",
      "Threshold = 0.30 | F1=0.435|Precision = 0.286, Recall = 0.910\n",
      "Threshold = 0.32 | F1=0.444|Precision = 0.295, Recall = 0.892\n",
      "Threshold = 0.34 | F1=0.452|Precision = 0.305, Recall = 0.873\n",
      "Threshold = 0.36 | F1=0.462|Precision = 0.316, Recall = 0.856\n",
      "Threshold = 0.38 | F1=0.476|Precision = 0.331, Recall = 0.845\n",
      "Threshold = 0.40 | F1=0.479|Precision = 0.339, Recall = 0.819\n",
      "Threshold = 0.42 | F1=0.485|Precision = 0.348, Recall = 0.800\n",
      "Threshold = 0.44 | F1=0.492|Precision = 0.359, Recall = 0.783\n"
     ]
    }
   ],
   "source": [
    "#Entrenamiento de una nueva regresión\n",
    "regresion2 = LogisticRegression(random_state=12345,solver='liblinear')\n",
    "regresion2.fit(features_train_ohe,target_train)\n",
    "\n",
    "#Creación del grupo de probabilidades para cada observación\n",
    "probabilities_valid = regresion.predict_proba(features_valid_ohe)\n",
    "probabilities_one_valid = probabilities_valid[:, 1]\n",
    "\n",
    "# Lazo para probar la respuesta de los scores ante el cambio de umbral\n",
    "for threshold in np.arange(0, 0.45, 0.02):\n",
    "    predicted_valid = probabilities_one_valid > threshold\n",
    "    \n",
    "    precision = precision_score(target_valid,predicted_valid)\n",
    "    recall = recall_score(target_valid,predicted_valid)\n",
    "    f1 = f1_score(target_valid,predicted_valid)\n",
    "    print('Threshold = {:.2f} | F1={:.3f}|Precision = {:.3f}, Recall = {:.3f}'.format(threshold,f1,precision, recall))"
   ]
  },
  {
   "cell_type": "markdown",
   "metadata": {},
   "source": [
    "La modificación del umbral no mejora considerablemente el score F1 para la clase 1, llegando al máximo (threshold 0.44) casi en los 0.5 que se configuran por defecto."
   ]
  },
  {
   "cell_type": "markdown",
   "metadata": {},
   "source": [
    "## PRUEBAS DE MODELO ESCOGIDO"
   ]
  },
  {
   "cell_type": "markdown",
   "metadata": {},
   "source": [
    "Vamos a utilizar el Bosque Aleatorio al ser el que tiene mejor desempeño en la métrica F1. \n",
    "\n",
    "Se va a realizar un sub muestreo para mejorar el recall de la clase 1, puesto que considero que es mas importante bajar el número de falsos negativos. Es decir, a costa de la precisión y poder generar mayor número de falsos positivos, quiero predecir la mayor cantidad de clientes que pueden dejar el banco.\n",
    "\n",
    "Esta consideración se hace tomando en cuenta que se debe tener un balance entre precisión y recall (maximizar f1 a la vez)."
   ]
  },
  {
   "cell_type": "markdown",
   "metadata": {},
   "source": [
    "### Separación Entrenamiento-Validación-Prueba"
   ]
  },
  {
   "cell_type": "code",
   "execution_count": 41,
   "metadata": {},
   "outputs": [
    {
     "name": "stdout",
     "output_type": "stream",
     "text": [
      "(6000, 10)\n",
      "(2000, 10)\n",
      "(2000, 10)\n",
      "(6000,)\n",
      "(2000,)\n",
      "(2000,)\n"
     ]
    }
   ],
   "source": [
    "#Separación en datos para entrenamieto \n",
    "features_train,features_temp,target_train,target_temp = train_test_split(features,\n",
    "                                                                           target,\n",
    "                                                                           test_size=0.4,\n",
    "                                                                           random_state=12345)\n",
    "\n",
    "#Separación en datos para validación y para prueba\n",
    "features_valid,features_test,target_valid,target_test = train_test_split(features_temp,\n",
    "                                                                           target_temp,\n",
    "                                                                           test_size=0.5,\n",
    "                                                                           random_state=12345)\n",
    "\n",
    "#Comprobación de una separción correcta\n",
    "print(features_train.shape)\n",
    "print(features_valid.shape)\n",
    "print(features_test.shape)\n",
    "print(target_train.shape)\n",
    "print(target_valid.shape)\n",
    "print(target_test.shape)"
   ]
  },
  {
   "cell_type": "markdown",
   "metadata": {},
   "source": [
    "Realizamos una distribución de 60% para entrenamiento, 20% para validación y 20% para evaluación de acuerdo a lo que se recomienda."
   ]
  },
  {
   "cell_type": "code",
   "execution_count": 42,
   "metadata": {},
   "outputs": [
    {
     "name": "stderr",
     "output_type": "stream",
     "text": [
      "/tmp/ipykernel_320/2748045464.py:6: SettingWithCopyWarning: \n",
      "A value is trying to be set on a copy of a slice from a DataFrame.\n",
      "Try using .loc[row_indexer,col_indexer] = value instead\n",
      "\n",
      "See the caveats in the documentation: https://pandas.pydata.org/pandas-docs/stable/user_guide/indexing.html#returning-a-view-versus-a-copy\n",
      "  features_t_enc [category] = encoder.transform(features_train[category])\n",
      "/opt/conda/envs/python3/lib/python3.9/site-packages/pandas/core/indexing.py:1738: SettingWithCopyWarning: \n",
      "A value is trying to be set on a copy of a slice from a DataFrame.\n",
      "Try using .loc[row_indexer,col_indexer] = value instead\n",
      "\n",
      "See the caveats in the documentation: https://pandas.pydata.org/pandas-docs/stable/user_guide/indexing.html#returning-a-view-versus-a-copy\n",
      "  self._setitem_single_column(loc, value[:, i].tolist(), pi)\n",
      "/tmp/ipykernel_320/2748045464.py:7: SettingWithCopyWarning: \n",
      "A value is trying to be set on a copy of a slice from a DataFrame.\n",
      "Try using .loc[row_indexer,col_indexer] = value instead\n",
      "\n",
      "See the caveats in the documentation: https://pandas.pydata.org/pandas-docs/stable/user_guide/indexing.html#returning-a-view-versus-a-copy\n",
      "  features_v_enc [category] = encoder.transform(features_valid[category])\n",
      "/opt/conda/envs/python3/lib/python3.9/site-packages/pandas/core/indexing.py:1738: SettingWithCopyWarning: \n",
      "A value is trying to be set on a copy of a slice from a DataFrame.\n",
      "Try using .loc[row_indexer,col_indexer] = value instead\n",
      "\n",
      "See the caveats in the documentation: https://pandas.pydata.org/pandas-docs/stable/user_guide/indexing.html#returning-a-view-versus-a-copy\n",
      "  self._setitem_single_column(loc, value[:, i].tolist(), pi)\n",
      "/tmp/ipykernel_320/2748045464.py:8: SettingWithCopyWarning: \n",
      "A value is trying to be set on a copy of a slice from a DataFrame.\n",
      "Try using .loc[row_indexer,col_indexer] = value instead\n",
      "\n",
      "See the caveats in the documentation: https://pandas.pydata.org/pandas-docs/stable/user_guide/indexing.html#returning-a-view-versus-a-copy\n",
      "  features_te_enc [category] = encoder.transform(features_test[category])\n",
      "/opt/conda/envs/python3/lib/python3.9/site-packages/pandas/core/indexing.py:1738: SettingWithCopyWarning: \n",
      "A value is trying to be set on a copy of a slice from a DataFrame.\n",
      "Try using .loc[row_indexer,col_indexer] = value instead\n",
      "\n",
      "See the caveats in the documentation: https://pandas.pydata.org/pandas-docs/stable/user_guide/indexing.html#returning-a-view-versus-a-copy\n",
      "  self._setitem_single_column(loc, value[:, i].tolist(), pi)\n"
     ]
    }
   ],
   "source": [
    "#Codificación de los nuevos grupos para entrenar,validar y evaluar\n",
    "features_t_enc = features_train\n",
    "features_v_enc = features_valid\n",
    "features_te_enc = features_test\n",
    "\n",
    "features_t_enc [category] = encoder.transform(features_train[category])\n",
    "features_v_enc [category] = encoder.transform(features_valid[category])\n",
    "features_te_enc [category] = encoder.transform(features_test[category])"
   ]
  },
  {
   "cell_type": "markdown",
   "metadata": {},
   "source": [
    "### Submuestreo datos de entrenamiento"
   ]
  },
  {
   "cell_type": "code",
   "execution_count": 43,
   "metadata": {},
   "outputs": [],
   "source": [
    "#aplicación del sub muestreo para mejorar el balance\n",
    "features_down,target_down = downsample(features_t_enc,target_train,0.26)"
   ]
  },
  {
   "cell_type": "markdown",
   "metadata": {},
   "source": [
    "### Entrenamiento Bosque"
   ]
  },
  {
   "cell_type": "code",
   "execution_count": 44,
   "metadata": {},
   "outputs": [
    {
     "name": "stdout",
     "output_type": "stream",
     "text": [
      "Validación : F1= 0.593170731707317 |Precision= 0.500823723228995 |Recall= 0.7272727272727273\n",
      "\n",
      "      Test : F1= 0.5678776290630976 |Precision= 0.4767255216693419 |Recall= 0.7021276595744681\n"
     ]
    }
   ],
   "source": [
    "#Entrenamiento y comprobación de métricas\n",
    "forest = RandomForestClassifier(random_state=12345,n_estimators=best_e,max_depth=best_depth)\n",
    "forest.fit(features_down,target_down)\n",
    "\n",
    "#Predicción conjunto de validación y evaluación\n",
    "predicted_valid = forest.predict(features_v_enc)\n",
    "predicted_test = forest.predict(features_te_enc)\n",
    "\n",
    "#Métricas para conjunto de evaluación y prueba\n",
    "pv=precision_score(target_valid,predicted_valid)\n",
    "pt=precision_score(target_test,predicted_test)\n",
    "rv=recall_score(target_valid,predicted_valid)\n",
    "rt=recall_score(target_test,predicted_test)\n",
    "fv=f1_score(target_valid,predicted_valid)\n",
    "ft=f1_score(target_test,predicted_test)\n",
    "print ('Validación : F1=',fv,'|Precision=',pv,'|Recall=',rv)\n",
    "print()\n",
    "print ('      Test : F1=',ft,'|Precision=',pt,'|Recall=',rt)"
   ]
  },
  {
   "cell_type": "markdown",
   "metadata": {},
   "source": [
    "### AUC-ROC "
   ]
  },
  {
   "cell_type": "code",
   "execution_count": 45,
   "metadata": {},
   "outputs": [
    {
     "name": "stdout",
     "output_type": "stream",
     "text": [
      "0.8439305222025298\n",
      "0.8397794237794778\n"
     ]
    }
   ],
   "source": [
    "#Análisis de la métrica AUC-ROC\n",
    "predicted_one = forest.predict_proba(features_v_enc)[:,1]\n",
    "predicted_one_t = forest.predict_proba(features_te_enc)[:,1]\n",
    "auc_roc_v = roc_auc_score(target_valid,predicted_one)\n",
    "auc_roc_t = roc_auc_score(target_test,predicted_one_t)\n",
    "print(auc_roc_v)\n",
    "print(auc_roc_t)"
   ]
  },
  {
   "cell_type": "markdown",
   "metadata": {},
   "source": [
    "## CONCLUSIONES"
   ]
  },
  {
   "cell_type": "markdown",
   "metadata": {},
   "source": [
    "- El análisis se enfocó en entrenar un modelo de machine learning para clasificación, con el fin de distinguir entre clientes que no abandonan el Banco (clase 0) y aquellos que si lo hacen (clase 1).\n",
    "- Al ser un problema de clasificación, se hizo pruebas con 3 tipos de modelo que son: Árbol de Clasificación, Bosque Aleatorio y Regresión Logística.\n",
    "- Dentro de las columnas de datos pudimos observar lo siguiente:\n",
    "    - Existen dos columnas categóricas (strings) que necesitan ser codificadas para utilizarlas en el entrenamiento de modelos.\n",
    "    - Existe una columna Ternure correspondiente al tiempo que lleva en plazo fijo el dinero de los clientes que tienen este sevicio, posee datos nulos que fueron identados con 0 para poder procesar.\n",
    "    - La columna objetivo presenta un claro desbalance de clase, puesto que el 80% de las datos corresponden a clientes que no han abandonado el banco (clase 0) y solo un 20% clase 1 (si abandonaron).\n",
    "    - Existen diferentes escalas en las columnas numéricas, puesto que hay edades (18-92), balance (), score, etc, que necesitan ser escaladas para que el modelo de regresión los procese correctamente.\n",
    "- Al comparar las métricas F1 y recall del árbol después del submuestreo, mejoraron los scores para nuestra clase de interés. Aunque precisión y exactitud se ven ligeramente perjudicadas.\n",
    "- Al comparar las métricas F1 y recall del bosque aleatorio después del submuestreo, mejoraron los scores para nuestra clase de interés. Aunque precisión y exactitud se ven ligeramente perjudicadas.\n",
    "- Al comparar las métricas F1 y recall de la regresión logística,los scores se presentaron mas altos al utilizar el atributo class_weight. Sin embargo el sobre muestreo y el ajuste de umbral, no consiguieron mejores resultados.\n",
    "- Se realizó el entrenamiento del bosque aleatorio por tener la mejor respuesta de f1 para la clase 1, utilizando 3 grupos (entrenamiento,validación, test) y realizando un submuestreo para compensar el desbalance de clase.\n",
    "- Se logró obtener un F1 de 0.59 en el conjunto de validación y 0.56 en evaluación.\n",
    "- Se realizó en análisis de la métrica AUC ROC y se consiguió un resultado de 0.84 para validación y evaluación.\n",
    "- El valor de F1 nos muestra un balance que existe entre la precisión y el recall, en nuestro caso particular se logró llegar a 0.59 al subir la sensibilidad para obtener mayor número de verdaderos postivos, sin incrementar de manera considerable los falsos positivos. En caso del AUC ROC tenemos un valor de 0.84 que nos indica que tan bien nuestro modelo separa la clase 1 de la clase 0, corresponde al área bajo la curva que crean el recall (tasa de verdaderos positivos) y la tasa de de falsos positivos para diferentes umbrales. Es decir al mejorar el recall, aumentamos nuestro F1 y AUC-ROC.\n",
    "- Nos interesa que nuestros valores de F1 y AUC ROC sean altos puesto que queremos que la predicción distinga correctamente entre los clientes que abandonan y los que no, y que a la vez tengan un poco mas de énfasis en detectar aquellos que se pueden ir del banco, ya que es mas costoso adquirir un nuevo cliente, que mantener uno.\n",
    "- Dentro de los parámetros observados en el entrenamiento, se pudo observar que la Edad y el número de productos que tiene el cliente, eran los que tenían mayor peso para la predicción."
   ]
  }
 ],
 "metadata": {
  "ExecuteTimeLog": [
   {
    "duration": 981,
    "start_time": "2024-11-08T21:40:36.244Z"
   },
   {
    "duration": 3,
    "start_time": "2024-11-08T21:40:54.036Z"
   },
   {
    "duration": 14,
    "start_time": "2024-11-08T21:41:19.671Z"
   },
   {
    "duration": 20,
    "start_time": "2024-11-08T21:43:58.793Z"
   },
   {
    "duration": 12,
    "start_time": "2024-11-08T21:44:08.214Z"
   },
   {
    "duration": 13,
    "start_time": "2024-11-08T21:44:27.875Z"
   },
   {
    "duration": 15,
    "start_time": "2024-11-08T21:44:39.549Z"
   },
   {
    "duration": 13,
    "start_time": "2024-11-08T21:44:48.766Z"
   },
   {
    "duration": 2,
    "start_time": "2024-11-08T21:45:04.128Z"
   },
   {
    "duration": 25,
    "start_time": "2024-11-08T21:46:49.232Z"
   },
   {
    "duration": 11,
    "start_time": "2024-11-08T23:16:48.805Z"
   },
   {
    "duration": 15,
    "start_time": "2024-11-08T23:17:12.748Z"
   },
   {
    "duration": 15,
    "start_time": "2024-11-08T23:18:36.327Z"
   },
   {
    "duration": 17,
    "start_time": "2024-11-08T23:19:14.010Z"
   },
   {
    "duration": 10,
    "start_time": "2024-11-08T23:19:17.696Z"
   },
   {
    "duration": 11,
    "start_time": "2024-11-08T23:19:22.611Z"
   },
   {
    "duration": 16,
    "start_time": "2024-11-08T23:28:49.623Z"
   },
   {
    "duration": 740,
    "start_time": "2024-11-08T23:45:28.265Z"
   },
   {
    "duration": 18,
    "start_time": "2024-11-08T23:45:29.007Z"
   },
   {
    "duration": 10,
    "start_time": "2024-11-08T23:45:29.027Z"
   },
   {
    "duration": 15,
    "start_time": "2024-11-08T23:45:29.038Z"
   },
   {
    "duration": 898,
    "start_time": "2024-11-08T23:45:29.056Z"
   },
   {
    "duration": 0,
    "start_time": "2024-11-08T23:45:29.955Z"
   },
   {
    "duration": 38,
    "start_time": "2024-11-08T23:45:50.162Z"
   },
   {
    "duration": 20,
    "start_time": "2024-11-08T23:45:58.257Z"
   },
   {
    "duration": 14,
    "start_time": "2024-11-08T23:46:13.416Z"
   },
   {
    "duration": 38,
    "start_time": "2024-11-08T23:46:27.742Z"
   },
   {
    "duration": 36,
    "start_time": "2024-11-08T23:46:41.567Z"
   },
   {
    "duration": 13,
    "start_time": "2024-11-08T23:52:38.347Z"
   },
   {
    "duration": 36,
    "start_time": "2024-11-08T23:52:47.451Z"
   },
   {
    "duration": 36,
    "start_time": "2024-11-08T23:52:59.198Z"
   },
   {
    "duration": 35,
    "start_time": "2024-11-08T23:53:14.476Z"
   },
   {
    "duration": 4,
    "start_time": "2024-11-08T23:53:20.396Z"
   },
   {
    "duration": 36,
    "start_time": "2024-11-08T23:53:47.407Z"
   },
   {
    "duration": 42,
    "start_time": "2024-11-08T23:54:13.077Z"
   },
   {
    "duration": 34,
    "start_time": "2024-11-08T23:54:31.202Z"
   },
   {
    "duration": 13,
    "start_time": "2024-11-08T23:54:52.439Z"
   },
   {
    "duration": 51,
    "start_time": "2024-11-08T23:55:01.435Z"
   },
   {
    "duration": 36,
    "start_time": "2024-11-08T23:55:21.580Z"
   },
   {
    "duration": 16,
    "start_time": "2024-11-08T23:55:35.814Z"
   },
   {
    "duration": 10,
    "start_time": "2024-11-08T23:55:36.634Z"
   },
   {
    "duration": 11,
    "start_time": "2024-11-08T23:55:37.659Z"
   },
   {
    "duration": 4,
    "start_time": "2024-11-08T23:55:42.370Z"
   },
   {
    "duration": 14,
    "start_time": "2024-11-08T23:55:44.008Z"
   },
   {
    "duration": 4,
    "start_time": "2024-11-08T23:57:58.546Z"
   },
   {
    "duration": 7,
    "start_time": "2024-11-08T23:58:04.221Z"
   },
   {
    "duration": 13,
    "start_time": "2024-11-08T23:59:57.659Z"
   },
   {
    "duration": 5,
    "start_time": "2024-11-09T00:00:09.456Z"
   },
   {
    "duration": 13,
    "start_time": "2024-11-09T00:02:25.419Z"
   },
   {
    "duration": 4,
    "start_time": "2024-11-09T00:02:32.996Z"
   },
   {
    "duration": 6,
    "start_time": "2024-11-09T00:03:16.415Z"
   },
   {
    "duration": 5,
    "start_time": "2024-11-09T00:03:40.173Z"
   },
   {
    "duration": 5,
    "start_time": "2024-11-09T00:04:28.917Z"
   },
   {
    "duration": 6,
    "start_time": "2024-11-09T00:04:48.324Z"
   },
   {
    "duration": 5,
    "start_time": "2024-11-09T00:09:27.210Z"
   },
   {
    "duration": 15,
    "start_time": "2024-11-09T00:09:44.822Z"
   },
   {
    "duration": 15,
    "start_time": "2024-11-09T00:26:00.551Z"
   },
   {
    "duration": 7,
    "start_time": "2024-11-09T00:37:11.434Z"
   },
   {
    "duration": 160,
    "start_time": "2024-11-10T02:28:01.130Z"
   },
   {
    "duration": 838,
    "start_time": "2024-11-10T02:28:25.774Z"
   },
   {
    "duration": 27,
    "start_time": "2024-11-10T02:28:28.098Z"
   },
   {
    "duration": 10,
    "start_time": "2024-11-10T02:28:28.602Z"
   },
   {
    "duration": 15,
    "start_time": "2024-11-10T02:28:29.375Z"
   },
   {
    "duration": 4,
    "start_time": "2024-11-10T02:28:31.271Z"
   },
   {
    "duration": 14,
    "start_time": "2024-11-10T02:28:32.068Z"
   },
   {
    "duration": 8,
    "start_time": "2024-11-10T02:28:33.410Z"
   },
   {
    "duration": 5,
    "start_time": "2024-11-10T02:28:35.052Z"
   },
   {
    "duration": 6,
    "start_time": "2024-11-10T02:28:36.650Z"
   },
   {
    "duration": 8,
    "start_time": "2024-11-10T02:28:38.409Z"
   },
   {
    "duration": 14,
    "start_time": "2024-11-10T02:28:39.856Z"
   },
   {
    "duration": 7,
    "start_time": "2024-11-10T02:28:42.131Z"
   },
   {
    "duration": 505,
    "start_time": "2024-11-10T02:28:46.442Z"
   },
   {
    "duration": 8,
    "start_time": "2024-11-10T02:29:08.010Z"
   },
   {
    "duration": 7,
    "start_time": "2024-11-10T02:29:34.211Z"
   },
   {
    "duration": 4,
    "start_time": "2024-11-10T02:30:52.130Z"
   },
   {
    "duration": 5,
    "start_time": "2024-11-10T02:32:25.131Z"
   },
   {
    "duration": 5,
    "start_time": "2024-11-10T02:33:52.602Z"
   },
   {
    "duration": 8,
    "start_time": "2024-11-10T02:34:04.576Z"
   },
   {
    "duration": 5,
    "start_time": "2024-11-10T02:35:29.250Z"
   },
   {
    "duration": 6,
    "start_time": "2024-11-10T02:49:08.083Z"
   },
   {
    "duration": 14,
    "start_time": "2024-11-10T02:49:49.296Z"
   },
   {
    "duration": 18,
    "start_time": "2024-11-10T02:50:05.299Z"
   },
   {
    "duration": 7,
    "start_time": "2024-11-10T02:50:31.206Z"
   },
   {
    "duration": 773,
    "start_time": "2024-11-10T02:59:20.711Z"
   },
   {
    "duration": 16,
    "start_time": "2024-11-10T02:59:21.486Z"
   },
   {
    "duration": 10,
    "start_time": "2024-11-10T02:59:21.504Z"
   },
   {
    "duration": 14,
    "start_time": "2024-11-10T02:59:21.516Z"
   },
   {
    "duration": 3,
    "start_time": "2024-11-10T02:59:21.531Z"
   },
   {
    "duration": 47,
    "start_time": "2024-11-10T02:59:21.536Z"
   },
   {
    "duration": 8,
    "start_time": "2024-11-10T02:59:21.585Z"
   },
   {
    "duration": 7,
    "start_time": "2024-11-10T02:59:21.594Z"
   },
   {
    "duration": 6,
    "start_time": "2024-11-10T02:59:21.606Z"
   },
   {
    "duration": 6,
    "start_time": "2024-11-10T02:59:21.616Z"
   },
   {
    "duration": 14,
    "start_time": "2024-11-10T02:59:21.624Z"
   },
   {
    "duration": 33,
    "start_time": "2024-11-10T02:59:21.640Z"
   },
   {
    "duration": 8,
    "start_time": "2024-11-10T02:59:21.675Z"
   },
   {
    "duration": 4,
    "start_time": "2024-11-10T02:59:21.684Z"
   },
   {
    "duration": 5,
    "start_time": "2024-11-10T02:59:21.690Z"
   },
   {
    "duration": 5,
    "start_time": "2024-11-10T02:59:21.697Z"
   },
   {
    "duration": 6,
    "start_time": "2024-11-10T02:59:21.703Z"
   },
   {
    "duration": 4,
    "start_time": "2024-11-10T02:59:21.710Z"
   },
   {
    "duration": 8,
    "start_time": "2024-11-10T03:15:34.490Z"
   },
   {
    "duration": 11,
    "start_time": "2024-11-10T03:15:46.585Z"
   },
   {
    "duration": 10,
    "start_time": "2024-11-10T03:17:24.958Z"
   },
   {
    "duration": 867,
    "start_time": "2024-11-10T03:17:33.480Z"
   },
   {
    "duration": 15,
    "start_time": "2024-11-10T03:17:34.394Z"
   },
   {
    "duration": 744,
    "start_time": "2024-11-10T03:17:49.054Z"
   },
   {
    "duration": 16,
    "start_time": "2024-11-10T03:17:49.800Z"
   },
   {
    "duration": 10,
    "start_time": "2024-11-10T03:17:49.818Z"
   },
   {
    "duration": 14,
    "start_time": "2024-11-10T03:17:49.830Z"
   },
   {
    "duration": 28,
    "start_time": "2024-11-10T03:17:49.845Z"
   },
   {
    "duration": 3,
    "start_time": "2024-11-10T03:17:49.875Z"
   },
   {
    "duration": 14,
    "start_time": "2024-11-10T03:17:49.880Z"
   },
   {
    "duration": 6,
    "start_time": "2024-11-10T03:17:49.896Z"
   },
   {
    "duration": 4,
    "start_time": "2024-11-10T03:17:49.904Z"
   },
   {
    "duration": 5,
    "start_time": "2024-11-10T03:17:49.911Z"
   },
   {
    "duration": 6,
    "start_time": "2024-11-10T03:17:49.918Z"
   },
   {
    "duration": 56,
    "start_time": "2024-11-10T03:17:49.925Z"
   },
   {
    "duration": 5,
    "start_time": "2024-11-10T03:17:49.983Z"
   },
   {
    "duration": 6,
    "start_time": "2024-11-10T03:17:49.990Z"
   },
   {
    "duration": 4,
    "start_time": "2024-11-10T03:17:49.998Z"
   },
   {
    "duration": 5,
    "start_time": "2024-11-10T03:17:50.004Z"
   },
   {
    "duration": 4,
    "start_time": "2024-11-10T03:17:50.012Z"
   },
   {
    "duration": 6,
    "start_time": "2024-11-10T03:17:50.018Z"
   },
   {
    "duration": 5,
    "start_time": "2024-11-10T03:17:50.025Z"
   },
   {
    "duration": 236,
    "start_time": "2024-11-10T03:35:16.209Z"
   },
   {
    "duration": 3,
    "start_time": "2024-11-10T03:35:36.159Z"
   },
   {
    "duration": 5,
    "start_time": "2024-11-10T03:47:44.955Z"
   },
   {
    "duration": 4,
    "start_time": "2024-11-10T03:48:07.104Z"
   },
   {
    "duration": 13,
    "start_time": "2024-11-10T03:50:25.113Z"
   },
   {
    "duration": 13,
    "start_time": "2024-11-10T04:19:26.667Z"
   },
   {
    "duration": 4,
    "start_time": "2024-11-10T04:19:39.264Z"
   },
   {
    "duration": 19,
    "start_time": "2024-11-10T04:19:43.361Z"
   },
   {
    "duration": 775,
    "start_time": "2024-11-11T00:18:38.254Z"
   },
   {
    "duration": 22,
    "start_time": "2024-11-11T00:18:39.031Z"
   },
   {
    "duration": 9,
    "start_time": "2024-11-11T00:18:39.054Z"
   },
   {
    "duration": 14,
    "start_time": "2024-11-11T00:18:39.065Z"
   },
   {
    "duration": 27,
    "start_time": "2024-11-11T00:18:39.080Z"
   },
   {
    "duration": 2,
    "start_time": "2024-11-11T00:18:39.109Z"
   },
   {
    "duration": 14,
    "start_time": "2024-11-11T00:18:39.114Z"
   },
   {
    "duration": 6,
    "start_time": "2024-11-11T00:18:39.130Z"
   },
   {
    "duration": 4,
    "start_time": "2024-11-11T00:18:39.138Z"
   },
   {
    "duration": 4,
    "start_time": "2024-11-11T00:18:39.146Z"
   },
   {
    "duration": 5,
    "start_time": "2024-11-11T00:18:39.152Z"
   },
   {
    "duration": 55,
    "start_time": "2024-11-11T00:18:39.158Z"
   },
   {
    "duration": 4,
    "start_time": "2024-11-11T00:18:39.215Z"
   },
   {
    "duration": 7,
    "start_time": "2024-11-11T00:18:39.221Z"
   },
   {
    "duration": 4,
    "start_time": "2024-11-11T00:18:39.230Z"
   },
   {
    "duration": 5,
    "start_time": "2024-11-11T00:18:39.237Z"
   },
   {
    "duration": 5,
    "start_time": "2024-11-11T00:18:39.244Z"
   },
   {
    "duration": 7,
    "start_time": "2024-11-11T00:18:39.251Z"
   },
   {
    "duration": 47,
    "start_time": "2024-11-11T00:18:39.260Z"
   },
   {
    "duration": 4,
    "start_time": "2024-11-11T00:18:39.308Z"
   },
   {
    "duration": 17,
    "start_time": "2024-11-11T00:18:39.313Z"
   },
   {
    "duration": 214,
    "start_time": "2024-11-11T00:27:58.989Z"
   },
   {
    "duration": 3,
    "start_time": "2024-11-11T00:28:12.346Z"
   },
   {
    "duration": 24,
    "start_time": "2024-11-11T00:28:18.657Z"
   },
   {
    "duration": 14,
    "start_time": "2024-11-11T00:28:27.661Z"
   },
   {
    "duration": 155,
    "start_time": "2024-11-11T00:28:48.483Z"
   },
   {
    "duration": 6,
    "start_time": "2024-11-11T00:45:17.949Z"
   },
   {
    "duration": 14,
    "start_time": "2024-11-11T00:46:18.495Z"
   },
   {
    "duration": 13,
    "start_time": "2024-11-11T00:47:10.695Z"
   },
   {
    "duration": 7,
    "start_time": "2024-11-11T00:52:07.966Z"
   },
   {
    "duration": 112,
    "start_time": "2024-11-11T00:53:14.118Z"
   },
   {
    "duration": 506,
    "start_time": "2024-11-11T00:58:15.074Z"
   },
   {
    "duration": 28,
    "start_time": "2024-11-11T01:08:00.301Z"
   },
   {
    "duration": 28,
    "start_time": "2024-11-11T01:08:09.962Z"
   },
   {
    "duration": 15,
    "start_time": "2024-11-11T01:10:44.390Z"
   },
   {
    "duration": 19,
    "start_time": "2024-11-11T01:51:32.212Z"
   },
   {
    "duration": 18,
    "start_time": "2024-11-11T01:51:52.112Z"
   },
   {
    "duration": 28,
    "start_time": "2024-11-11T01:52:57.455Z"
   },
   {
    "duration": 29,
    "start_time": "2024-11-11T01:54:21.312Z"
   },
   {
    "duration": 14,
    "start_time": "2024-11-11T01:54:32.574Z"
   },
   {
    "duration": 15,
    "start_time": "2024-11-11T01:56:17.945Z"
   },
   {
    "duration": 22,
    "start_time": "2024-11-11T02:04:01.316Z"
   },
   {
    "duration": 13,
    "start_time": "2024-11-11T02:04:34.187Z"
   },
   {
    "duration": 19,
    "start_time": "2024-11-11T03:04:57.673Z"
   },
   {
    "duration": 23,
    "start_time": "2024-11-11T03:05:30.583Z"
   },
   {
    "duration": 24,
    "start_time": "2024-11-11T03:06:13.754Z"
   },
   {
    "duration": 14,
    "start_time": "2024-11-11T03:10:08.392Z"
   },
   {
    "duration": 3,
    "start_time": "2024-11-11T03:10:15.109Z"
   },
   {
    "duration": 12,
    "start_time": "2024-11-11T03:27:53.620Z"
   },
   {
    "duration": 12,
    "start_time": "2024-11-11T03:28:00.069Z"
   },
   {
    "duration": 2,
    "start_time": "2024-11-11T03:28:18.703Z"
   },
   {
    "duration": 2,
    "start_time": "2024-11-11T03:28:32.937Z"
   },
   {
    "duration": 16,
    "start_time": "2024-11-11T04:19:28.691Z"
   },
   {
    "duration": 6,
    "start_time": "2024-11-11T04:19:53.916Z"
   },
   {
    "duration": 5,
    "start_time": "2024-11-11T04:20:19.654Z"
   },
   {
    "duration": 6,
    "start_time": "2024-11-11T04:20:28.197Z"
   },
   {
    "duration": 6,
    "start_time": "2024-11-11T04:20:40.394Z"
   },
   {
    "duration": 12,
    "start_time": "2024-11-11T04:25:41.226Z"
   },
   {
    "duration": 756,
    "start_time": "2024-11-11T04:27:55.765Z"
   },
   {
    "duration": 17,
    "start_time": "2024-11-11T04:27:56.522Z"
   },
   {
    "duration": 9,
    "start_time": "2024-11-11T04:27:56.542Z"
   },
   {
    "duration": 14,
    "start_time": "2024-11-11T04:27:56.553Z"
   },
   {
    "duration": 11,
    "start_time": "2024-11-11T04:27:56.570Z"
   },
   {
    "duration": 24,
    "start_time": "2024-11-11T04:27:56.582Z"
   },
   {
    "duration": 15,
    "start_time": "2024-11-11T04:27:56.608Z"
   },
   {
    "duration": 7,
    "start_time": "2024-11-11T04:27:56.624Z"
   },
   {
    "duration": 4,
    "start_time": "2024-11-11T04:27:56.633Z"
   },
   {
    "duration": 5,
    "start_time": "2024-11-11T04:27:56.639Z"
   },
   {
    "duration": 6,
    "start_time": "2024-11-11T04:27:56.645Z"
   },
   {
    "duration": 5,
    "start_time": "2024-11-11T04:27:56.653Z"
   },
   {
    "duration": 55,
    "start_time": "2024-11-11T04:27:56.659Z"
   },
   {
    "duration": 5,
    "start_time": "2024-11-11T04:27:56.717Z"
   },
   {
    "duration": 6,
    "start_time": "2024-11-11T04:27:56.723Z"
   },
   {
    "duration": 5,
    "start_time": "2024-11-11T04:27:56.730Z"
   },
   {
    "duration": 4,
    "start_time": "2024-11-11T04:27:56.736Z"
   },
   {
    "duration": 4,
    "start_time": "2024-11-11T04:27:56.742Z"
   },
   {
    "duration": 6,
    "start_time": "2024-11-11T04:27:56.748Z"
   },
   {
    "duration": 4,
    "start_time": "2024-11-11T04:27:56.755Z"
   },
   {
    "duration": 47,
    "start_time": "2024-11-11T04:27:56.761Z"
   },
   {
    "duration": 6,
    "start_time": "2024-11-11T04:27:56.810Z"
   },
   {
    "duration": 19,
    "start_time": "2024-11-11T04:27:56.818Z"
   },
   {
    "duration": 20,
    "start_time": "2024-11-11T04:27:56.839Z"
   },
   {
    "duration": 52,
    "start_time": "2024-11-11T04:27:56.861Z"
   },
   {
    "duration": 15,
    "start_time": "2024-11-11T04:27:56.915Z"
   },
   {
    "duration": 229,
    "start_time": "2024-11-11T04:28:56.710Z"
   },
   {
    "duration": 21,
    "start_time": "2024-11-11T04:29:06.029Z"
   },
   {
    "duration": 777,
    "start_time": "2024-11-11T04:37:18.247Z"
   },
   {
    "duration": 16,
    "start_time": "2024-11-11T04:37:19.026Z"
   },
   {
    "duration": 9,
    "start_time": "2024-11-11T04:37:19.044Z"
   },
   {
    "duration": 14,
    "start_time": "2024-11-11T04:37:19.055Z"
   },
   {
    "duration": 34,
    "start_time": "2024-11-11T04:37:19.071Z"
   },
   {
    "duration": 4,
    "start_time": "2024-11-11T04:37:19.107Z"
   },
   {
    "duration": 15,
    "start_time": "2024-11-11T04:37:19.112Z"
   },
   {
    "duration": 6,
    "start_time": "2024-11-11T04:37:19.128Z"
   },
   {
    "duration": 5,
    "start_time": "2024-11-11T04:37:19.135Z"
   },
   {
    "duration": 5,
    "start_time": "2024-11-11T04:37:19.143Z"
   },
   {
    "duration": 8,
    "start_time": "2024-11-11T04:37:19.149Z"
   },
   {
    "duration": 47,
    "start_time": "2024-11-11T04:37:19.158Z"
   },
   {
    "duration": 11,
    "start_time": "2024-11-11T04:37:19.206Z"
   },
   {
    "duration": 6,
    "start_time": "2024-11-11T04:37:19.219Z"
   },
   {
    "duration": 6,
    "start_time": "2024-11-11T04:37:19.227Z"
   },
   {
    "duration": 4,
    "start_time": "2024-11-11T04:37:19.234Z"
   },
   {
    "duration": 4,
    "start_time": "2024-11-11T04:37:19.240Z"
   },
   {
    "duration": 5,
    "start_time": "2024-11-11T04:37:19.246Z"
   },
   {
    "duration": 5,
    "start_time": "2024-11-11T04:37:19.253Z"
   },
   {
    "duration": 48,
    "start_time": "2024-11-11T04:37:19.260Z"
   },
   {
    "duration": 4,
    "start_time": "2024-11-11T04:37:19.310Z"
   },
   {
    "duration": 6,
    "start_time": "2024-11-11T04:37:19.316Z"
   },
   {
    "duration": 18,
    "start_time": "2024-11-11T04:37:19.324Z"
   },
   {
    "duration": 22,
    "start_time": "2024-11-11T04:37:19.343Z"
   },
   {
    "duration": 52,
    "start_time": "2024-11-11T04:37:19.366Z"
   },
   {
    "duration": 15,
    "start_time": "2024-11-11T04:37:19.420Z"
   },
   {
    "duration": 2,
    "start_time": "2024-11-11T04:47:45.636Z"
   },
   {
    "duration": 233,
    "start_time": "2024-11-11T05:04:42.938Z"
   },
   {
    "duration": 57,
    "start_time": "2024-11-11T05:04:51.729Z"
   },
   {
    "duration": 773,
    "start_time": "2024-11-11T05:06:12.400Z"
   },
   {
    "duration": 20,
    "start_time": "2024-11-11T05:06:13.177Z"
   },
   {
    "duration": 14,
    "start_time": "2024-11-11T05:06:13.198Z"
   },
   {
    "duration": 16,
    "start_time": "2024-11-11T05:06:13.214Z"
   },
   {
    "duration": 11,
    "start_time": "2024-11-11T05:06:13.232Z"
   },
   {
    "duration": 4,
    "start_time": "2024-11-11T05:06:13.245Z"
   },
   {
    "duration": 14,
    "start_time": "2024-11-11T05:06:13.250Z"
   },
   {
    "duration": 7,
    "start_time": "2024-11-11T05:06:13.266Z"
   },
   {
    "duration": 5,
    "start_time": "2024-11-11T05:06:13.304Z"
   },
   {
    "duration": 6,
    "start_time": "2024-11-11T05:06:13.313Z"
   },
   {
    "duration": 8,
    "start_time": "2024-11-11T05:06:13.321Z"
   },
   {
    "duration": 6,
    "start_time": "2024-11-11T05:06:13.330Z"
   },
   {
    "duration": 10,
    "start_time": "2024-11-11T05:06:13.338Z"
   },
   {
    "duration": 5,
    "start_time": "2024-11-11T05:06:13.350Z"
   },
   {
    "duration": 6,
    "start_time": "2024-11-11T05:06:13.356Z"
   },
   {
    "duration": 45,
    "start_time": "2024-11-11T05:06:13.363Z"
   },
   {
    "duration": 4,
    "start_time": "2024-11-11T05:06:13.410Z"
   },
   {
    "duration": 4,
    "start_time": "2024-11-11T05:06:13.416Z"
   },
   {
    "duration": 6,
    "start_time": "2024-11-11T05:06:13.422Z"
   },
   {
    "duration": 5,
    "start_time": "2024-11-11T05:06:13.430Z"
   },
   {
    "duration": 4,
    "start_time": "2024-11-11T05:06:13.436Z"
   },
   {
    "duration": 6,
    "start_time": "2024-11-11T05:06:13.441Z"
   },
   {
    "duration": 68,
    "start_time": "2024-11-11T05:06:13.448Z"
   },
   {
    "duration": 18,
    "start_time": "2024-11-11T05:06:13.519Z"
   },
   {
    "duration": 19,
    "start_time": "2024-11-11T05:06:13.538Z"
   },
   {
    "duration": 15,
    "start_time": "2024-11-11T05:06:13.559Z"
   },
   {
    "duration": 19,
    "start_time": "2024-11-11T05:10:35.813Z"
   },
   {
    "duration": 754,
    "start_time": "2024-11-11T05:12:06.576Z"
   },
   {
    "duration": 16,
    "start_time": "2024-11-11T05:12:07.332Z"
   },
   {
    "duration": 10,
    "start_time": "2024-11-11T05:12:07.349Z"
   },
   {
    "duration": 14,
    "start_time": "2024-11-11T05:12:07.361Z"
   },
   {
    "duration": 31,
    "start_time": "2024-11-11T05:12:07.376Z"
   },
   {
    "duration": 4,
    "start_time": "2024-11-11T05:12:07.409Z"
   },
   {
    "duration": 14,
    "start_time": "2024-11-11T05:12:07.414Z"
   },
   {
    "duration": 6,
    "start_time": "2024-11-11T05:12:07.429Z"
   },
   {
    "duration": 5,
    "start_time": "2024-11-11T05:12:07.437Z"
   },
   {
    "duration": 5,
    "start_time": "2024-11-11T05:12:07.446Z"
   },
   {
    "duration": 6,
    "start_time": "2024-11-11T05:12:07.452Z"
   },
   {
    "duration": 5,
    "start_time": "2024-11-11T05:12:07.460Z"
   },
   {
    "duration": 12,
    "start_time": "2024-11-11T05:12:07.506Z"
   },
   {
    "duration": 5,
    "start_time": "2024-11-11T05:12:07.520Z"
   },
   {
    "duration": 7,
    "start_time": "2024-11-11T05:12:07.527Z"
   },
   {
    "duration": 5,
    "start_time": "2024-11-11T05:12:07.535Z"
   },
   {
    "duration": 4,
    "start_time": "2024-11-11T05:12:07.541Z"
   },
   {
    "duration": 4,
    "start_time": "2024-11-11T05:12:07.547Z"
   },
   {
    "duration": 6,
    "start_time": "2024-11-11T05:12:07.553Z"
   },
   {
    "duration": 5,
    "start_time": "2024-11-11T05:12:07.605Z"
   },
   {
    "duration": 4,
    "start_time": "2024-11-11T05:12:07.611Z"
   },
   {
    "duration": 6,
    "start_time": "2024-11-11T05:12:07.616Z"
   },
   {
    "duration": 24,
    "start_time": "2024-11-11T05:12:07.624Z"
   },
   {
    "duration": 17,
    "start_time": "2024-11-11T05:12:07.650Z"
   },
   {
    "duration": 38,
    "start_time": "2024-11-11T05:12:07.668Z"
   },
   {
    "duration": 20,
    "start_time": "2024-11-11T05:12:07.708Z"
   },
   {
    "duration": 14,
    "start_time": "2024-11-11T05:12:07.729Z"
   },
   {
    "duration": 3,
    "start_time": "2024-11-11T05:13:14.125Z"
   },
   {
    "duration": 830,
    "start_time": "2024-11-12T00:01:42.556Z"
   },
   {
    "duration": 27,
    "start_time": "2024-11-12T00:01:43.388Z"
   },
   {
    "duration": 10,
    "start_time": "2024-11-12T00:01:43.417Z"
   },
   {
    "duration": 15,
    "start_time": "2024-11-12T00:01:43.430Z"
   },
   {
    "duration": 13,
    "start_time": "2024-11-12T00:01:43.446Z"
   },
   {
    "duration": 3,
    "start_time": "2024-11-12T00:01:43.461Z"
   },
   {
    "duration": 14,
    "start_time": "2024-11-12T00:01:43.466Z"
   },
   {
    "duration": 33,
    "start_time": "2024-11-12T00:01:43.482Z"
   },
   {
    "duration": 5,
    "start_time": "2024-11-12T00:01:43.517Z"
   },
   {
    "duration": 5,
    "start_time": "2024-11-12T00:01:43.525Z"
   },
   {
    "duration": 7,
    "start_time": "2024-11-12T00:01:43.531Z"
   },
   {
    "duration": 6,
    "start_time": "2024-11-12T00:01:43.540Z"
   },
   {
    "duration": 11,
    "start_time": "2024-11-12T00:01:43.547Z"
   },
   {
    "duration": 5,
    "start_time": "2024-11-12T00:01:43.560Z"
   },
   {
    "duration": 49,
    "start_time": "2024-11-12T00:01:43.567Z"
   },
   {
    "duration": 5,
    "start_time": "2024-11-12T00:01:43.617Z"
   },
   {
    "duration": 4,
    "start_time": "2024-11-12T00:01:43.624Z"
   },
   {
    "duration": 5,
    "start_time": "2024-11-12T00:01:43.630Z"
   },
   {
    "duration": 6,
    "start_time": "2024-11-12T00:01:43.637Z"
   },
   {
    "duration": 5,
    "start_time": "2024-11-12T00:01:43.646Z"
   },
   {
    "duration": 3,
    "start_time": "2024-11-12T00:01:43.653Z"
   },
   {
    "duration": 7,
    "start_time": "2024-11-12T00:01:43.658Z"
   },
   {
    "duration": 25,
    "start_time": "2024-11-12T00:01:43.712Z"
   },
   {
    "duration": 17,
    "start_time": "2024-11-12T00:01:43.739Z"
   },
   {
    "duration": 7,
    "start_time": "2024-11-12T00:01:43.757Z"
   },
   {
    "duration": 18,
    "start_time": "2024-11-12T00:01:43.765Z"
   },
   {
    "duration": 746,
    "start_time": "2024-11-12T14:19:52.183Z"
   },
   {
    "duration": 29,
    "start_time": "2024-11-12T14:19:52.931Z"
   },
   {
    "duration": 12,
    "start_time": "2024-11-12T14:19:52.962Z"
   },
   {
    "duration": 15,
    "start_time": "2024-11-12T14:19:52.976Z"
   },
   {
    "duration": 17,
    "start_time": "2024-11-12T14:19:52.992Z"
   },
   {
    "duration": 4,
    "start_time": "2024-11-12T14:19:53.011Z"
   },
   {
    "duration": 13,
    "start_time": "2024-11-12T14:19:53.017Z"
   },
   {
    "duration": 6,
    "start_time": "2024-11-12T14:19:53.031Z"
   },
   {
    "duration": 5,
    "start_time": "2024-11-12T14:19:53.039Z"
   },
   {
    "duration": 5,
    "start_time": "2024-11-12T14:19:53.048Z"
   },
   {
    "duration": 7,
    "start_time": "2024-11-12T14:19:53.054Z"
   },
   {
    "duration": 46,
    "start_time": "2024-11-12T14:19:53.063Z"
   },
   {
    "duration": 11,
    "start_time": "2024-11-12T14:19:53.111Z"
   },
   {
    "duration": 5,
    "start_time": "2024-11-12T14:19:53.124Z"
   },
   {
    "duration": 6,
    "start_time": "2024-11-12T14:19:53.131Z"
   },
   {
    "duration": 5,
    "start_time": "2024-11-12T14:19:53.138Z"
   },
   {
    "duration": 4,
    "start_time": "2024-11-12T14:19:53.144Z"
   },
   {
    "duration": 4,
    "start_time": "2024-11-12T14:19:53.150Z"
   },
   {
    "duration": 7,
    "start_time": "2024-11-12T14:19:53.156Z"
   },
   {
    "duration": 47,
    "start_time": "2024-11-12T14:19:53.164Z"
   },
   {
    "duration": 4,
    "start_time": "2024-11-12T14:19:53.213Z"
   },
   {
    "duration": 5,
    "start_time": "2024-11-12T14:19:53.219Z"
   },
   {
    "duration": 25,
    "start_time": "2024-11-12T14:19:53.226Z"
   },
   {
    "duration": 18,
    "start_time": "2024-11-12T14:19:53.253Z"
   },
   {
    "duration": 6,
    "start_time": "2024-11-12T14:19:53.309Z"
   },
   {
    "duration": 18,
    "start_time": "2024-11-12T14:19:53.317Z"
   },
   {
    "duration": 9,
    "start_time": "2024-11-12T14:20:09.064Z"
   },
   {
    "duration": 3,
    "start_time": "2024-11-12T14:42:27.845Z"
   },
   {
    "duration": 212,
    "start_time": "2024-11-12T14:43:56.525Z"
   },
   {
    "duration": 22,
    "start_time": "2024-11-12T14:44:44.294Z"
   },
   {
    "duration": 14,
    "start_time": "2024-11-12T15:14:14.761Z"
   },
   {
    "duration": 14,
    "start_time": "2024-11-12T15:14:49.166Z"
   },
   {
    "duration": 3,
    "start_time": "2024-11-12T15:14:56.744Z"
   },
   {
    "duration": 8,
    "start_time": "2024-11-12T15:15:08.213Z"
   },
   {
    "duration": 4,
    "start_time": "2024-11-12T15:27:45.892Z"
   },
   {
    "duration": 67,
    "start_time": "2024-11-12T15:28:52.544Z"
   },
   {
    "duration": 23,
    "start_time": "2024-11-12T15:29:32.072Z"
   },
   {
    "duration": 162,
    "start_time": "2024-11-12T15:29:52.965Z"
   },
   {
    "duration": 161,
    "start_time": "2024-11-12T15:33:38.259Z"
   },
   {
    "duration": 166,
    "start_time": "2024-11-12T15:33:58.830Z"
   },
   {
    "duration": 160,
    "start_time": "2024-11-12T15:34:14.357Z"
   },
   {
    "duration": 27,
    "start_time": "2024-11-12T15:36:54.873Z"
   },
   {
    "duration": 6,
    "start_time": "2024-11-12T15:58:51.368Z"
   },
   {
    "duration": 14,
    "start_time": "2024-11-12T16:39:08.782Z"
   },
   {
    "duration": 4,
    "start_time": "2024-11-12T16:39:20.787Z"
   },
   {
    "duration": 25,
    "start_time": "2024-11-12T16:39:24.990Z"
   },
   {
    "duration": 3,
    "start_time": "2024-11-12T16:39:56.746Z"
   },
   {
    "duration": 22,
    "start_time": "2024-11-12T16:40:04.334Z"
   },
   {
    "duration": 72,
    "start_time": "2024-11-12T16:41:16.575Z"
   },
   {
    "duration": 4,
    "start_time": "2024-11-12T16:41:23.772Z"
   },
   {
    "duration": 3,
    "start_time": "2024-11-12T16:45:26.512Z"
   },
   {
    "duration": 22,
    "start_time": "2024-11-12T16:48:34.267Z"
   },
   {
    "duration": 24,
    "start_time": "2024-11-12T16:48:39.826Z"
   },
   {
    "duration": 19,
    "start_time": "2024-11-12T16:49:01.914Z"
   },
   {
    "duration": 3,
    "start_time": "2024-11-12T16:51:04.280Z"
   },
   {
    "duration": 20,
    "start_time": "2024-11-12T16:51:06.539Z"
   },
   {
    "duration": 4,
    "start_time": "2024-11-12T16:51:19.545Z"
   },
   {
    "duration": 19,
    "start_time": "2024-11-12T16:51:22.000Z"
   },
   {
    "duration": 4,
    "start_time": "2024-11-12T16:52:38.801Z"
   },
   {
    "duration": 23,
    "start_time": "2024-11-12T16:52:39.416Z"
   },
   {
    "duration": 23,
    "start_time": "2024-11-12T16:54:25.081Z"
   },
   {
    "duration": 5,
    "start_time": "2024-11-12T16:55:51.315Z"
   },
   {
    "duration": 12,
    "start_time": "2024-11-12T16:55:57.461Z"
   },
   {
    "duration": 13,
    "start_time": "2024-11-12T16:56:06.883Z"
   },
   {
    "duration": 15,
    "start_time": "2024-11-12T16:56:14.661Z"
   },
   {
    "duration": 3,
    "start_time": "2024-11-12T16:57:02.995Z"
   },
   {
    "duration": 23,
    "start_time": "2024-11-12T16:57:05.248Z"
   },
   {
    "duration": 21,
    "start_time": "2024-11-12T16:57:11.812Z"
   },
   {
    "duration": 4,
    "start_time": "2024-11-12T16:57:45.389Z"
   },
   {
    "duration": 23,
    "start_time": "2024-11-12T16:57:46.014Z"
   },
   {
    "duration": 4,
    "start_time": "2024-11-12T16:58:53.998Z"
   },
   {
    "duration": 3,
    "start_time": "2024-11-12T17:00:00.047Z"
   },
   {
    "duration": 18,
    "start_time": "2024-11-12T17:00:01.276Z"
   },
   {
    "duration": 3,
    "start_time": "2024-11-12T17:00:04.824Z"
   },
   {
    "duration": 3,
    "start_time": "2024-11-12T17:14:59.450Z"
   },
   {
    "duration": 19,
    "start_time": "2024-11-12T17:16:25.657Z"
   },
   {
    "duration": 18,
    "start_time": "2024-11-12T17:16:35.079Z"
   },
   {
    "duration": 19,
    "start_time": "2024-11-12T17:16:47.779Z"
   },
   {
    "duration": 21,
    "start_time": "2024-11-12T17:16:58.371Z"
   },
   {
    "duration": 18,
    "start_time": "2024-11-12T17:17:24.026Z"
   },
   {
    "duration": 4,
    "start_time": "2024-11-12T17:18:51.477Z"
   },
   {
    "duration": 24,
    "start_time": "2024-11-12T17:19:00.351Z"
   },
   {
    "duration": 4,
    "start_time": "2024-11-12T17:19:18.614Z"
   },
   {
    "duration": 18,
    "start_time": "2024-11-12T17:19:19.114Z"
   },
   {
    "duration": 24,
    "start_time": "2024-11-12T17:20:28.377Z"
   },
   {
    "duration": 32,
    "start_time": "2024-11-12T17:20:40.637Z"
   },
   {
    "duration": 26,
    "start_time": "2024-11-12T17:20:50.450Z"
   },
   {
    "duration": 22,
    "start_time": "2024-11-12T17:21:00.321Z"
   },
   {
    "duration": 30,
    "start_time": "2024-11-12T17:21:07.366Z"
   },
   {
    "duration": 31,
    "start_time": "2024-11-12T17:21:13.008Z"
   },
   {
    "duration": 35,
    "start_time": "2024-11-12T17:21:28.049Z"
   },
   {
    "duration": 35,
    "start_time": "2024-11-12T17:22:00.305Z"
   },
   {
    "duration": 29,
    "start_time": "2024-11-12T17:22:06.414Z"
   },
   {
    "duration": 18,
    "start_time": "2024-11-12T17:25:42.106Z"
   },
   {
    "duration": 3,
    "start_time": "2024-11-12T17:25:46.715Z"
   },
   {
    "duration": 39,
    "start_time": "2024-11-12T17:25:48.557Z"
   },
   {
    "duration": 42,
    "start_time": "2024-11-12T17:26:01.572Z"
   },
   {
    "duration": 54,
    "start_time": "2024-11-12T17:26:45.292Z"
   },
   {
    "duration": 35,
    "start_time": "2024-11-12T17:27:03.039Z"
   },
   {
    "duration": 3,
    "start_time": "2024-11-12T17:29:28.104Z"
   },
   {
    "duration": 14,
    "start_time": "2024-11-12T17:38:13.423Z"
   },
   {
    "duration": 1982,
    "start_time": "2024-11-12T17:38:54.598Z"
   },
   {
    "duration": 3,
    "start_time": "2024-11-12T17:39:40.055Z"
   },
   {
    "duration": 126,
    "start_time": "2024-11-12T17:39:48.657Z"
   },
   {
    "duration": 125,
    "start_time": "2024-11-12T17:40:46.005Z"
   },
   {
    "duration": 23,
    "start_time": "2024-11-12T17:45:52.590Z"
   },
   {
    "duration": 22,
    "start_time": "2024-11-12T17:54:05.549Z"
   },
   {
    "duration": 102,
    "start_time": "2024-11-12T17:55:55.532Z"
   },
   {
    "duration": 36,
    "start_time": "2024-11-12T17:56:16.868Z"
   },
   {
    "duration": 421,
    "start_time": "2024-11-12T17:56:24.405Z"
   },
   {
    "duration": 156,
    "start_time": "2024-11-12T17:56:37.307Z"
   },
   {
    "duration": 141,
    "start_time": "2024-11-12T17:57:01.066Z"
   },
   {
    "duration": 60,
    "start_time": "2024-11-12T19:36:35.354Z"
   },
   {
    "duration": 157,
    "start_time": "2024-11-12T19:37:08.738Z"
   },
   {
    "duration": 12,
    "start_time": "2024-11-12T19:44:53.946Z"
   },
   {
    "duration": 13,
    "start_time": "2024-11-12T19:45:53.032Z"
   },
   {
    "duration": 3,
    "start_time": "2024-11-12T19:46:15.663Z"
   },
   {
    "duration": 14,
    "start_time": "2024-11-12T19:46:46.588Z"
   },
   {
    "duration": 13,
    "start_time": "2024-11-12T19:46:54.361Z"
   },
   {
    "duration": 4,
    "start_time": "2024-11-12T19:47:17.308Z"
   },
   {
    "duration": 6,
    "start_time": "2024-11-12T19:47:37.174Z"
   },
   {
    "duration": 15,
    "start_time": "2024-11-12T19:50:01.766Z"
   },
   {
    "duration": 14,
    "start_time": "2024-11-12T19:50:21.845Z"
   },
   {
    "duration": 14,
    "start_time": "2024-11-12T19:53:32.300Z"
   },
   {
    "duration": 4,
    "start_time": "2024-11-12T19:55:33.183Z"
   },
   {
    "duration": 886,
    "start_time": "2024-11-12T19:56:31.718Z"
   },
   {
    "duration": 16,
    "start_time": "2024-11-12T19:56:32.606Z"
   },
   {
    "duration": 10,
    "start_time": "2024-11-12T19:56:32.623Z"
   },
   {
    "duration": 13,
    "start_time": "2024-11-12T19:56:32.636Z"
   },
   {
    "duration": 72,
    "start_time": "2024-11-12T19:56:32.650Z"
   },
   {
    "duration": 3,
    "start_time": "2024-11-12T19:56:32.724Z"
   },
   {
    "duration": 18,
    "start_time": "2024-11-12T19:56:32.729Z"
   },
   {
    "duration": 6,
    "start_time": "2024-11-12T19:56:32.749Z"
   },
   {
    "duration": 7,
    "start_time": "2024-11-12T19:56:32.757Z"
   },
   {
    "duration": 5,
    "start_time": "2024-11-12T19:56:32.768Z"
   },
   {
    "duration": 7,
    "start_time": "2024-11-12T19:56:32.809Z"
   },
   {
    "duration": 5,
    "start_time": "2024-11-12T19:56:32.817Z"
   },
   {
    "duration": 12,
    "start_time": "2024-11-12T19:56:32.824Z"
   },
   {
    "duration": 5,
    "start_time": "2024-11-12T19:56:32.838Z"
   },
   {
    "duration": 6,
    "start_time": "2024-11-12T19:56:32.845Z"
   },
   {
    "duration": 5,
    "start_time": "2024-11-12T19:56:32.853Z"
   },
   {
    "duration": 4,
    "start_time": "2024-11-12T19:56:32.859Z"
   },
   {
    "duration": 45,
    "start_time": "2024-11-12T19:56:32.865Z"
   },
   {
    "duration": 6,
    "start_time": "2024-11-12T19:56:32.911Z"
   },
   {
    "duration": 5,
    "start_time": "2024-11-12T19:56:32.919Z"
   },
   {
    "duration": 3,
    "start_time": "2024-11-12T19:56:32.926Z"
   },
   {
    "duration": 6,
    "start_time": "2024-11-12T19:56:32.931Z"
   },
   {
    "duration": 25,
    "start_time": "2024-11-12T19:56:32.939Z"
   },
   {
    "duration": 54,
    "start_time": "2024-11-12T19:56:32.966Z"
   },
   {
    "duration": 5,
    "start_time": "2024-11-12T19:56:33.022Z"
   },
   {
    "duration": 18,
    "start_time": "2024-11-12T19:56:33.029Z"
   },
   {
    "duration": 183,
    "start_time": "2024-11-12T19:56:33.048Z"
   },
   {
    "duration": 27,
    "start_time": "2024-11-12T19:56:33.235Z"
   },
   {
    "duration": 4,
    "start_time": "2024-11-12T19:56:33.263Z"
   },
   {
    "duration": 4,
    "start_time": "2024-11-12T19:56:33.269Z"
   },
   {
    "duration": 166,
    "start_time": "2024-11-12T19:56:33.274Z"
   },
   {
    "duration": 4,
    "start_time": "2024-11-12T19:56:33.442Z"
   },
   {
    "duration": 23,
    "start_time": "2024-11-12T19:56:33.447Z"
   },
   {
    "duration": 4,
    "start_time": "2024-11-12T19:58:08.171Z"
   },
   {
    "duration": 148,
    "start_time": "2024-11-12T19:58:17.706Z"
   },
   {
    "duration": 903,
    "start_time": "2024-11-12T20:10:28.348Z"
   },
   {
    "duration": 16,
    "start_time": "2024-11-12T20:10:29.253Z"
   },
   {
    "duration": 10,
    "start_time": "2024-11-12T20:10:29.271Z"
   },
   {
    "duration": 26,
    "start_time": "2024-11-12T20:10:29.283Z"
   },
   {
    "duration": 55,
    "start_time": "2024-11-12T20:10:29.311Z"
   },
   {
    "duration": 3,
    "start_time": "2024-11-12T20:10:29.368Z"
   },
   {
    "duration": 15,
    "start_time": "2024-11-12T20:10:29.372Z"
   },
   {
    "duration": 24,
    "start_time": "2024-11-12T20:10:29.389Z"
   },
   {
    "duration": 5,
    "start_time": "2024-11-12T20:10:29.414Z"
   },
   {
    "duration": 5,
    "start_time": "2024-11-12T20:10:29.423Z"
   },
   {
    "duration": 6,
    "start_time": "2024-11-12T20:10:29.429Z"
   },
   {
    "duration": 5,
    "start_time": "2024-11-12T20:10:29.437Z"
   },
   {
    "duration": 12,
    "start_time": "2024-11-12T20:10:29.443Z"
   },
   {
    "duration": 5,
    "start_time": "2024-11-12T20:10:29.456Z"
   },
   {
    "duration": 49,
    "start_time": "2024-11-12T20:10:29.463Z"
   },
   {
    "duration": 4,
    "start_time": "2024-11-12T20:10:29.515Z"
   },
   {
    "duration": 5,
    "start_time": "2024-11-12T20:10:29.521Z"
   },
   {
    "duration": 5,
    "start_time": "2024-11-12T20:10:29.528Z"
   },
   {
    "duration": 7,
    "start_time": "2024-11-12T20:10:29.535Z"
   },
   {
    "duration": 7,
    "start_time": "2024-11-12T20:10:29.544Z"
   },
   {
    "duration": 4,
    "start_time": "2024-11-12T20:10:29.552Z"
   },
   {
    "duration": 6,
    "start_time": "2024-11-12T20:10:29.558Z"
   },
   {
    "duration": 67,
    "start_time": "2024-11-12T20:10:29.565Z"
   },
   {
    "duration": 17,
    "start_time": "2024-11-12T20:10:29.634Z"
   },
   {
    "duration": 6,
    "start_time": "2024-11-12T20:10:29.653Z"
   },
   {
    "duration": 18,
    "start_time": "2024-11-12T20:10:29.661Z"
   },
   {
    "duration": 168,
    "start_time": "2024-11-12T20:10:29.710Z"
   },
   {
    "duration": 35,
    "start_time": "2024-11-12T20:10:29.882Z"
   },
   {
    "duration": 154,
    "start_time": "2024-11-12T20:10:29.918Z"
   },
   {
    "duration": 3,
    "start_time": "2024-11-12T20:10:30.075Z"
   },
   {
    "duration": 35,
    "start_time": "2024-11-12T20:10:30.080Z"
   },
   {
    "duration": 16843,
    "start_time": "2024-11-12T20:10:30.116Z"
   },
   {
    "duration": 888,
    "start_time": "2024-11-12T20:11:18.417Z"
   },
   {
    "duration": 15,
    "start_time": "2024-11-12T20:11:19.307Z"
   },
   {
    "duration": 9,
    "start_time": "2024-11-12T20:11:19.324Z"
   },
   {
    "duration": 15,
    "start_time": "2024-11-12T20:11:19.334Z"
   },
   {
    "duration": 77,
    "start_time": "2024-11-12T20:11:19.351Z"
   },
   {
    "duration": 3,
    "start_time": "2024-11-12T20:11:19.430Z"
   },
   {
    "duration": 13,
    "start_time": "2024-11-12T20:11:19.435Z"
   },
   {
    "duration": 6,
    "start_time": "2024-11-12T20:11:19.450Z"
   },
   {
    "duration": 4,
    "start_time": "2024-11-12T20:11:19.458Z"
   },
   {
    "duration": 5,
    "start_time": "2024-11-12T20:11:19.464Z"
   },
   {
    "duration": 42,
    "start_time": "2024-11-12T20:11:19.471Z"
   },
   {
    "duration": 5,
    "start_time": "2024-11-12T20:11:19.514Z"
   },
   {
    "duration": 11,
    "start_time": "2024-11-12T20:11:19.522Z"
   },
   {
    "duration": 7,
    "start_time": "2024-11-12T20:11:19.537Z"
   },
   {
    "duration": 7,
    "start_time": "2024-11-12T20:11:19.545Z"
   },
   {
    "duration": 5,
    "start_time": "2024-11-12T20:11:19.553Z"
   },
   {
    "duration": 5,
    "start_time": "2024-11-12T20:11:19.559Z"
   },
   {
    "duration": 47,
    "start_time": "2024-11-12T20:11:19.566Z"
   },
   {
    "duration": 6,
    "start_time": "2024-11-12T20:11:19.615Z"
   },
   {
    "duration": 5,
    "start_time": "2024-11-12T20:11:19.622Z"
   },
   {
    "duration": 4,
    "start_time": "2024-11-12T20:11:19.629Z"
   },
   {
    "duration": 5,
    "start_time": "2024-11-12T20:11:19.635Z"
   },
   {
    "duration": 24,
    "start_time": "2024-11-12T20:11:19.642Z"
   },
   {
    "duration": 55,
    "start_time": "2024-11-12T20:11:19.667Z"
   },
   {
    "duration": 5,
    "start_time": "2024-11-12T20:11:19.724Z"
   },
   {
    "duration": 18,
    "start_time": "2024-11-12T20:11:19.732Z"
   },
   {
    "duration": 185,
    "start_time": "2024-11-12T20:11:19.754Z"
   },
   {
    "duration": 28,
    "start_time": "2024-11-12T20:11:19.941Z"
   },
   {
    "duration": 158,
    "start_time": "2024-11-12T20:11:19.971Z"
   },
   {
    "duration": 4,
    "start_time": "2024-11-12T20:11:20.131Z"
   },
   {
    "duration": 25,
    "start_time": "2024-11-12T20:11:20.138Z"
   },
   {
    "duration": 16804,
    "start_time": "2024-11-12T20:11:20.165Z"
   },
   {
    "duration": 16877,
    "start_time": "2024-11-12T20:13:08.994Z"
   },
   {
    "duration": 16782,
    "start_time": "2024-11-12T20:13:30.307Z"
   },
   {
    "duration": 549,
    "start_time": "2024-11-12T20:15:18.018Z"
   },
   {
    "duration": 371,
    "start_time": "2024-11-12T20:15:43.017Z"
   },
   {
    "duration": 136,
    "start_time": "2024-11-12T20:21:22.874Z"
   },
   {
    "duration": 198,
    "start_time": "2024-11-12T20:27:13.223Z"
   },
   {
    "duration": 197,
    "start_time": "2024-11-12T20:58:15.940Z"
   },
   {
    "duration": 20,
    "start_time": "2024-11-12T21:15:30.425Z"
   },
   {
    "duration": 266,
    "start_time": "2024-11-12T21:16:29.749Z"
   },
   {
    "duration": 19,
    "start_time": "2024-11-12T21:17:13.975Z"
   },
   {
    "duration": 21,
    "start_time": "2024-11-12T21:17:29.212Z"
   },
   {
    "duration": 936,
    "start_time": "2024-11-12T21:19:09.846Z"
   },
   {
    "duration": 16,
    "start_time": "2024-11-12T21:19:10.784Z"
   },
   {
    "duration": 15,
    "start_time": "2024-11-12T21:19:10.802Z"
   },
   {
    "duration": 14,
    "start_time": "2024-11-12T21:19:10.819Z"
   },
   {
    "duration": 75,
    "start_time": "2024-11-12T21:19:10.835Z"
   },
   {
    "duration": 4,
    "start_time": "2024-11-12T21:19:10.911Z"
   },
   {
    "duration": 14,
    "start_time": "2024-11-12T21:19:10.916Z"
   },
   {
    "duration": 6,
    "start_time": "2024-11-12T21:19:10.932Z"
   },
   {
    "duration": 5,
    "start_time": "2024-11-12T21:19:10.939Z"
   },
   {
    "duration": 5,
    "start_time": "2024-11-12T21:19:10.946Z"
   },
   {
    "duration": 6,
    "start_time": "2024-11-12T21:19:10.952Z"
   },
   {
    "duration": 4,
    "start_time": "2024-11-12T21:19:10.960Z"
   },
   {
    "duration": 51,
    "start_time": "2024-11-12T21:19:10.967Z"
   },
   {
    "duration": 5,
    "start_time": "2024-11-12T21:19:11.021Z"
   },
   {
    "duration": 6,
    "start_time": "2024-11-12T21:19:11.028Z"
   },
   {
    "duration": 5,
    "start_time": "2024-11-12T21:19:11.037Z"
   },
   {
    "duration": 4,
    "start_time": "2024-11-12T21:19:11.043Z"
   },
   {
    "duration": 4,
    "start_time": "2024-11-12T21:19:11.049Z"
   },
   {
    "duration": 6,
    "start_time": "2024-11-12T21:19:11.054Z"
   },
   {
    "duration": 50,
    "start_time": "2024-11-12T21:19:11.062Z"
   },
   {
    "duration": 8,
    "start_time": "2024-11-12T21:19:11.114Z"
   },
   {
    "duration": 9,
    "start_time": "2024-11-12T21:19:11.124Z"
   },
   {
    "duration": 24,
    "start_time": "2024-11-12T21:19:11.134Z"
   },
   {
    "duration": 21,
    "start_time": "2024-11-12T21:19:11.159Z"
   },
   {
    "duration": 27,
    "start_time": "2024-11-12T21:19:11.182Z"
   },
   {
    "duration": 18,
    "start_time": "2024-11-12T21:19:11.211Z"
   },
   {
    "duration": 424,
    "start_time": "2024-11-12T21:19:11.231Z"
   },
   {
    "duration": 0,
    "start_time": "2024-11-12T21:19:11.657Z"
   },
   {
    "duration": 0,
    "start_time": "2024-11-12T21:19:11.659Z"
   },
   {
    "duration": 0,
    "start_time": "2024-11-12T21:19:11.659Z"
   },
   {
    "duration": 0,
    "start_time": "2024-11-12T21:19:11.660Z"
   },
   {
    "duration": 0,
    "start_time": "2024-11-12T21:19:11.661Z"
   },
   {
    "duration": 0,
    "start_time": "2024-11-12T21:19:11.663Z"
   },
   {
    "duration": 0,
    "start_time": "2024-11-12T21:19:11.664Z"
   },
   {
    "duration": 0,
    "start_time": "2024-11-12T21:19:11.665Z"
   },
   {
    "duration": 0,
    "start_time": "2024-11-12T21:19:11.666Z"
   },
   {
    "duration": 902,
    "start_time": "2024-11-12T21:19:53.776Z"
   },
   {
    "duration": 15,
    "start_time": "2024-11-12T21:19:54.681Z"
   },
   {
    "duration": 18,
    "start_time": "2024-11-12T21:19:54.697Z"
   },
   {
    "duration": 15,
    "start_time": "2024-11-12T21:19:54.716Z"
   },
   {
    "duration": 58,
    "start_time": "2024-11-12T21:19:54.733Z"
   },
   {
    "duration": 4,
    "start_time": "2024-11-12T21:19:54.810Z"
   },
   {
    "duration": 14,
    "start_time": "2024-11-12T21:19:54.815Z"
   },
   {
    "duration": 6,
    "start_time": "2024-11-12T21:19:54.830Z"
   },
   {
    "duration": 6,
    "start_time": "2024-11-12T21:19:54.837Z"
   },
   {
    "duration": 5,
    "start_time": "2024-11-12T21:19:54.844Z"
   },
   {
    "duration": 7,
    "start_time": "2024-11-12T21:19:54.851Z"
   },
   {
    "duration": 7,
    "start_time": "2024-11-12T21:19:54.860Z"
   },
   {
    "duration": 51,
    "start_time": "2024-11-12T21:19:54.869Z"
   },
   {
    "duration": 5,
    "start_time": "2024-11-12T21:19:54.923Z"
   },
   {
    "duration": 7,
    "start_time": "2024-11-12T21:19:54.929Z"
   },
   {
    "duration": 4,
    "start_time": "2024-11-12T21:19:54.938Z"
   },
   {
    "duration": 5,
    "start_time": "2024-11-12T21:19:54.944Z"
   },
   {
    "duration": 4,
    "start_time": "2024-11-12T21:19:54.951Z"
   },
   {
    "duration": 6,
    "start_time": "2024-11-12T21:19:54.957Z"
   },
   {
    "duration": 46,
    "start_time": "2024-11-12T21:19:54.965Z"
   },
   {
    "duration": 4,
    "start_time": "2024-11-12T21:19:55.013Z"
   },
   {
    "duration": 6,
    "start_time": "2024-11-12T21:19:55.019Z"
   },
   {
    "duration": 24,
    "start_time": "2024-11-12T21:19:55.027Z"
   },
   {
    "duration": 18,
    "start_time": "2024-11-12T21:19:55.052Z"
   },
   {
    "duration": 43,
    "start_time": "2024-11-12T21:19:55.072Z"
   },
   {
    "duration": 18,
    "start_time": "2024-11-12T21:19:55.117Z"
   },
   {
    "duration": 391,
    "start_time": "2024-11-12T21:19:55.137Z"
   },
   {
    "duration": 0,
    "start_time": "2024-11-12T21:19:55.530Z"
   },
   {
    "duration": 0,
    "start_time": "2024-11-12T21:19:55.531Z"
   },
   {
    "duration": 0,
    "start_time": "2024-11-12T21:19:55.532Z"
   },
   {
    "duration": 0,
    "start_time": "2024-11-12T21:19:55.533Z"
   },
   {
    "duration": 0,
    "start_time": "2024-11-12T21:19:55.534Z"
   },
   {
    "duration": 0,
    "start_time": "2024-11-12T21:19:55.535Z"
   },
   {
    "duration": 0,
    "start_time": "2024-11-12T21:19:55.536Z"
   },
   {
    "duration": 0,
    "start_time": "2024-11-12T21:19:55.537Z"
   },
   {
    "duration": 0,
    "start_time": "2024-11-12T21:19:55.538Z"
   },
   {
    "duration": 884,
    "start_time": "2024-11-12T21:20:55.108Z"
   },
   {
    "duration": 20,
    "start_time": "2024-11-12T21:20:55.994Z"
   },
   {
    "duration": 10,
    "start_time": "2024-11-12T21:20:56.015Z"
   },
   {
    "duration": 13,
    "start_time": "2024-11-12T21:20:56.027Z"
   },
   {
    "duration": 74,
    "start_time": "2024-11-12T21:20:56.041Z"
   },
   {
    "duration": 5,
    "start_time": "2024-11-12T21:20:56.117Z"
   },
   {
    "duration": 13,
    "start_time": "2024-11-12T21:20:56.124Z"
   },
   {
    "duration": 6,
    "start_time": "2024-11-12T21:20:56.138Z"
   },
   {
    "duration": 6,
    "start_time": "2024-11-12T21:20:56.146Z"
   },
   {
    "duration": 5,
    "start_time": "2024-11-12T21:20:56.155Z"
   },
   {
    "duration": 7,
    "start_time": "2024-11-12T21:20:56.162Z"
   },
   {
    "duration": 42,
    "start_time": "2024-11-12T21:20:56.171Z"
   },
   {
    "duration": 11,
    "start_time": "2024-11-12T21:20:56.216Z"
   },
   {
    "duration": 6,
    "start_time": "2024-11-12T21:20:56.230Z"
   },
   {
    "duration": 7,
    "start_time": "2024-11-12T21:20:56.238Z"
   },
   {
    "duration": 4,
    "start_time": "2024-11-12T21:20:56.247Z"
   },
   {
    "duration": 7,
    "start_time": "2024-11-12T21:20:56.253Z"
   },
   {
    "duration": 8,
    "start_time": "2024-11-12T21:20:56.262Z"
   },
   {
    "duration": 9,
    "start_time": "2024-11-12T21:20:56.308Z"
   },
   {
    "duration": 6,
    "start_time": "2024-11-12T21:20:56.319Z"
   },
   {
    "duration": 4,
    "start_time": "2024-11-12T21:20:56.327Z"
   },
   {
    "duration": 6,
    "start_time": "2024-11-12T21:20:56.332Z"
   },
   {
    "duration": 24,
    "start_time": "2024-11-12T21:20:56.340Z"
   },
   {
    "duration": 54,
    "start_time": "2024-11-12T21:20:56.367Z"
   },
   {
    "duration": 6,
    "start_time": "2024-11-12T21:20:56.423Z"
   },
   {
    "duration": 19,
    "start_time": "2024-11-12T21:20:56.431Z"
   },
   {
    "duration": 183,
    "start_time": "2024-11-12T21:20:56.452Z"
   },
   {
    "duration": 27,
    "start_time": "2024-11-12T21:20:56.639Z"
   },
   {
    "duration": 161,
    "start_time": "2024-11-12T21:20:56.668Z"
   },
   {
    "duration": 6,
    "start_time": "2024-11-12T21:20:56.831Z"
   },
   {
    "duration": 23,
    "start_time": "2024-11-12T21:20:56.838Z"
   },
   {
    "duration": 16825,
    "start_time": "2024-11-12T21:20:56.862Z"
   },
   {
    "duration": 407,
    "start_time": "2024-11-12T21:21:13.689Z"
   },
   {
    "duration": 160,
    "start_time": "2024-11-12T21:21:14.098Z"
   },
   {
    "duration": 251,
    "start_time": "2024-11-12T21:21:14.260Z"
   },
   {
    "duration": 34,
    "start_time": "2024-11-12T21:21:14.513Z"
   },
   {
    "duration": 223,
    "start_time": "2024-11-12T21:53:16.666Z"
   },
   {
    "duration": 3,
    "start_time": "2024-11-12T21:53:49.054Z"
   },
   {
    "duration": 13,
    "start_time": "2024-11-12T21:53:58.343Z"
   },
   {
    "duration": 6,
    "start_time": "2024-11-12T21:54:14.114Z"
   },
   {
    "duration": 382,
    "start_time": "2024-11-12T23:57:16.667Z"
   },
   {
    "duration": 22,
    "start_time": "2024-11-13T01:10:10.486Z"
   },
   {
    "duration": 30,
    "start_time": "2024-11-13T01:12:46.139Z"
   },
   {
    "duration": 19,
    "start_time": "2024-11-13T01:13:23.020Z"
   },
   {
    "duration": 891,
    "start_time": "2024-11-13T01:13:30.796Z"
   },
   {
    "duration": 21,
    "start_time": "2024-11-13T01:13:31.689Z"
   },
   {
    "duration": 10,
    "start_time": "2024-11-13T01:13:31.711Z"
   },
   {
    "duration": 13,
    "start_time": "2024-11-13T01:13:31.723Z"
   },
   {
    "duration": 11,
    "start_time": "2024-11-13T01:13:31.738Z"
   },
   {
    "duration": 72,
    "start_time": "2024-11-13T01:13:31.751Z"
   },
   {
    "duration": 15,
    "start_time": "2024-11-13T01:13:31.826Z"
   },
   {
    "duration": 7,
    "start_time": "2024-11-13T01:13:31.842Z"
   },
   {
    "duration": 5,
    "start_time": "2024-11-13T01:13:31.851Z"
   },
   {
    "duration": 5,
    "start_time": "2024-11-13T01:13:31.859Z"
   },
   {
    "duration": 5,
    "start_time": "2024-11-13T01:13:31.866Z"
   },
   {
    "duration": 39,
    "start_time": "2024-11-13T01:13:31.873Z"
   },
   {
    "duration": 12,
    "start_time": "2024-11-13T01:13:31.913Z"
   },
   {
    "duration": 6,
    "start_time": "2024-11-13T01:13:31.927Z"
   },
   {
    "duration": 7,
    "start_time": "2024-11-13T01:13:31.934Z"
   },
   {
    "duration": 4,
    "start_time": "2024-11-13T01:13:31.942Z"
   },
   {
    "duration": 4,
    "start_time": "2024-11-13T01:13:31.948Z"
   },
   {
    "duration": 4,
    "start_time": "2024-11-13T01:13:31.954Z"
   },
   {
    "duration": 53,
    "start_time": "2024-11-13T01:13:31.960Z"
   },
   {
    "duration": 6,
    "start_time": "2024-11-13T01:13:32.014Z"
   },
   {
    "duration": 3,
    "start_time": "2024-11-13T01:13:32.022Z"
   },
   {
    "duration": 10,
    "start_time": "2024-11-13T01:13:32.027Z"
   },
   {
    "duration": 23,
    "start_time": "2024-11-13T01:13:32.038Z"
   },
   {
    "duration": 16,
    "start_time": "2024-11-13T01:13:32.063Z"
   },
   {
    "duration": 9,
    "start_time": "2024-11-13T01:13:32.108Z"
   },
   {
    "duration": 18,
    "start_time": "2024-11-13T01:13:32.119Z"
   },
   {
    "duration": 173,
    "start_time": "2024-11-13T01:13:32.138Z"
   },
   {
    "duration": 27,
    "start_time": "2024-11-13T01:13:32.315Z"
   },
   {
    "duration": 165,
    "start_time": "2024-11-13T01:13:32.344Z"
   },
   {
    "duration": 5,
    "start_time": "2024-11-13T01:13:32.511Z"
   },
   {
    "duration": 23,
    "start_time": "2024-11-13T01:13:32.517Z"
   },
   {
    "duration": 16759,
    "start_time": "2024-11-13T01:13:32.542Z"
   },
   {
    "duration": 375,
    "start_time": "2024-11-13T01:13:49.308Z"
   },
   {
    "duration": 156,
    "start_time": "2024-11-13T01:13:49.684Z"
   },
   {
    "duration": 198,
    "start_time": "2024-11-13T01:13:49.841Z"
   },
   {
    "duration": 369,
    "start_time": "2024-11-13T01:13:50.041Z"
   },
   {
    "duration": 0,
    "start_time": "2024-11-13T01:13:50.412Z"
   },
   {
    "duration": 42,
    "start_time": "2024-11-13T01:14:37.187Z"
   },
   {
    "duration": 22,
    "start_time": "2024-11-13T01:14:50.053Z"
   },
   {
    "duration": 19,
    "start_time": "2024-11-13T01:18:57.375Z"
   },
   {
    "duration": 13,
    "start_time": "2024-11-13T01:19:35.752Z"
   },
   {
    "duration": 3,
    "start_time": "2024-11-13T01:38:21.251Z"
   },
   {
    "duration": 13,
    "start_time": "2024-11-13T01:39:28.378Z"
   },
   {
    "duration": 3,
    "start_time": "2024-11-13T01:39:57.081Z"
   },
   {
    "duration": 13,
    "start_time": "2024-11-13T01:40:49.411Z"
   },
   {
    "duration": 11,
    "start_time": "2024-11-13T01:40:55.225Z"
   },
   {
    "duration": 8,
    "start_time": "2024-11-13T01:41:02.519Z"
   },
   {
    "duration": 7,
    "start_time": "2024-11-13T01:41:26.886Z"
   },
   {
    "duration": 5,
    "start_time": "2024-11-13T01:41:49.824Z"
   },
   {
    "duration": 4,
    "start_time": "2024-11-13T01:41:56.050Z"
   },
   {
    "duration": 7,
    "start_time": "2024-11-13T01:42:15.868Z"
   },
   {
    "duration": 14,
    "start_time": "2024-11-13T01:55:09.512Z"
   },
   {
    "duration": 21,
    "start_time": "2024-11-13T01:55:14.699Z"
   },
   {
    "duration": 8,
    "start_time": "2024-11-13T01:55:38.763Z"
   },
   {
    "duration": 26,
    "start_time": "2024-11-13T01:55:40.203Z"
   },
   {
    "duration": 10,
    "start_time": "2024-11-13T01:57:08.261Z"
   },
   {
    "duration": 39,
    "start_time": "2024-11-13T01:57:10.104Z"
   },
   {
    "duration": 9,
    "start_time": "2024-11-13T01:57:20.500Z"
   },
   {
    "duration": 27,
    "start_time": "2024-11-13T01:57:22.188Z"
   },
   {
    "duration": 4,
    "start_time": "2024-11-13T02:04:12.205Z"
   },
   {
    "duration": 9,
    "start_time": "2024-11-13T02:04:36.778Z"
   },
   {
    "duration": 2,
    "start_time": "2024-11-13T02:12:48.176Z"
   },
   {
    "duration": 3,
    "start_time": "2024-11-13T02:12:56.702Z"
   },
   {
    "duration": 2,
    "start_time": "2024-11-13T02:13:13.904Z"
   },
   {
    "duration": 3,
    "start_time": "2024-11-13T02:16:38.505Z"
   },
   {
    "duration": 150,
    "start_time": "2024-11-13T02:18:10.667Z"
   },
   {
    "duration": 199,
    "start_time": "2024-11-13T02:21:20.828Z"
   },
   {
    "duration": 207,
    "start_time": "2024-11-13T02:25:06.515Z"
   },
   {
    "duration": 174,
    "start_time": "2024-11-13T02:26:13.895Z"
   },
   {
    "duration": 194,
    "start_time": "2024-11-13T02:26:46.462Z"
   },
   {
    "duration": 187,
    "start_time": "2024-11-13T02:29:45.875Z"
   },
   {
    "duration": 139,
    "start_time": "2024-11-13T02:30:21.090Z"
   },
   {
    "duration": 159,
    "start_time": "2024-11-13T02:30:41.366Z"
   },
   {
    "duration": 206,
    "start_time": "2024-11-13T02:30:56.931Z"
   },
   {
    "duration": 3,
    "start_time": "2024-11-13T02:36:58.214Z"
   },
   {
    "duration": 95,
    "start_time": "2024-11-13T02:37:13.051Z"
   },
   {
    "duration": 8,
    "start_time": "2024-11-13T02:39:40.273Z"
   },
   {
    "duration": 25,
    "start_time": "2024-11-13T02:39:44.092Z"
   },
   {
    "duration": 145,
    "start_time": "2024-11-13T02:42:35.717Z"
   },
   {
    "duration": 138,
    "start_time": "2024-11-13T02:55:22.806Z"
   },
   {
    "duration": 68,
    "start_time": "2024-11-13T02:57:15.958Z"
   },
   {
    "duration": 202,
    "start_time": "2024-11-13T02:57:32.426Z"
   },
   {
    "duration": 192,
    "start_time": "2024-11-13T02:58:10.850Z"
   },
   {
    "duration": 184,
    "start_time": "2024-11-13T03:01:07.069Z"
   },
   {
    "duration": 201,
    "start_time": "2024-11-13T04:21:26.429Z"
   },
   {
    "duration": 211,
    "start_time": "2024-11-13T04:21:46.285Z"
   },
   {
    "duration": 161,
    "start_time": "2024-11-13T04:22:23.781Z"
   },
   {
    "duration": 2550,
    "start_time": "2024-11-13T15:45:07.581Z"
   },
   {
    "duration": 26,
    "start_time": "2024-11-13T15:45:10.134Z"
   },
   {
    "duration": 10,
    "start_time": "2024-11-13T15:45:10.161Z"
   },
   {
    "duration": 14,
    "start_time": "2024-11-13T15:45:10.173Z"
   },
   {
    "duration": 23,
    "start_time": "2024-11-13T15:45:10.189Z"
   },
   {
    "duration": 2,
    "start_time": "2024-11-13T15:45:10.214Z"
   },
   {
    "duration": 13,
    "start_time": "2024-11-13T15:45:10.219Z"
   },
   {
    "duration": 6,
    "start_time": "2024-11-13T15:45:10.233Z"
   },
   {
    "duration": 5,
    "start_time": "2024-11-13T15:45:10.242Z"
   },
   {
    "duration": 4,
    "start_time": "2024-11-13T15:45:10.249Z"
   },
   {
    "duration": 5,
    "start_time": "2024-11-13T15:45:10.256Z"
   },
   {
    "duration": 43,
    "start_time": "2024-11-13T15:45:10.263Z"
   },
   {
    "duration": 12,
    "start_time": "2024-11-13T15:45:10.307Z"
   },
   {
    "duration": 4,
    "start_time": "2024-11-13T15:45:10.323Z"
   },
   {
    "duration": 6,
    "start_time": "2024-11-13T15:45:10.329Z"
   },
   {
    "duration": 4,
    "start_time": "2024-11-13T15:45:10.337Z"
   },
   {
    "duration": 4,
    "start_time": "2024-11-13T15:45:10.343Z"
   },
   {
    "duration": 4,
    "start_time": "2024-11-13T15:45:10.349Z"
   },
   {
    "duration": 51,
    "start_time": "2024-11-13T15:45:10.355Z"
   },
   {
    "duration": 6,
    "start_time": "2024-11-13T15:45:10.407Z"
   },
   {
    "duration": 4,
    "start_time": "2024-11-13T15:45:10.414Z"
   },
   {
    "duration": 6,
    "start_time": "2024-11-13T15:45:10.419Z"
   },
   {
    "duration": 23,
    "start_time": "2024-11-13T15:45:10.427Z"
   },
   {
    "duration": 17,
    "start_time": "2024-11-13T15:45:10.452Z"
   },
   {
    "duration": 40,
    "start_time": "2024-11-13T15:45:10.470Z"
   },
   {
    "duration": 19,
    "start_time": "2024-11-13T15:45:10.511Z"
   },
   {
    "duration": 181,
    "start_time": "2024-11-13T15:45:10.532Z"
   },
   {
    "duration": 27,
    "start_time": "2024-11-13T15:45:10.714Z"
   },
   {
    "duration": 162,
    "start_time": "2024-11-13T15:45:10.743Z"
   },
   {
    "duration": 4,
    "start_time": "2024-11-13T15:45:10.907Z"
   },
   {
    "duration": 23,
    "start_time": "2024-11-13T15:45:10.912Z"
   },
   {
    "duration": 16708,
    "start_time": "2024-11-13T15:45:10.938Z"
   },
   {
    "duration": 409,
    "start_time": "2024-11-13T15:45:27.647Z"
   },
   {
    "duration": 224,
    "start_time": "2024-11-13T15:45:28.058Z"
   },
   {
    "duration": 229,
    "start_time": "2024-11-13T15:45:28.284Z"
   },
   {
    "duration": 26,
    "start_time": "2024-11-13T15:45:28.515Z"
   },
   {
    "duration": 4,
    "start_time": "2024-11-13T15:45:28.543Z"
   },
   {
    "duration": 56,
    "start_time": "2024-11-13T15:45:28.549Z"
   },
   {
    "duration": 117,
    "start_time": "2024-11-13T15:45:28.610Z"
   },
   {
    "duration": 230,
    "start_time": "2024-11-13T15:45:28.731Z"
   },
   {
    "duration": 232,
    "start_time": "2024-11-13T15:52:22.774Z"
   },
   {
    "duration": 6,
    "start_time": "2024-11-13T15:58:15.249Z"
   },
   {
    "duration": 16,
    "start_time": "2024-11-13T15:58:30.056Z"
   },
   {
    "duration": 16,
    "start_time": "2024-11-13T15:58:48.018Z"
   },
   {
    "duration": 3,
    "start_time": "2024-11-13T15:59:23.858Z"
   },
   {
    "duration": 863,
    "start_time": "2024-11-13T16:18:30.345Z"
   },
   {
    "duration": 19,
    "start_time": "2024-11-13T16:18:31.210Z"
   },
   {
    "duration": 10,
    "start_time": "2024-11-13T16:18:31.230Z"
   },
   {
    "duration": 13,
    "start_time": "2024-11-13T16:18:31.242Z"
   },
   {
    "duration": 10,
    "start_time": "2024-11-13T16:18:31.257Z"
   },
   {
    "duration": 69,
    "start_time": "2024-11-13T16:18:31.269Z"
   },
   {
    "duration": 13,
    "start_time": "2024-11-13T16:18:31.340Z"
   },
   {
    "duration": 7,
    "start_time": "2024-11-13T16:18:31.355Z"
   },
   {
    "duration": 5,
    "start_time": "2024-11-13T16:18:31.363Z"
   },
   {
    "duration": 5,
    "start_time": "2024-11-13T16:18:31.371Z"
   },
   {
    "duration": 9,
    "start_time": "2024-11-13T16:18:31.405Z"
   },
   {
    "duration": 6,
    "start_time": "2024-11-13T16:18:31.415Z"
   },
   {
    "duration": 16,
    "start_time": "2024-11-13T16:18:31.423Z"
   },
   {
    "duration": 7,
    "start_time": "2024-11-13T16:18:31.440Z"
   },
   {
    "duration": 7,
    "start_time": "2024-11-13T16:18:31.449Z"
   },
   {
    "duration": 5,
    "start_time": "2024-11-13T16:18:31.457Z"
   },
   {
    "duration": 43,
    "start_time": "2024-11-13T16:18:31.463Z"
   },
   {
    "duration": 5,
    "start_time": "2024-11-13T16:18:31.508Z"
   },
   {
    "duration": 6,
    "start_time": "2024-11-13T16:18:31.514Z"
   },
   {
    "duration": 5,
    "start_time": "2024-11-13T16:18:31.521Z"
   },
   {
    "duration": 4,
    "start_time": "2024-11-13T16:18:31.528Z"
   },
   {
    "duration": 6,
    "start_time": "2024-11-13T16:18:31.534Z"
   },
   {
    "duration": 25,
    "start_time": "2024-11-13T16:18:31.541Z"
   },
   {
    "duration": 54,
    "start_time": "2024-11-13T16:18:31.567Z"
   },
   {
    "duration": 6,
    "start_time": "2024-11-13T16:18:31.622Z"
   },
   {
    "duration": 19,
    "start_time": "2024-11-13T16:18:31.631Z"
   },
   {
    "duration": 188,
    "start_time": "2024-11-13T16:18:31.651Z"
   },
   {
    "duration": 26,
    "start_time": "2024-11-13T16:18:31.843Z"
   },
   {
    "duration": 158,
    "start_time": "2024-11-13T16:18:31.871Z"
   },
   {
    "duration": 4,
    "start_time": "2024-11-13T16:18:32.031Z"
   },
   {
    "duration": 22,
    "start_time": "2024-11-13T16:18:32.037Z"
   },
   {
    "duration": 16795,
    "start_time": "2024-11-13T16:18:32.061Z"
   },
   {
    "duration": 377,
    "start_time": "2024-11-13T16:18:48.858Z"
   },
   {
    "duration": 144,
    "start_time": "2024-11-13T16:18:49.236Z"
   },
   {
    "duration": 201,
    "start_time": "2024-11-13T16:18:49.381Z"
   },
   {
    "duration": 29,
    "start_time": "2024-11-13T16:18:49.584Z"
   },
   {
    "duration": 6,
    "start_time": "2024-11-13T16:18:49.615Z"
   },
   {
    "duration": 82,
    "start_time": "2024-11-13T16:18:49.623Z"
   },
   {
    "duration": 24,
    "start_time": "2024-11-13T16:18:49.708Z"
   },
   {
    "duration": 286,
    "start_time": "2024-11-13T16:18:49.733Z"
   },
   {
    "duration": 875,
    "start_time": "2024-11-13T16:44:37.606Z"
   },
   {
    "duration": 19,
    "start_time": "2024-11-13T16:44:38.483Z"
   },
   {
    "duration": 10,
    "start_time": "2024-11-13T16:44:38.503Z"
   },
   {
    "duration": 13,
    "start_time": "2024-11-13T16:44:38.515Z"
   },
   {
    "duration": 10,
    "start_time": "2024-11-13T16:44:38.530Z"
   },
   {
    "duration": 70,
    "start_time": "2024-11-13T16:44:38.542Z"
   },
   {
    "duration": 14,
    "start_time": "2024-11-13T16:44:38.614Z"
   },
   {
    "duration": 7,
    "start_time": "2024-11-13T16:44:38.630Z"
   },
   {
    "duration": 4,
    "start_time": "2024-11-13T16:44:38.639Z"
   },
   {
    "duration": 6,
    "start_time": "2024-11-13T16:44:38.646Z"
   },
   {
    "duration": 6,
    "start_time": "2024-11-13T16:44:38.654Z"
   },
   {
    "duration": 5,
    "start_time": "2024-11-13T16:44:38.661Z"
   },
   {
    "duration": 49,
    "start_time": "2024-11-13T16:44:38.667Z"
   },
   {
    "duration": 6,
    "start_time": "2024-11-13T16:44:38.718Z"
   },
   {
    "duration": 6,
    "start_time": "2024-11-13T16:44:38.725Z"
   },
   {
    "duration": 4,
    "start_time": "2024-11-13T16:44:38.733Z"
   },
   {
    "duration": 6,
    "start_time": "2024-11-13T16:44:38.738Z"
   },
   {
    "duration": 5,
    "start_time": "2024-11-13T16:44:38.745Z"
   },
   {
    "duration": 7,
    "start_time": "2024-11-13T16:44:38.751Z"
   },
   {
    "duration": 50,
    "start_time": "2024-11-13T16:44:38.759Z"
   },
   {
    "duration": 3,
    "start_time": "2024-11-13T16:44:38.811Z"
   },
   {
    "duration": 7,
    "start_time": "2024-11-13T16:44:38.816Z"
   },
   {
    "duration": 24,
    "start_time": "2024-11-13T16:44:38.825Z"
   },
   {
    "duration": 55,
    "start_time": "2024-11-13T16:44:38.851Z"
   },
   {
    "duration": 6,
    "start_time": "2024-11-13T16:44:38.907Z"
   },
   {
    "duration": 19,
    "start_time": "2024-11-13T16:44:38.915Z"
   },
   {
    "duration": 181,
    "start_time": "2024-11-13T16:44:38.936Z"
   },
   {
    "duration": 26,
    "start_time": "2024-11-13T16:44:39.121Z"
   },
   {
    "duration": 156,
    "start_time": "2024-11-13T16:44:39.149Z"
   },
   {
    "duration": 4,
    "start_time": "2024-11-13T16:44:39.306Z"
   },
   {
    "duration": 22,
    "start_time": "2024-11-13T16:44:39.311Z"
   },
   {
    "duration": 17078,
    "start_time": "2024-11-13T16:44:39.335Z"
   },
   {
    "duration": 202,
    "start_time": "2024-11-13T16:44:56.415Z"
   },
   {
    "duration": 142,
    "start_time": "2024-11-13T16:44:56.618Z"
   },
   {
    "duration": 109,
    "start_time": "2024-11-13T16:44:56.761Z"
   },
   {
    "duration": 36,
    "start_time": "2024-11-13T16:44:56.871Z"
   },
   {
    "duration": 5,
    "start_time": "2024-11-13T16:44:56.908Z"
   },
   {
    "duration": 9,
    "start_time": "2024-11-13T16:44:56.915Z"
   },
   {
    "duration": 101,
    "start_time": "2024-11-13T16:44:56.925Z"
   },
   {
    "duration": 229,
    "start_time": "2024-11-13T16:44:57.030Z"
   },
   {
    "duration": 6,
    "start_time": "2024-11-13T16:44:57.261Z"
   },
   {
    "duration": 20950,
    "start_time": "2024-11-13T16:46:58.706Z"
   },
   {
    "duration": 20993,
    "start_time": "2024-11-13T16:48:21.867Z"
   },
   {
    "duration": 7,
    "start_time": "2024-11-13T17:10:23.032Z"
   },
   {
    "duration": 451,
    "start_time": "2024-11-13T17:12:46.591Z"
   },
   {
    "duration": 920,
    "start_time": "2024-11-13T17:13:12.619Z"
   },
   {
    "duration": 16,
    "start_time": "2024-11-13T17:13:13.541Z"
   },
   {
    "duration": 9,
    "start_time": "2024-11-13T17:13:13.559Z"
   },
   {
    "duration": 13,
    "start_time": "2024-11-13T17:13:13.571Z"
   },
   {
    "duration": 23,
    "start_time": "2024-11-13T17:13:13.586Z"
   },
   {
    "duration": 48,
    "start_time": "2024-11-13T17:13:13.611Z"
   },
   {
    "duration": 14,
    "start_time": "2024-11-13T17:13:13.661Z"
   },
   {
    "duration": 30,
    "start_time": "2024-11-13T17:13:13.676Z"
   },
   {
    "duration": 5,
    "start_time": "2024-11-13T17:13:13.708Z"
   },
   {
    "duration": 5,
    "start_time": "2024-11-13T17:13:13.717Z"
   },
   {
    "duration": 6,
    "start_time": "2024-11-13T17:13:13.723Z"
   },
   {
    "duration": 5,
    "start_time": "2024-11-13T17:13:13.731Z"
   },
   {
    "duration": 11,
    "start_time": "2024-11-13T17:13:13.738Z"
   },
   {
    "duration": 5,
    "start_time": "2024-11-13T17:13:13.750Z"
   },
   {
    "duration": 5,
    "start_time": "2024-11-13T17:13:13.757Z"
   },
   {
    "duration": 4,
    "start_time": "2024-11-13T17:13:13.806Z"
   },
   {
    "duration": 5,
    "start_time": "2024-11-13T17:13:13.811Z"
   },
   {
    "duration": 5,
    "start_time": "2024-11-13T17:13:13.817Z"
   },
   {
    "duration": 6,
    "start_time": "2024-11-13T17:13:13.824Z"
   },
   {
    "duration": 5,
    "start_time": "2024-11-13T17:13:13.832Z"
   },
   {
    "duration": 4,
    "start_time": "2024-11-13T17:13:13.839Z"
   },
   {
    "duration": 6,
    "start_time": "2024-11-13T17:13:13.845Z"
   },
   {
    "duration": 69,
    "start_time": "2024-11-13T17:13:13.853Z"
   },
   {
    "duration": 17,
    "start_time": "2024-11-13T17:13:13.924Z"
   },
   {
    "duration": 6,
    "start_time": "2024-11-13T17:13:13.943Z"
   },
   {
    "duration": 19,
    "start_time": "2024-11-13T17:13:13.950Z"
   },
   {
    "duration": 190,
    "start_time": "2024-11-13T17:13:13.971Z"
   },
   {
    "duration": 29,
    "start_time": "2024-11-13T17:13:14.165Z"
   },
   {
    "duration": 152,
    "start_time": "2024-11-13T17:13:14.206Z"
   },
   {
    "duration": 3,
    "start_time": "2024-11-13T17:13:14.360Z"
   },
   {
    "duration": 22,
    "start_time": "2024-11-13T17:13:14.365Z"
   },
   {
    "duration": 20875,
    "start_time": "2024-11-13T17:13:14.388Z"
   },
   {
    "duration": 200,
    "start_time": "2024-11-13T17:13:35.267Z"
   },
   {
    "duration": 143,
    "start_time": "2024-11-13T17:13:35.469Z"
   },
   {
    "duration": 110,
    "start_time": "2024-11-13T17:13:35.614Z"
   },
   {
    "duration": 21,
    "start_time": "2024-11-13T17:13:35.726Z"
   },
   {
    "duration": 54,
    "start_time": "2024-11-13T17:13:35.751Z"
   },
   {
    "duration": 9,
    "start_time": "2024-11-13T17:13:35.810Z"
   },
   {
    "duration": 99,
    "start_time": "2024-11-13T17:13:35.823Z"
   },
   {
    "duration": 230,
    "start_time": "2024-11-13T17:13:35.926Z"
   },
   {
    "duration": 7,
    "start_time": "2024-11-13T17:13:36.158Z"
   },
   {
    "duration": 887,
    "start_time": "2024-11-13T17:15:20.826Z"
   },
   {
    "duration": 19,
    "start_time": "2024-11-13T17:15:21.715Z"
   },
   {
    "duration": 12,
    "start_time": "2024-11-13T17:15:21.735Z"
   },
   {
    "duration": 15,
    "start_time": "2024-11-13T17:15:21.749Z"
   },
   {
    "duration": 10,
    "start_time": "2024-11-13T17:15:21.766Z"
   },
   {
    "duration": 67,
    "start_time": "2024-11-13T17:15:21.777Z"
   },
   {
    "duration": 15,
    "start_time": "2024-11-13T17:15:21.845Z"
   },
   {
    "duration": 7,
    "start_time": "2024-11-13T17:15:21.862Z"
   },
   {
    "duration": 5,
    "start_time": "2024-11-13T17:15:21.870Z"
   },
   {
    "duration": 29,
    "start_time": "2024-11-13T17:15:21.878Z"
   },
   {
    "duration": 6,
    "start_time": "2024-11-13T17:15:21.908Z"
   },
   {
    "duration": 5,
    "start_time": "2024-11-13T17:15:21.916Z"
   },
   {
    "duration": 11,
    "start_time": "2024-11-13T17:15:21.923Z"
   },
   {
    "duration": 5,
    "start_time": "2024-11-13T17:15:21.935Z"
   },
   {
    "duration": 6,
    "start_time": "2024-11-13T17:15:21.942Z"
   },
   {
    "duration": 4,
    "start_time": "2024-11-13T17:15:21.949Z"
   },
   {
    "duration": 51,
    "start_time": "2024-11-13T17:15:21.955Z"
   },
   {
    "duration": 4,
    "start_time": "2024-11-13T17:15:22.008Z"
   },
   {
    "duration": 8,
    "start_time": "2024-11-13T17:15:22.013Z"
   },
   {
    "duration": 6,
    "start_time": "2024-11-13T17:15:22.022Z"
   },
   {
    "duration": 3,
    "start_time": "2024-11-13T17:15:22.030Z"
   },
   {
    "duration": 6,
    "start_time": "2024-11-13T17:15:22.035Z"
   },
   {
    "duration": 24,
    "start_time": "2024-11-13T17:15:22.043Z"
   },
   {
    "duration": 17,
    "start_time": "2024-11-13T17:15:22.105Z"
   },
   {
    "duration": 6,
    "start_time": "2024-11-13T17:15:22.124Z"
   },
   {
    "duration": 19,
    "start_time": "2024-11-13T17:15:22.131Z"
   },
   {
    "duration": 186,
    "start_time": "2024-11-13T17:15:22.152Z"
   },
   {
    "duration": 29,
    "start_time": "2024-11-13T17:15:22.342Z"
   },
   {
    "duration": 164,
    "start_time": "2024-11-13T17:15:22.373Z"
   },
   {
    "duration": 4,
    "start_time": "2024-11-13T17:15:22.539Z"
   },
   {
    "duration": 22,
    "start_time": "2024-11-13T17:15:22.545Z"
   },
   {
    "duration": 20923,
    "start_time": "2024-11-13T17:15:22.568Z"
   },
   {
    "duration": 197,
    "start_time": "2024-11-13T17:15:43.494Z"
   },
   {
    "duration": 140,
    "start_time": "2024-11-13T17:15:43.692Z"
   },
   {
    "duration": 110,
    "start_time": "2024-11-13T17:15:43.834Z"
   },
   {
    "duration": 23,
    "start_time": "2024-11-13T17:15:43.946Z"
   },
   {
    "duration": 34,
    "start_time": "2024-11-13T17:15:43.972Z"
   },
   {
    "duration": 9,
    "start_time": "2024-11-13T17:15:44.010Z"
   },
   {
    "duration": 102,
    "start_time": "2024-11-13T17:15:44.024Z"
   },
   {
    "duration": 228,
    "start_time": "2024-11-13T17:15:44.131Z"
   },
   {
    "duration": 6,
    "start_time": "2024-11-13T17:15:44.361Z"
   },
   {
    "duration": 425,
    "start_time": "2024-11-13T17:16:38.844Z"
   },
   {
    "duration": 947,
    "start_time": "2024-11-13T17:16:46.396Z"
   },
   {
    "duration": 16,
    "start_time": "2024-11-13T17:16:47.346Z"
   },
   {
    "duration": 9,
    "start_time": "2024-11-13T17:16:47.363Z"
   },
   {
    "duration": 13,
    "start_time": "2024-11-13T17:16:47.375Z"
   },
   {
    "duration": 26,
    "start_time": "2024-11-13T17:16:47.389Z"
   },
   {
    "duration": 43,
    "start_time": "2024-11-13T17:16:47.417Z"
   },
   {
    "duration": 14,
    "start_time": "2024-11-13T17:16:47.462Z"
   },
   {
    "duration": 28,
    "start_time": "2024-11-13T17:16:47.478Z"
   },
   {
    "duration": 5,
    "start_time": "2024-11-13T17:16:47.507Z"
   },
   {
    "duration": 5,
    "start_time": "2024-11-13T17:16:47.516Z"
   },
   {
    "duration": 6,
    "start_time": "2024-11-13T17:16:47.523Z"
   },
   {
    "duration": 5,
    "start_time": "2024-11-13T17:16:47.531Z"
   },
   {
    "duration": 11,
    "start_time": "2024-11-13T17:16:47.537Z"
   },
   {
    "duration": 6,
    "start_time": "2024-11-13T17:16:47.549Z"
   },
   {
    "duration": 6,
    "start_time": "2024-11-13T17:16:47.556Z"
   },
   {
    "duration": 46,
    "start_time": "2024-11-13T17:16:47.563Z"
   },
   {
    "duration": 5,
    "start_time": "2024-11-13T17:16:47.610Z"
   },
   {
    "duration": 5,
    "start_time": "2024-11-13T17:16:47.617Z"
   },
   {
    "duration": 6,
    "start_time": "2024-11-13T17:16:47.623Z"
   },
   {
    "duration": 5,
    "start_time": "2024-11-13T17:16:47.630Z"
   },
   {
    "duration": 4,
    "start_time": "2024-11-13T17:16:47.637Z"
   },
   {
    "duration": 6,
    "start_time": "2024-11-13T17:16:47.642Z"
   },
   {
    "duration": 64,
    "start_time": "2024-11-13T17:16:47.650Z"
   },
   {
    "duration": 17,
    "start_time": "2024-11-13T17:16:47.716Z"
   },
   {
    "duration": 7,
    "start_time": "2024-11-13T17:16:47.735Z"
   },
   {
    "duration": 19,
    "start_time": "2024-11-13T17:16:47.743Z"
   },
   {
    "duration": 189,
    "start_time": "2024-11-13T17:16:47.764Z"
   },
   {
    "duration": 27,
    "start_time": "2024-11-13T17:16:47.958Z"
   },
   {
    "duration": 154,
    "start_time": "2024-11-13T17:16:47.986Z"
   },
   {
    "duration": 3,
    "start_time": "2024-11-13T17:16:48.142Z"
   },
   {
    "duration": 23,
    "start_time": "2024-11-13T17:16:48.147Z"
   },
   {
    "duration": 20881,
    "start_time": "2024-11-13T17:16:48.171Z"
   },
   {
    "duration": 198,
    "start_time": "2024-11-13T17:17:09.054Z"
   },
   {
    "duration": 150,
    "start_time": "2024-11-13T17:17:09.255Z"
   },
   {
    "duration": 108,
    "start_time": "2024-11-13T17:17:09.407Z"
   },
   {
    "duration": 23,
    "start_time": "2024-11-13T17:17:09.517Z"
   },
   {
    "duration": 3,
    "start_time": "2024-11-13T17:17:09.542Z"
   },
   {
    "duration": 65,
    "start_time": "2024-11-13T17:17:09.547Z"
   },
   {
    "duration": 104,
    "start_time": "2024-11-13T17:17:09.614Z"
   },
   {
    "duration": 296,
    "start_time": "2024-11-13T17:17:09.720Z"
   },
   {
    "duration": 7,
    "start_time": "2024-11-13T17:17:10.018Z"
   },
   {
    "duration": 647,
    "start_time": "2024-11-13T17:20:20.179Z"
   },
   {
    "duration": 21,
    "start_time": "2024-11-13T17:22:45.030Z"
   },
   {
    "duration": 8,
    "start_time": "2024-11-13T17:25:26.825Z"
   },
   {
    "duration": 17,
    "start_time": "2024-11-13T17:27:21.310Z"
   },
   {
    "duration": 187,
    "start_time": "2024-11-13T17:27:32.368Z"
   },
   {
    "duration": 15,
    "start_time": "2024-11-13T17:29:44.563Z"
   },
   {
    "duration": 75,
    "start_time": "2024-11-13T17:30:06.277Z"
   },
   {
    "duration": 881,
    "start_time": "2024-11-13T17:31:15.203Z"
   },
   {
    "duration": 17,
    "start_time": "2024-11-13T17:31:16.086Z"
   },
   {
    "duration": 10,
    "start_time": "2024-11-13T17:31:16.105Z"
   },
   {
    "duration": 14,
    "start_time": "2024-11-13T17:31:16.118Z"
   },
   {
    "duration": 56,
    "start_time": "2024-11-13T17:31:16.133Z"
   },
   {
    "duration": 17,
    "start_time": "2024-11-13T17:31:16.190Z"
   },
   {
    "duration": 14,
    "start_time": "2024-11-13T17:31:16.208Z"
   },
   {
    "duration": 6,
    "start_time": "2024-11-13T17:31:16.224Z"
   },
   {
    "duration": 5,
    "start_time": "2024-11-13T17:31:16.231Z"
   },
   {
    "duration": 5,
    "start_time": "2024-11-13T17:31:16.239Z"
   },
   {
    "duration": 5,
    "start_time": "2024-11-13T17:31:16.246Z"
   },
   {
    "duration": 4,
    "start_time": "2024-11-13T17:31:16.253Z"
   },
   {
    "duration": 12,
    "start_time": "2024-11-13T17:31:16.305Z"
   },
   {
    "duration": 6,
    "start_time": "2024-11-13T17:31:16.318Z"
   },
   {
    "duration": 6,
    "start_time": "2024-11-13T17:31:16.327Z"
   },
   {
    "duration": 5,
    "start_time": "2024-11-13T17:31:16.334Z"
   },
   {
    "duration": 5,
    "start_time": "2024-11-13T17:31:16.340Z"
   },
   {
    "duration": 4,
    "start_time": "2024-11-13T17:31:16.347Z"
   },
   {
    "duration": 6,
    "start_time": "2024-11-13T17:31:16.353Z"
   },
   {
    "duration": 48,
    "start_time": "2024-11-13T17:31:16.361Z"
   },
   {
    "duration": 4,
    "start_time": "2024-11-13T17:31:16.410Z"
   },
   {
    "duration": 6,
    "start_time": "2024-11-13T17:31:16.416Z"
   },
   {
    "duration": 24,
    "start_time": "2024-11-13T17:31:16.424Z"
   },
   {
    "duration": 18,
    "start_time": "2024-11-13T17:31:16.449Z"
   },
   {
    "duration": 40,
    "start_time": "2024-11-13T17:31:16.468Z"
   },
   {
    "duration": 19,
    "start_time": "2024-11-13T17:31:16.509Z"
   },
   {
    "duration": 181,
    "start_time": "2024-11-13T17:31:16.529Z"
   },
   {
    "duration": 28,
    "start_time": "2024-11-13T17:31:16.715Z"
   },
   {
    "duration": 155,
    "start_time": "2024-11-13T17:31:16.745Z"
   },
   {
    "duration": 3,
    "start_time": "2024-11-13T17:31:16.905Z"
   },
   {
    "duration": 23,
    "start_time": "2024-11-13T17:31:16.910Z"
   },
   {
    "duration": 20876,
    "start_time": "2024-11-13T17:31:16.934Z"
   },
   {
    "duration": 203,
    "start_time": "2024-11-13T17:31:37.812Z"
   },
   {
    "duration": 140,
    "start_time": "2024-11-13T17:31:38.017Z"
   },
   {
    "duration": 110,
    "start_time": "2024-11-13T17:31:38.159Z"
   },
   {
    "duration": 41,
    "start_time": "2024-11-13T17:31:38.270Z"
   },
   {
    "duration": 4,
    "start_time": "2024-11-13T17:31:38.313Z"
   },
   {
    "duration": 86,
    "start_time": "2024-11-13T17:31:38.319Z"
   },
   {
    "duration": 23,
    "start_time": "2024-11-13T17:31:38.407Z"
   },
   {
    "duration": 226,
    "start_time": "2024-11-13T17:31:38.432Z"
   },
   {
    "duration": 7,
    "start_time": "2024-11-13T17:31:38.659Z"
   },
   {
    "duration": 549,
    "start_time": "2024-11-13T17:31:38.668Z"
   },
   {
    "duration": 0,
    "start_time": "2024-11-13T17:31:39.219Z"
   },
   {
    "duration": 73,
    "start_time": "2024-11-13T17:32:36.829Z"
   },
   {
    "duration": 903,
    "start_time": "2024-11-13T17:32:51.261Z"
   },
   {
    "duration": 17,
    "start_time": "2024-11-13T17:32:52.166Z"
   },
   {
    "duration": 9,
    "start_time": "2024-11-13T17:32:52.186Z"
   },
   {
    "duration": 15,
    "start_time": "2024-11-13T17:32:52.204Z"
   },
   {
    "duration": 50,
    "start_time": "2024-11-13T17:32:52.221Z"
   },
   {
    "duration": 3,
    "start_time": "2024-11-13T17:32:52.273Z"
   },
   {
    "duration": 38,
    "start_time": "2024-11-13T17:32:52.278Z"
   },
   {
    "duration": 6,
    "start_time": "2024-11-13T17:32:52.318Z"
   },
   {
    "duration": 4,
    "start_time": "2024-11-13T17:32:52.326Z"
   },
   {
    "duration": 4,
    "start_time": "2024-11-13T17:32:52.334Z"
   },
   {
    "duration": 6,
    "start_time": "2024-11-13T17:32:52.340Z"
   },
   {
    "duration": 5,
    "start_time": "2024-11-13T17:32:52.347Z"
   },
   {
    "duration": 11,
    "start_time": "2024-11-13T17:32:52.354Z"
   },
   {
    "duration": 6,
    "start_time": "2024-11-13T17:32:52.405Z"
   },
   {
    "duration": 7,
    "start_time": "2024-11-13T17:32:52.412Z"
   },
   {
    "duration": 6,
    "start_time": "2024-11-13T17:32:52.421Z"
   },
   {
    "duration": 6,
    "start_time": "2024-11-13T17:32:52.428Z"
   },
   {
    "duration": 5,
    "start_time": "2024-11-13T17:32:52.436Z"
   },
   {
    "duration": 9,
    "start_time": "2024-11-13T17:32:52.443Z"
   },
   {
    "duration": 6,
    "start_time": "2024-11-13T17:32:52.454Z"
   },
   {
    "duration": 4,
    "start_time": "2024-11-13T17:32:52.462Z"
   },
   {
    "duration": 7,
    "start_time": "2024-11-13T17:32:52.507Z"
   },
   {
    "duration": 24,
    "start_time": "2024-11-13T17:32:52.516Z"
   },
   {
    "duration": 17,
    "start_time": "2024-11-13T17:32:52.541Z"
   },
   {
    "duration": 6,
    "start_time": "2024-11-13T17:32:52.560Z"
   },
   {
    "duration": 52,
    "start_time": "2024-11-13T17:32:52.568Z"
   },
   {
    "duration": 171,
    "start_time": "2024-11-13T17:32:52.622Z"
   },
   {
    "duration": 33,
    "start_time": "2024-11-13T17:32:52.797Z"
   },
   {
    "duration": 151,
    "start_time": "2024-11-13T17:32:52.832Z"
   },
   {
    "duration": 4,
    "start_time": "2024-11-13T17:32:52.985Z"
   },
   {
    "duration": 35,
    "start_time": "2024-11-13T17:32:52.990Z"
   },
   {
    "duration": 20941,
    "start_time": "2024-11-13T17:32:53.027Z"
   },
   {
    "duration": 202,
    "start_time": "2024-11-13T17:33:13.970Z"
   },
   {
    "duration": 137,
    "start_time": "2024-11-13T17:33:14.174Z"
   },
   {
    "duration": 104,
    "start_time": "2024-11-13T17:33:14.314Z"
   },
   {
    "duration": 22,
    "start_time": "2024-11-13T17:33:14.420Z"
   },
   {
    "duration": 6,
    "start_time": "2024-11-13T17:33:14.445Z"
   },
   {
    "duration": 16,
    "start_time": "2024-11-13T17:33:14.506Z"
   },
   {
    "duration": 89,
    "start_time": "2024-11-13T17:33:14.527Z"
   },
   {
    "duration": 238,
    "start_time": "2024-11-13T17:33:14.619Z"
   },
   {
    "duration": 7,
    "start_time": "2024-11-13T17:33:14.859Z"
   },
   {
    "duration": 14,
    "start_time": "2024-11-13T17:33:14.906Z"
   },
   {
    "duration": 556,
    "start_time": "2024-11-13T17:33:14.921Z"
   },
   {
    "duration": 39,
    "start_time": "2024-11-13T17:34:09.278Z"
   },
   {
    "duration": 19,
    "start_time": "2024-11-13T17:35:51.779Z"
   },
   {
    "duration": 8,
    "start_time": "2024-11-13T17:36:14.207Z"
   },
   {
    "duration": 14,
    "start_time": "2024-11-13T17:36:17.892Z"
   },
   {
    "duration": 7,
    "start_time": "2024-11-13T17:36:22.399Z"
   },
   {
    "duration": 14,
    "start_time": "2024-11-13T17:40:33.484Z"
   },
   {
    "duration": 99,
    "start_time": "2024-11-13T17:40:42.496Z"
   },
   {
    "duration": 99,
    "start_time": "2024-11-13T17:40:54.170Z"
   },
   {
    "duration": 107,
    "start_time": "2024-11-13T18:02:39.990Z"
   },
   {
    "duration": 98,
    "start_time": "2024-11-13T18:02:48.368Z"
   },
   {
    "duration": 97,
    "start_time": "2024-11-13T19:37:31.551Z"
   },
   {
    "duration": 2,
    "start_time": "2024-11-13T19:46:36.325Z"
   },
   {
    "duration": 16,
    "start_time": "2024-11-13T19:48:30.815Z"
   },
   {
    "duration": 12,
    "start_time": "2024-11-13T19:48:47.194Z"
   },
   {
    "duration": 15,
    "start_time": "2024-11-13T19:50:08.603Z"
   },
   {
    "duration": 13,
    "start_time": "2024-11-13T19:53:39.038Z"
   },
   {
    "duration": 34,
    "start_time": "2024-11-13T19:58:52.590Z"
   },
   {
    "duration": 22,
    "start_time": "2024-11-13T19:59:04.060Z"
   },
   {
    "duration": 4,
    "start_time": "2024-11-13T20:22:56.448Z"
   },
   {
    "duration": 4,
    "start_time": "2024-11-13T20:23:00.599Z"
   },
   {
    "duration": 58,
    "start_time": "2024-11-13T21:03:15.379Z"
   },
   {
    "duration": 239,
    "start_time": "2024-11-13T21:05:00.230Z"
   },
   {
    "duration": 969,
    "start_time": "2024-11-13T21:05:30.251Z"
   },
   {
    "duration": 17,
    "start_time": "2024-11-13T21:05:31.222Z"
   },
   {
    "duration": 11,
    "start_time": "2024-11-13T21:05:31.240Z"
   },
   {
    "duration": 14,
    "start_time": "2024-11-13T21:05:31.253Z"
   },
   {
    "duration": 11,
    "start_time": "2024-11-13T21:05:31.268Z"
   },
   {
    "duration": 74,
    "start_time": "2024-11-13T21:05:31.281Z"
   },
   {
    "duration": 15,
    "start_time": "2024-11-13T21:05:31.357Z"
   },
   {
    "duration": 8,
    "start_time": "2024-11-13T21:05:31.373Z"
   },
   {
    "duration": 27,
    "start_time": "2024-11-13T21:05:31.382Z"
   },
   {
    "duration": 6,
    "start_time": "2024-11-13T21:05:31.414Z"
   },
   {
    "duration": 9,
    "start_time": "2024-11-13T21:05:31.423Z"
   },
   {
    "duration": 6,
    "start_time": "2024-11-13T21:05:31.435Z"
   },
   {
    "duration": 20,
    "start_time": "2024-11-13T21:05:31.443Z"
   },
   {
    "duration": 6,
    "start_time": "2024-11-13T21:05:31.465Z"
   },
   {
    "duration": 36,
    "start_time": "2024-11-13T21:05:31.473Z"
   },
   {
    "duration": 7,
    "start_time": "2024-11-13T21:05:31.510Z"
   },
   {
    "duration": 4,
    "start_time": "2024-11-13T21:05:31.519Z"
   },
   {
    "duration": 5,
    "start_time": "2024-11-13T21:05:31.525Z"
   },
   {
    "duration": 7,
    "start_time": "2024-11-13T21:05:31.531Z"
   },
   {
    "duration": 6,
    "start_time": "2024-11-13T21:05:31.540Z"
   },
   {
    "duration": 4,
    "start_time": "2024-11-13T21:05:31.547Z"
   },
   {
    "duration": 6,
    "start_time": "2024-11-13T21:05:31.553Z"
   },
   {
    "duration": 71,
    "start_time": "2024-11-13T21:05:31.560Z"
   },
   {
    "duration": 17,
    "start_time": "2024-11-13T21:05:31.633Z"
   },
   {
    "duration": 7,
    "start_time": "2024-11-13T21:05:31.651Z"
   },
   {
    "duration": 46,
    "start_time": "2024-11-13T21:05:31.659Z"
   },
   {
    "duration": 173,
    "start_time": "2024-11-13T21:05:31.707Z"
   },
   {
    "duration": 31,
    "start_time": "2024-11-13T21:05:31.884Z"
   },
   {
    "duration": 149,
    "start_time": "2024-11-13T21:05:31.916Z"
   },
   {
    "duration": 3,
    "start_time": "2024-11-13T21:05:32.067Z"
   },
   {
    "duration": 35,
    "start_time": "2024-11-13T21:05:32.072Z"
   },
   {
    "duration": 21158,
    "start_time": "2024-11-13T21:05:32.108Z"
   },
   {
    "duration": 200,
    "start_time": "2024-11-13T21:05:53.268Z"
   },
   {
    "duration": 160,
    "start_time": "2024-11-13T21:05:53.470Z"
   },
   {
    "duration": 111,
    "start_time": "2024-11-13T21:05:53.632Z"
   },
   {
    "duration": 60,
    "start_time": "2024-11-13T21:05:53.745Z"
   },
   {
    "duration": 6,
    "start_time": "2024-11-13T21:05:53.806Z"
   },
   {
    "duration": 9,
    "start_time": "2024-11-13T21:05:53.815Z"
   },
   {
    "duration": 98,
    "start_time": "2024-11-13T21:05:53.825Z"
   },
   {
    "duration": 234,
    "start_time": "2024-11-13T21:05:53.925Z"
   },
   {
    "duration": 8,
    "start_time": "2024-11-13T21:05:54.161Z"
   },
   {
    "duration": 14,
    "start_time": "2024-11-13T21:05:54.171Z"
   },
   {
    "duration": 25,
    "start_time": "2024-11-13T21:05:54.186Z"
   },
   {
    "duration": 111,
    "start_time": "2024-11-13T21:05:54.212Z"
   },
   {
    "duration": 22,
    "start_time": "2024-11-13T21:05:54.325Z"
   },
   {
    "duration": 948,
    "start_time": "2024-11-13T21:06:51.150Z"
   },
   {
    "duration": 25,
    "start_time": "2024-11-13T21:06:52.104Z"
   },
   {
    "duration": 13,
    "start_time": "2024-11-13T21:06:52.131Z"
   },
   {
    "duration": 20,
    "start_time": "2024-11-13T21:06:52.147Z"
   },
   {
    "duration": 10,
    "start_time": "2024-11-13T21:06:52.169Z"
   },
   {
    "duration": 82,
    "start_time": "2024-11-13T21:06:52.181Z"
   },
   {
    "duration": 16,
    "start_time": "2024-11-13T21:06:52.265Z"
   },
   {
    "duration": 25,
    "start_time": "2024-11-13T21:06:52.282Z"
   },
   {
    "duration": 5,
    "start_time": "2024-11-13T21:06:52.309Z"
   },
   {
    "duration": 8,
    "start_time": "2024-11-13T21:06:52.317Z"
   },
   {
    "duration": 8,
    "start_time": "2024-11-13T21:06:52.326Z"
   },
   {
    "duration": 5,
    "start_time": "2024-11-13T21:06:52.336Z"
   },
   {
    "duration": 16,
    "start_time": "2024-11-13T21:06:52.343Z"
   },
   {
    "duration": 7,
    "start_time": "2024-11-13T21:06:52.361Z"
   },
   {
    "duration": 9,
    "start_time": "2024-11-13T21:06:52.406Z"
   },
   {
    "duration": 20,
    "start_time": "2024-11-13T21:06:52.417Z"
   },
   {
    "duration": 15,
    "start_time": "2024-11-13T21:06:52.439Z"
   },
   {
    "duration": 9,
    "start_time": "2024-11-13T21:06:52.467Z"
   },
   {
    "duration": 8,
    "start_time": "2024-11-13T21:06:52.478Z"
   },
   {
    "duration": 5,
    "start_time": "2024-11-13T21:06:52.487Z"
   },
   {
    "duration": 11,
    "start_time": "2024-11-13T21:06:52.494Z"
   },
   {
    "duration": 10,
    "start_time": "2024-11-13T21:06:52.511Z"
   },
   {
    "duration": 37,
    "start_time": "2024-11-13T21:06:52.524Z"
   },
   {
    "duration": 18,
    "start_time": "2024-11-13T21:06:52.563Z"
   },
   {
    "duration": 22,
    "start_time": "2024-11-13T21:06:52.583Z"
   },
   {
    "duration": 27,
    "start_time": "2024-11-13T21:06:52.607Z"
   },
   {
    "duration": 188,
    "start_time": "2024-11-13T21:06:52.636Z"
   },
   {
    "duration": 28,
    "start_time": "2024-11-13T21:06:52.829Z"
   },
   {
    "duration": 176,
    "start_time": "2024-11-13T21:06:52.859Z"
   },
   {
    "duration": 4,
    "start_time": "2024-11-13T21:06:53.037Z"
   },
   {
    "duration": 28,
    "start_time": "2024-11-13T21:06:53.043Z"
   },
   {
    "duration": 21314,
    "start_time": "2024-11-13T21:06:53.073Z"
   },
   {
    "duration": 229,
    "start_time": "2024-11-13T21:07:14.389Z"
   },
   {
    "duration": 164,
    "start_time": "2024-11-13T21:07:14.621Z"
   },
   {
    "duration": 111,
    "start_time": "2024-11-13T21:07:14.787Z"
   },
   {
    "duration": 39,
    "start_time": "2024-11-13T21:07:14.900Z"
   },
   {
    "duration": 65,
    "start_time": "2024-11-13T21:07:14.941Z"
   },
   {
    "duration": 14,
    "start_time": "2024-11-13T21:07:15.009Z"
   },
   {
    "duration": 79,
    "start_time": "2024-11-13T21:07:15.025Z"
   },
   {
    "duration": 260,
    "start_time": "2024-11-13T21:07:15.106Z"
   },
   {
    "duration": 10,
    "start_time": "2024-11-13T21:07:15.368Z"
   },
   {
    "duration": 35,
    "start_time": "2024-11-13T21:07:15.382Z"
   },
   {
    "duration": 11,
    "start_time": "2024-11-13T21:07:15.419Z"
   },
   {
    "duration": 153,
    "start_time": "2024-11-13T21:07:15.432Z"
   },
   {
    "duration": 27,
    "start_time": "2024-11-13T21:07:15.587Z"
   },
   {
    "duration": 455,
    "start_time": "2024-11-13T21:13:27.541Z"
   },
   {
    "duration": 896,
    "start_time": "2024-11-13T21:13:38.810Z"
   },
   {
    "duration": 16,
    "start_time": "2024-11-13T21:13:39.709Z"
   },
   {
    "duration": 10,
    "start_time": "2024-11-13T21:13:39.727Z"
   },
   {
    "duration": 13,
    "start_time": "2024-11-13T21:13:39.739Z"
   },
   {
    "duration": 11,
    "start_time": "2024-11-13T21:13:39.754Z"
   },
   {
    "duration": 73,
    "start_time": "2024-11-13T21:13:39.767Z"
   },
   {
    "duration": 14,
    "start_time": "2024-11-13T21:13:39.842Z"
   },
   {
    "duration": 6,
    "start_time": "2024-11-13T21:13:39.859Z"
   },
   {
    "duration": 5,
    "start_time": "2024-11-13T21:13:39.866Z"
   },
   {
    "duration": 5,
    "start_time": "2024-11-13T21:13:39.875Z"
   },
   {
    "duration": 8,
    "start_time": "2024-11-13T21:13:39.906Z"
   },
   {
    "duration": 5,
    "start_time": "2024-11-13T21:13:39.917Z"
   },
   {
    "duration": 13,
    "start_time": "2024-11-13T21:13:39.924Z"
   },
   {
    "duration": 5,
    "start_time": "2024-11-13T21:13:39.939Z"
   },
   {
    "duration": 6,
    "start_time": "2024-11-13T21:13:39.946Z"
   },
   {
    "duration": 5,
    "start_time": "2024-11-13T21:13:39.953Z"
   },
   {
    "duration": 5,
    "start_time": "2024-11-13T21:13:39.959Z"
   },
   {
    "duration": 5,
    "start_time": "2024-11-13T21:13:40.006Z"
   },
   {
    "duration": 7,
    "start_time": "2024-11-13T21:13:40.013Z"
   },
   {
    "duration": 6,
    "start_time": "2024-11-13T21:13:40.022Z"
   },
   {
    "duration": 3,
    "start_time": "2024-11-13T21:13:40.030Z"
   },
   {
    "duration": 6,
    "start_time": "2024-11-13T21:13:40.035Z"
   },
   {
    "duration": 22,
    "start_time": "2024-11-13T21:13:40.043Z"
   },
   {
    "duration": 55,
    "start_time": "2024-11-13T21:13:40.067Z"
   },
   {
    "duration": 7,
    "start_time": "2024-11-13T21:13:40.124Z"
   },
   {
    "duration": 20,
    "start_time": "2024-11-13T21:13:40.133Z"
   },
   {
    "duration": 194,
    "start_time": "2024-11-13T21:13:40.155Z"
   },
   {
    "duration": 27,
    "start_time": "2024-11-13T21:13:40.353Z"
   },
   {
    "duration": 158,
    "start_time": "2024-11-13T21:13:40.382Z"
   },
   {
    "duration": 4,
    "start_time": "2024-11-13T21:13:40.541Z"
   },
   {
    "duration": 22,
    "start_time": "2024-11-13T21:13:40.547Z"
   },
   {
    "duration": 21126,
    "start_time": "2024-11-13T21:13:40.571Z"
   },
   {
    "duration": 207,
    "start_time": "2024-11-13T21:14:01.699Z"
   },
   {
    "duration": 147,
    "start_time": "2024-11-13T21:14:01.907Z"
   },
   {
    "duration": 113,
    "start_time": "2024-11-13T21:14:02.056Z"
   },
   {
    "duration": 35,
    "start_time": "2024-11-13T21:14:02.172Z"
   },
   {
    "duration": 8,
    "start_time": "2024-11-13T21:14:02.208Z"
   },
   {
    "duration": 87,
    "start_time": "2024-11-13T21:14:02.218Z"
   },
   {
    "duration": 27,
    "start_time": "2024-11-13T21:14:02.307Z"
   },
   {
    "duration": 618,
    "start_time": "2024-11-13T21:14:02.337Z"
   },
   {
    "duration": 0,
    "start_time": "2024-11-13T21:14:02.957Z"
   },
   {
    "duration": 0,
    "start_time": "2024-11-13T21:14:02.959Z"
   },
   {
    "duration": 0,
    "start_time": "2024-11-13T21:14:02.960Z"
   },
   {
    "duration": 0,
    "start_time": "2024-11-13T21:14:02.962Z"
   },
   {
    "duration": 0,
    "start_time": "2024-11-13T21:14:02.963Z"
   },
   {
    "duration": 981,
    "start_time": "2024-11-13T21:14:31.228Z"
   },
   {
    "duration": 17,
    "start_time": "2024-11-13T21:14:32.211Z"
   },
   {
    "duration": 11,
    "start_time": "2024-11-13T21:14:32.230Z"
   },
   {
    "duration": 15,
    "start_time": "2024-11-13T21:14:32.244Z"
   },
   {
    "duration": 87,
    "start_time": "2024-11-13T21:14:32.262Z"
   },
   {
    "duration": 5,
    "start_time": "2024-11-13T21:14:32.351Z"
   },
   {
    "duration": 14,
    "start_time": "2024-11-13T21:14:32.358Z"
   },
   {
    "duration": 7,
    "start_time": "2024-11-13T21:14:32.375Z"
   },
   {
    "duration": 5,
    "start_time": "2024-11-13T21:14:32.405Z"
   },
   {
    "duration": 8,
    "start_time": "2024-11-13T21:14:32.414Z"
   },
   {
    "duration": 7,
    "start_time": "2024-11-13T21:14:32.423Z"
   },
   {
    "duration": 7,
    "start_time": "2024-11-13T21:14:32.432Z"
   },
   {
    "duration": 22,
    "start_time": "2024-11-13T21:14:32.441Z"
   },
   {
    "duration": 15,
    "start_time": "2024-11-13T21:14:32.465Z"
   },
   {
    "duration": 32,
    "start_time": "2024-11-13T21:14:32.482Z"
   },
   {
    "duration": 9,
    "start_time": "2024-11-13T21:14:32.518Z"
   },
   {
    "duration": 4,
    "start_time": "2024-11-13T21:14:32.529Z"
   },
   {
    "duration": 4,
    "start_time": "2024-11-13T21:14:32.535Z"
   },
   {
    "duration": 6,
    "start_time": "2024-11-13T21:14:32.541Z"
   },
   {
    "duration": 5,
    "start_time": "2024-11-13T21:14:32.549Z"
   },
   {
    "duration": 4,
    "start_time": "2024-11-13T21:14:32.555Z"
   },
   {
    "duration": 44,
    "start_time": "2024-11-13T21:14:32.561Z"
   },
   {
    "duration": 37,
    "start_time": "2024-11-13T21:14:32.609Z"
   },
   {
    "duration": 20,
    "start_time": "2024-11-13T21:14:32.648Z"
   },
   {
    "duration": 6,
    "start_time": "2024-11-13T21:14:32.670Z"
   },
   {
    "duration": 54,
    "start_time": "2024-11-13T21:14:32.678Z"
   },
   {
    "duration": 185,
    "start_time": "2024-11-13T21:14:32.734Z"
   },
   {
    "duration": 29,
    "start_time": "2024-11-13T21:14:32.924Z"
   },
   {
    "duration": 158,
    "start_time": "2024-11-13T21:14:32.955Z"
   },
   {
    "duration": 6,
    "start_time": "2024-11-13T21:14:33.115Z"
   },
   {
    "duration": 29,
    "start_time": "2024-11-13T21:14:33.123Z"
   },
   {
    "duration": 21611,
    "start_time": "2024-11-13T21:14:33.155Z"
   },
   {
    "duration": 208,
    "start_time": "2024-11-13T21:14:54.768Z"
   },
   {
    "duration": 155,
    "start_time": "2024-11-13T21:14:54.978Z"
   },
   {
    "duration": 116,
    "start_time": "2024-11-13T21:14:55.135Z"
   },
   {
    "duration": 52,
    "start_time": "2024-11-13T21:14:55.254Z"
   },
   {
    "duration": 7,
    "start_time": "2024-11-13T21:14:55.308Z"
   },
   {
    "duration": 18,
    "start_time": "2024-11-13T21:14:55.317Z"
   },
   {
    "duration": 34,
    "start_time": "2024-11-13T21:14:55.406Z"
   },
   {
    "duration": 238,
    "start_time": "2024-11-13T21:14:55.442Z"
   },
   {
    "duration": 9,
    "start_time": "2024-11-13T21:14:55.706Z"
   },
   {
    "duration": 20,
    "start_time": "2024-11-13T21:14:55.716Z"
   },
   {
    "duration": 8,
    "start_time": "2024-11-13T21:14:55.738Z"
   },
   {
    "duration": 144,
    "start_time": "2024-11-13T21:14:55.748Z"
   },
   {
    "duration": 33,
    "start_time": "2024-11-13T21:14:55.894Z"
   },
   {
    "duration": 25,
    "start_time": "2024-11-13T21:19:41.186Z"
   },
   {
    "duration": 955,
    "start_time": "2024-11-13T21:54:01.552Z"
   },
   {
    "duration": 18,
    "start_time": "2024-11-13T21:54:02.512Z"
   },
   {
    "duration": 11,
    "start_time": "2024-11-13T21:54:02.532Z"
   },
   {
    "duration": 15,
    "start_time": "2024-11-13T21:54:02.547Z"
   },
   {
    "duration": 91,
    "start_time": "2024-11-13T21:54:02.563Z"
   },
   {
    "duration": 4,
    "start_time": "2024-11-13T21:54:02.656Z"
   },
   {
    "duration": 14,
    "start_time": "2024-11-13T21:54:02.662Z"
   },
   {
    "duration": 7,
    "start_time": "2024-11-13T21:54:02.677Z"
   },
   {
    "duration": 24,
    "start_time": "2024-11-13T21:54:02.685Z"
   },
   {
    "duration": 8,
    "start_time": "2024-11-13T21:54:02.716Z"
   },
   {
    "duration": 6,
    "start_time": "2024-11-13T21:54:02.726Z"
   },
   {
    "duration": 5,
    "start_time": "2024-11-13T21:54:02.733Z"
   },
   {
    "duration": 12,
    "start_time": "2024-11-13T21:54:02.739Z"
   },
   {
    "duration": 6,
    "start_time": "2024-11-13T21:54:02.753Z"
   },
   {
    "duration": 7,
    "start_time": "2024-11-13T21:54:02.761Z"
   },
   {
    "duration": 5,
    "start_time": "2024-11-13T21:54:02.806Z"
   },
   {
    "duration": 6,
    "start_time": "2024-11-13T21:54:02.814Z"
   },
   {
    "duration": 4,
    "start_time": "2024-11-13T21:54:02.822Z"
   },
   {
    "duration": 7,
    "start_time": "2024-11-13T21:54:02.828Z"
   },
   {
    "duration": 6,
    "start_time": "2024-11-13T21:54:02.836Z"
   },
   {
    "duration": 4,
    "start_time": "2024-11-13T21:54:02.843Z"
   },
   {
    "duration": 5,
    "start_time": "2024-11-13T21:54:02.849Z"
   },
   {
    "duration": 72,
    "start_time": "2024-11-13T21:54:02.856Z"
   },
   {
    "duration": 19,
    "start_time": "2024-11-13T21:54:02.930Z"
   },
   {
    "duration": 7,
    "start_time": "2024-11-13T21:54:02.951Z"
   },
   {
    "duration": 20,
    "start_time": "2024-11-13T21:54:02.960Z"
   },
   {
    "duration": 176,
    "start_time": "2024-11-13T21:54:03.005Z"
   },
   {
    "duration": 43,
    "start_time": "2024-11-13T21:54:03.187Z"
   },
   {
    "duration": 155,
    "start_time": "2024-11-13T21:54:03.232Z"
   },
   {
    "duration": 4,
    "start_time": "2024-11-13T21:54:03.389Z"
   },
   {
    "duration": 32,
    "start_time": "2024-11-13T21:54:03.395Z"
   },
   {
    "duration": 20943,
    "start_time": "2024-11-13T21:54:03.429Z"
   },
   {
    "duration": 205,
    "start_time": "2024-11-13T21:54:24.375Z"
   },
   {
    "duration": 139,
    "start_time": "2024-11-13T21:54:24.582Z"
   },
   {
    "duration": 111,
    "start_time": "2024-11-13T21:54:24.722Z"
   },
   {
    "duration": 22,
    "start_time": "2024-11-13T21:54:24.835Z"
   },
   {
    "duration": 47,
    "start_time": "2024-11-13T21:54:24.859Z"
   },
   {
    "duration": 8,
    "start_time": "2024-11-13T21:54:24.907Z"
   },
   {
    "duration": 99,
    "start_time": "2024-11-13T21:54:24.917Z"
   },
   {
    "duration": 237,
    "start_time": "2024-11-13T21:54:25.018Z"
   },
   {
    "duration": 8,
    "start_time": "2024-11-13T21:54:25.256Z"
   },
   {
    "duration": 43,
    "start_time": "2024-11-13T21:54:25.267Z"
   },
   {
    "duration": 8,
    "start_time": "2024-11-13T21:54:25.312Z"
   },
   {
    "duration": 110,
    "start_time": "2024-11-13T21:54:25.322Z"
   },
   {
    "duration": 21,
    "start_time": "2024-11-13T21:54:25.433Z"
   },
   {
    "duration": 9,
    "start_time": "2024-11-14T12:05:56.626Z"
   },
   {
    "duration": 3,
    "start_time": "2024-11-14T12:06:35.465Z"
   }
  ],
  "kernelspec": {
   "display_name": "Python 3 (ipykernel)",
   "language": "python",
   "name": "python3"
  },
  "language_info": {
   "codemirror_mode": {
    "name": "ipython",
    "version": 3
   },
   "file_extension": ".py",
   "mimetype": "text/x-python",
   "name": "python",
   "nbconvert_exporter": "python",
   "pygments_lexer": "ipython3",
   "version": "3.9.19"
  },
  "toc": {
   "base_numbering": 1,
   "nav_menu": {
    "height": "103px",
    "width": "160px"
   },
   "number_sections": true,
   "sideBar": true,
   "skip_h1_title": true,
   "title_cell": "Table of Contents",
   "title_sidebar": "Contents",
   "toc_cell": false,
   "toc_position": {
    "height": "calc(100% - 180px)",
    "left": "10px",
    "top": "150px",
    "width": "165px"
   },
   "toc_section_display": true,
   "toc_window_display": true
  }
 },
 "nbformat": 4,
 "nbformat_minor": 2
}
